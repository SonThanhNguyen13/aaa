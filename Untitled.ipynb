{
 "cells": [
  {
   "cell_type": "code",
   "execution_count": 487,
   "metadata": {},
   "outputs": [
    {
     "name": "stdout",
     "output_type": "stream",
     "text": [
      "Defaulting to user installation because normal site-packages is not writeable\n",
      "Requirement already satisfied: imbalanced-learn in /home/nvhuy/.local/lib/python3.7/site-packages (0.8.0)\n",
      "Requirement already satisfied: scipy>=0.19.1 in /home/nvhuy/.local/lib/python3.7/site-packages (from imbalanced-learn) (1.4.1)\n",
      "Requirement already satisfied: joblib>=0.11 in /home/nvhuy/.local/lib/python3.7/site-packages (from imbalanced-learn) (1.0.1)\n",
      "Requirement already satisfied: numpy>=1.13.3 in /home/nvhuy/.local/lib/python3.7/site-packages (from imbalanced-learn) (1.17.0)\n",
      "Requirement already satisfied: scikit-learn>=0.24 in /home/nvhuy/.local/lib/python3.7/site-packages (from imbalanced-learn) (0.24.1)\n",
      "Requirement already satisfied: threadpoolctl>=2.0.0 in /home/nvhuy/.local/lib/python3.7/site-packages (from scikit-learn>=0.24->imbalanced-learn) (2.1.0)\n"
     ]
    }
   ],
   "source": [
    "!pip install imbalanced-learn"
   ]
  },
  {
   "cell_type": "code",
   "execution_count": 1448,
   "metadata": {},
   "outputs": [],
   "source": [
    "import pandas as pd\n",
    "import numpy as np\n",
    "from sklearn.model_selection import train_test_split\n",
    "%matplotlib inline\n",
    "import matplotlib.pyplot as plt\n",
    "from imblearn.under_sampling import RandomUnderSampler"
   ]
  },
  {
   "cell_type": "code",
   "execution_count": 1469,
   "metadata": {},
   "outputs": [],
   "source": [
    "df = pd.read_csv('torii_leg_switch.pcap_Flow.csv')  "
   ]
  },
  {
   "cell_type": "code",
   "execution_count": 1470,
   "metadata": {},
   "outputs": [],
   "source": [
    "df['Label'] = 0"
   ]
  },
  {
   "cell_type": "code",
   "execution_count": 1471,
   "metadata": {},
   "outputs": [
    {
     "data": {
      "text/plain": [
       "0       0\n",
       "1       0\n",
       "2       0\n",
       "3       0\n",
       "4       0\n",
       "       ..\n",
       "5358    0\n",
       "5359    0\n",
       "5360    0\n",
       "5361    0\n",
       "5362    0\n",
       "Name: Label, Length: 5363, dtype: int64"
      ]
     },
     "execution_count": 1471,
     "metadata": {},
     "output_type": "execute_result"
    }
   ],
   "source": [
    "df['Label']"
   ]
  },
  {
   "cell_type": "code",
   "execution_count": 1472,
   "metadata": {},
   "outputs": [],
   "source": [
    "df3 = pd.read_csv('torii_mal_switch.pcap_Flow.csv')  "
   ]
  },
  {
   "cell_type": "code",
   "execution_count": 1473,
   "metadata": {},
   "outputs": [],
   "source": [
    "df3['Label'] = 1"
   ]
  },
  {
   "cell_type": "code",
   "execution_count": 1474,
   "metadata": {},
   "outputs": [],
   "source": [
    "fin_df = pd.concat([df, df3], axis=0, join='inner')"
   ]
  },
  {
   "cell_type": "code",
   "execution_count": 1475,
   "metadata": {},
   "outputs": [],
   "source": [
    "fin_df = fin_df.sample(frac=1).reset_index(drop=True)"
   ]
  },
  {
   "cell_type": "code",
   "execution_count": 1476,
   "metadata": {},
   "outputs": [],
   "source": [
    "# fin_df.to_csv('data.csv')"
   ]
  },
  {
   "cell_type": "code",
   "execution_count": 1477,
   "metadata": {},
   "outputs": [
    {
     "data": {
      "text/plain": [
       "array([[<matplotlib.axes._subplots.AxesSubplot object at 0x7f045401f690>]],\n",
       "      dtype=object)"
      ]
     },
     "execution_count": 1477,
     "metadata": {},
     "output_type": "execute_result"
    },
    {
     "data": {
      "image/png": "[encoded data removed]",
      "text/plain": [
       "<Figure size 432x288 with 1 Axes>"
      ]
     },
     "metadata": {
      "needs_background": "light"
     },
     "output_type": "display_data"
    }
   ],
   "source": [
    "fin_df.hist(column='Label')"
   ]
  },
  {
   "cell_type": "code",
   "execution_count": 1504,
   "metadata": {},
   "outputs": [],
   "source": [
    "undersample = RandomUnderSampler(sampling_strategy='majority')"
   ]
  },
  {
   "cell_type": "code",
   "execution_count": 1479,
   "metadata": {},
   "outputs": [
    {
     "data": {
      "text/plain": [
       "Index(['Flow ID', 'Src IP', 'Src Port', 'Dst IP', 'Dst Port', 'Protocol',\n",
       "       'Timestamp', 'Flow Duration', 'Tot Fwd Pkts', 'Tot Bwd Pkts',\n",
       "       'TotLen Fwd Pkts', 'TotLen Bwd Pkts', 'Fwd Pkt Len Max',\n",
       "       'Fwd Pkt Len Min', 'Fwd Pkt Len Mean', 'Fwd Pkt Len Std',\n",
       "       'Bwd Pkt Len Max', 'Bwd Pkt Len Min', 'Bwd Pkt Len Mean',\n",
       "       'Bwd Pkt Len Std', 'Flow Byts/s', 'Flow Pkts/s', 'Flow IAT Mean',\n",
       "       'Flow IAT Std', 'Flow IAT Max', 'Flow IAT Min', 'Fwd IAT Tot',\n",
       "       'Fwd IAT Mean', 'Fwd IAT Std', 'Fwd IAT Max', 'Fwd IAT Min',\n",
       "       'Bwd IAT Tot', 'Bwd IAT Mean', 'Bwd IAT Std', 'Bwd IAT Max',\n",
       "       'Bwd IAT Min', 'Fwd PSH Flags', 'Bwd PSH Flags', 'Fwd URG Flags',\n",
       "       'Bwd URG Flags', 'Fwd Header Len', 'Bwd Header Len', 'Fwd Pkts/s',\n",
       "       'Bwd Pkts/s', 'Pkt Len Min', 'Pkt Len Max', 'Pkt Len Mean',\n",
       "       'Pkt Len Std', 'Pkt Len Var', 'FIN Flag Cnt', 'SYN Flag Cnt',\n",
       "       'RST Flag Cnt', 'PSH Flag Cnt', 'ACK Flag Cnt', 'URG Flag Cnt',\n",
       "       'CWE Flag Count', 'ECE Flag Cnt', 'Down/Up Ratio', 'Pkt Size Avg',\n",
       "       'Fwd Seg Size Avg', 'Bwd Seg Size Avg', 'Fwd Byts/b Avg',\n",
       "       'Fwd Pkts/b Avg', 'Fwd Blk Rate Avg', 'Bwd Byts/b Avg',\n",
       "       'Bwd Pkts/b Avg', 'Bwd Blk Rate Avg', 'Subflow Fwd Pkts',\n",
       "       'Subflow Fwd Byts', 'Subflow Bwd Pkts', 'Subflow Bwd Byts',\n",
       "       'Init Fwd Win Byts', 'Init Bwd Win Byts', 'Fwd Act Data Pkts',\n",
       "       'Fwd Seg Size Min', 'Active Mean', 'Active Std', 'Active Max',\n",
       "       'Active Min', 'Idle Mean', 'Idle Std', 'Idle Max', 'Idle Min', 'Label'],\n",
       "      dtype='object')"
      ]
     },
     "execution_count": 1479,
     "metadata": {},
     "output_type": "execute_result"
    }
   ],
   "source": [
    "fin_df.columns"
   ]
  },
  {
   "cell_type": "code",
   "execution_count": 1480,
   "metadata": {},
   "outputs": [],
   "source": [
    "process_df = fin_df.copy()"
   ]
  },
  {
   "cell_type": "code",
   "execution_count": 1481,
   "metadata": {},
   "outputs": [],
   "source": [
    "for col in process_df.columns:\n",
    "    if len(process_df[col].unique()) == 1:\n",
    "        process_df.drop(col,inplace=True,axis=1)"
   ]
  },
  {
   "cell_type": "code",
   "execution_count": 1482,
   "metadata": {},
   "outputs": [
    {
     "data": {
      "text/plain": [
       "Index(['Flow ID', 'Src IP', 'Src Port', 'Dst IP', 'Dst Port', 'Protocol',\n",
       "       'Timestamp', 'Flow Duration', 'Tot Fwd Pkts', 'Tot Bwd Pkts',\n",
       "       'TotLen Fwd Pkts', 'TotLen Bwd Pkts', 'Fwd Pkt Len Max',\n",
       "       'Fwd Pkt Len Mean', 'Fwd Pkt Len Std', 'Bwd Pkt Len Max',\n",
       "       'Bwd Pkt Len Min', 'Bwd Pkt Len Mean', 'Bwd Pkt Len Std', 'Flow Byts/s',\n",
       "       'Flow Pkts/s', 'Flow IAT Mean', 'Flow IAT Std', 'Flow IAT Max',\n",
       "       'Flow IAT Min', 'Fwd IAT Tot', 'Fwd IAT Mean', 'Fwd IAT Std',\n",
       "       'Fwd IAT Max', 'Fwd IAT Min', 'Bwd IAT Tot', 'Bwd IAT Mean',\n",
       "       'Bwd IAT Std', 'Bwd IAT Max', 'Bwd IAT Min', 'Bwd PSH Flags',\n",
       "       'Fwd Header Len', 'Bwd Header Len', 'Fwd Pkts/s', 'Bwd Pkts/s',\n",
       "       'Pkt Len Min', 'Pkt Len Max', 'Pkt Len Mean', 'Pkt Len Std',\n",
       "       'Pkt Len Var', 'FIN Flag Cnt', 'SYN Flag Cnt', 'PSH Flag Cnt',\n",
       "       'ACK Flag Cnt', 'Down/Up Ratio', 'Pkt Size Avg', 'Fwd Seg Size Avg',\n",
       "       'Bwd Seg Size Avg', 'Subflow Fwd Pkts', 'Subflow Fwd Byts',\n",
       "       'Subflow Bwd Pkts', 'Subflow Bwd Byts', 'Init Bwd Win Byts',\n",
       "       'Fwd Act Data Pkts', 'Active Mean', 'Active Std', 'Active Max',\n",
       "       'Active Min', 'Idle Mean', 'Idle Std', 'Idle Max', 'Idle Min', 'Label'],\n",
       "      dtype='object')"
      ]
     },
     "execution_count": 1482,
     "metadata": {},
     "output_type": "execute_result"
    }
   ],
   "source": [
    "process_df.columns"
   ]
  },
  {
   "cell_type": "code",
   "execution_count": 1483,
   "metadata": {},
   "outputs": [],
   "source": [
    "process_df.drop(['Flow ID', 'Src IP', 'Dst IP', 'Timestamp'], axis=1, inplace=True)"
   ]
  },
  {
   "cell_type": "code",
   "execution_count": 1484,
   "metadata": {},
   "outputs": [
    {
     "data": {
      "text/plain": [
       "Index(['Src Port', 'Dst Port', 'Protocol', 'Flow Duration', 'Tot Fwd Pkts',\n",
       "       'Tot Bwd Pkts', 'TotLen Fwd Pkts', 'TotLen Bwd Pkts', 'Fwd Pkt Len Max',\n",
       "       'Fwd Pkt Len Mean', 'Fwd Pkt Len Std', 'Bwd Pkt Len Max',\n",
       "       'Bwd Pkt Len Min', 'Bwd Pkt Len Mean', 'Bwd Pkt Len Std', 'Flow Byts/s',\n",
       "       'Flow Pkts/s', 'Flow IAT Mean', 'Flow IAT Std', 'Flow IAT Max',\n",
       "       'Flow IAT Min', 'Fwd IAT Tot', 'Fwd IAT Mean', 'Fwd IAT Std',\n",
       "       'Fwd IAT Max', 'Fwd IAT Min', 'Bwd IAT Tot', 'Bwd IAT Mean',\n",
       "       'Bwd IAT Std', 'Bwd IAT Max', 'Bwd IAT Min', 'Bwd PSH Flags',\n",
       "       'Fwd Header Len', 'Bwd Header Len', 'Fwd Pkts/s', 'Bwd Pkts/s',\n",
       "       'Pkt Len Min', 'Pkt Len Max', 'Pkt Len Mean', 'Pkt Len Std',\n",
       "       'Pkt Len Var', 'FIN Flag Cnt', 'SYN Flag Cnt', 'PSH Flag Cnt',\n",
       "       'ACK Flag Cnt', 'Down/Up Ratio', 'Pkt Size Avg', 'Fwd Seg Size Avg',\n",
       "       'Bwd Seg Size Avg', 'Subflow Fwd Pkts', 'Subflow Fwd Byts',\n",
       "       'Subflow Bwd Pkts', 'Subflow Bwd Byts', 'Init Bwd Win Byts',\n",
       "       'Fwd Act Data Pkts', 'Active Mean', 'Active Std', 'Active Max',\n",
       "       'Active Min', 'Idle Mean', 'Idle Std', 'Idle Max', 'Idle Min', 'Label'],\n",
       "      dtype='object')"
      ]
     },
     "execution_count": 1484,
     "metadata": {},
     "output_type": "execute_result"
    }
   ],
   "source": [
    "process_df.columns"
   ]
  },
  {
   "cell_type": "code",
   "execution_count": 1231,
   "metadata": {},
   "outputs": [
    {
     "ename": "ValueError",
     "evalue": "supplied range of [0.0, inf] is not finite",
     "output_type": "error",
     "traceback": [
      "\u001b[0;31m---------------------------------------------------------------------------\u001b[0m",
      "\u001b[0;31mValueError\u001b[0m                                Traceback (most recent call last)",
      "\u001b[0;32m<ipython-input-1231-38a1af6c0210>\u001b[0m in \u001b[0;36m<module>\u001b[0;34m()\u001b[0m\n\u001b[1;32m      1\u001b[0m \u001b[0;32mfor\u001b[0m \u001b[0mi\u001b[0m \u001b[0;32min\u001b[0m \u001b[0mprocess_df\u001b[0m\u001b[0;34m.\u001b[0m\u001b[0mcolumns\u001b[0m\u001b[0;34m:\u001b[0m\u001b[0;34m\u001b[0m\u001b[0;34m\u001b[0m\u001b[0m\n\u001b[0;32m----> 2\u001b[0;31m     \u001b[0mprocess_df\u001b[0m\u001b[0;34m.\u001b[0m\u001b[0mhist\u001b[0m\u001b[0;34m(\u001b[0m\u001b[0mcolumn\u001b[0m\u001b[0;34m=\u001b[0m\u001b[0mi\u001b[0m\u001b[0;34m)\u001b[0m\u001b[0;34m\u001b[0m\u001b[0;34m\u001b[0m\u001b[0m\n\u001b[0m",
      "\u001b[0;32m/home/nvhuy/.local/lib/python3.7/site-packages/pandas/plotting/_core.py\u001b[0m in \u001b[0;36mhist_frame\u001b[0;34m(data, column, by, grid, xlabelsize, xrot, ylabelsize, yrot, ax, sharex, sharey, figsize, layout, bins, backend, legend, **kwargs)\u001b[0m\n\u001b[1;32m    225\u001b[0m         \u001b[0mlegend\u001b[0m\u001b[0;34m=\u001b[0m\u001b[0mlegend\u001b[0m\u001b[0;34m,\u001b[0m\u001b[0;34m\u001b[0m\u001b[0;34m\u001b[0m\u001b[0m\n\u001b[1;32m    226\u001b[0m         \u001b[0mbins\u001b[0m\u001b[0;34m=\u001b[0m\u001b[0mbins\u001b[0m\u001b[0;34m,\u001b[0m\u001b[0;34m\u001b[0m\u001b[0;34m\u001b[0m\u001b[0m\n\u001b[0;32m--> 227\u001b[0;31m         \u001b[0;34m**\u001b[0m\u001b[0mkwargs\u001b[0m\u001b[0;34m,\u001b[0m\u001b[0;34m\u001b[0m\u001b[0;34m\u001b[0m\u001b[0m\n\u001b[0m\u001b[1;32m    228\u001b[0m     )\n\u001b[1;32m    229\u001b[0m \u001b[0;34m\u001b[0m\u001b[0m\n",
      "\u001b[0;32m/home/nvhuy/.local/lib/python3.7/site-packages/pandas/plotting/_matplotlib/hist.py\u001b[0m in \u001b[0;36mhist_frame\u001b[0;34m(data, column, by, grid, xlabelsize, xrot, ylabelsize, yrot, ax, sharex, sharey, figsize, layout, bins, legend, **kwds)\u001b[0m\n\u001b[1;32m    432\u001b[0m         \u001b[0;32mif\u001b[0m \u001b[0mlegend\u001b[0m \u001b[0;32mand\u001b[0m \u001b[0mcan_set_label\u001b[0m\u001b[0;34m:\u001b[0m\u001b[0;34m\u001b[0m\u001b[0;34m\u001b[0m\u001b[0m\n\u001b[1;32m    433\u001b[0m             \u001b[0mkwds\u001b[0m\u001b[0;34m[\u001b[0m\u001b[0;34m\"label\"\u001b[0m\u001b[0;34m]\u001b[0m \u001b[0;34m=\u001b[0m \u001b[0mcol\u001b[0m\u001b[0;34m\u001b[0m\u001b[0;34m\u001b[0m\u001b[0m\n\u001b[0;32m--> 434\u001b[0;31m         \u001b[0max\u001b[0m\u001b[0;34m.\u001b[0m\u001b[0mhist\u001b[0m\u001b[0;34m(\u001b[0m\u001b[0mdata\u001b[0m\u001b[0;34m[\u001b[0m\u001b[0mcol\u001b[0m\u001b[0;34m]\u001b[0m\u001b[0;34m.\u001b[0m\u001b[0mdropna\u001b[0m\u001b[0;34m(\u001b[0m\u001b[0;34m)\u001b[0m\u001b[0;34m.\u001b[0m\u001b[0mvalues\u001b[0m\u001b[0;34m,\u001b[0m \u001b[0mbins\u001b[0m\u001b[0;34m=\u001b[0m\u001b[0mbins\u001b[0m\u001b[0;34m,\u001b[0m \u001b[0;34m**\u001b[0m\u001b[0mkwds\u001b[0m\u001b[0;34m)\u001b[0m\u001b[0;34m\u001b[0m\u001b[0;34m\u001b[0m\u001b[0m\n\u001b[0m\u001b[1;32m    435\u001b[0m         \u001b[0max\u001b[0m\u001b[0;34m.\u001b[0m\u001b[0mset_title\u001b[0m\u001b[0;34m(\u001b[0m\u001b[0mcol\u001b[0m\u001b[0;34m)\u001b[0m\u001b[0;34m\u001b[0m\u001b[0;34m\u001b[0m\u001b[0m\n\u001b[1;32m    436\u001b[0m         \u001b[0max\u001b[0m\u001b[0;34m.\u001b[0m\u001b[0mgrid\u001b[0m\u001b[0;34m(\u001b[0m\u001b[0mgrid\u001b[0m\u001b[0;34m)\u001b[0m\u001b[0;34m\u001b[0m\u001b[0;34m\u001b[0m\u001b[0m\n",
      "\u001b[0;32m/home/nvhuy/.local/lib/python3.7/site-packages/matplotlib/__init__.py\u001b[0m in \u001b[0;36minner\u001b[0;34m(ax, data, *args, **kwargs)\u001b[0m\n\u001b[1;32m   1563\u001b[0m     \u001b[0;32mdef\u001b[0m \u001b[0minner\u001b[0m\u001b[0;34m(\u001b[0m\u001b[0max\u001b[0m\u001b[0;34m,\u001b[0m \u001b[0;34m*\u001b[0m\u001b[0margs\u001b[0m\u001b[0;34m,\u001b[0m \u001b[0mdata\u001b[0m\u001b[0;34m=\u001b[0m\u001b[0;32mNone\u001b[0m\u001b[0;34m,\u001b[0m \u001b[0;34m**\u001b[0m\u001b[0mkwargs\u001b[0m\u001b[0;34m)\u001b[0m\u001b[0;34m:\u001b[0m\u001b[0;34m\u001b[0m\u001b[0;34m\u001b[0m\u001b[0m\n\u001b[1;32m   1564\u001b[0m         \u001b[0;32mif\u001b[0m \u001b[0mdata\u001b[0m \u001b[0;32mis\u001b[0m \u001b[0;32mNone\u001b[0m\u001b[0;34m:\u001b[0m\u001b[0;34m\u001b[0m\u001b[0;34m\u001b[0m\u001b[0m\n\u001b[0;32m-> 1565\u001b[0;31m             \u001b[0;32mreturn\u001b[0m \u001b[0mfunc\u001b[0m\u001b[0;34m(\u001b[0m\u001b[0max\u001b[0m\u001b[0;34m,\u001b[0m \u001b[0;34m*\u001b[0m\u001b[0mmap\u001b[0m\u001b[0;34m(\u001b[0m\u001b[0msanitize_sequence\u001b[0m\u001b[0;34m,\u001b[0m \u001b[0margs\u001b[0m\u001b[0;34m)\u001b[0m\u001b[0;34m,\u001b[0m \u001b[0;34m**\u001b[0m\u001b[0mkwargs\u001b[0m\u001b[0;34m)\u001b[0m\u001b[0;34m\u001b[0m\u001b[0;34m\u001b[0m\u001b[0m\n\u001b[0m\u001b[1;32m   1566\u001b[0m \u001b[0;34m\u001b[0m\u001b[0m\n\u001b[1;32m   1567\u001b[0m         \u001b[0mbound\u001b[0m \u001b[0;34m=\u001b[0m \u001b[0mnew_sig\u001b[0m\u001b[0;34m.\u001b[0m\u001b[0mbind\u001b[0m\u001b[0;34m(\u001b[0m\u001b[0max\u001b[0m\u001b[0;34m,\u001b[0m \u001b[0;34m*\u001b[0m\u001b[0margs\u001b[0m\u001b[0;34m,\u001b[0m \u001b[0;34m**\u001b[0m\u001b[0mkwargs\u001b[0m\u001b[0;34m)\u001b[0m\u001b[0;34m\u001b[0m\u001b[0;34m\u001b[0m\u001b[0m\n",
      "\u001b[0;32m/home/nvhuy/.local/lib/python3.7/site-packages/matplotlib/axes/_axes.py\u001b[0m in \u001b[0;36mhist\u001b[0;34m(self, x, bins, range, density, weights, cumulative, bottom, histtype, align, orientation, rwidth, log, color, label, stacked, **kwargs)\u001b[0m\n\u001b[1;32m   6647\u001b[0m             \u001b[0;31m# this will automatically overwrite bins,\u001b[0m\u001b[0;34m\u001b[0m\u001b[0;34m\u001b[0m\u001b[0;34m\u001b[0m\u001b[0m\n\u001b[1;32m   6648\u001b[0m             \u001b[0;31m# so that each histogram uses the same bins\u001b[0m\u001b[0;34m\u001b[0m\u001b[0;34m\u001b[0m\u001b[0;34m\u001b[0m\u001b[0m\n\u001b[0;32m-> 6649\u001b[0;31m             \u001b[0mm\u001b[0m\u001b[0;34m,\u001b[0m \u001b[0mbins\u001b[0m \u001b[0;34m=\u001b[0m \u001b[0mnp\u001b[0m\u001b[0;34m.\u001b[0m\u001b[0mhistogram\u001b[0m\u001b[0;34m(\u001b[0m\u001b[0mx\u001b[0m\u001b[0;34m[\u001b[0m\u001b[0mi\u001b[0m\u001b[0;34m]\u001b[0m\u001b[0;34m,\u001b[0m \u001b[0mbins\u001b[0m\u001b[0;34m,\u001b[0m \u001b[0mweights\u001b[0m\u001b[0;34m=\u001b[0m\u001b[0mw\u001b[0m\u001b[0;34m[\u001b[0m\u001b[0mi\u001b[0m\u001b[0;34m]\u001b[0m\u001b[0;34m,\u001b[0m \u001b[0;34m**\u001b[0m\u001b[0mhist_kwargs\u001b[0m\u001b[0;34m)\u001b[0m\u001b[0;34m\u001b[0m\u001b[0;34m\u001b[0m\u001b[0m\n\u001b[0m\u001b[1;32m   6650\u001b[0m             \u001b[0mtops\u001b[0m\u001b[0;34m.\u001b[0m\u001b[0mappend\u001b[0m\u001b[0;34m(\u001b[0m\u001b[0mm\u001b[0m\u001b[0;34m)\u001b[0m\u001b[0;34m\u001b[0m\u001b[0;34m\u001b[0m\u001b[0m\n\u001b[1;32m   6651\u001b[0m         \u001b[0mtops\u001b[0m \u001b[0;34m=\u001b[0m \u001b[0mnp\u001b[0m\u001b[0;34m.\u001b[0m\u001b[0marray\u001b[0m\u001b[0;34m(\u001b[0m\u001b[0mtops\u001b[0m\u001b[0;34m,\u001b[0m \u001b[0mfloat\u001b[0m\u001b[0;34m)\u001b[0m  \u001b[0;31m# causes problems later if it's an int\u001b[0m\u001b[0;34m\u001b[0m\u001b[0;34m\u001b[0m\u001b[0m\n",
      "\u001b[0;32m<__array_function__ internals>\u001b[0m in \u001b[0;36mhistogram\u001b[0;34m(*args, **kwargs)\u001b[0m\n",
      "\u001b[0;32m/home/nvhuy/.local/lib/python3.7/site-packages/numpy/lib/histograms.py\u001b[0m in \u001b[0;36mhistogram\u001b[0;34m(a, bins, range, normed, weights, density)\u001b[0m\n\u001b[1;32m    783\u001b[0m     \u001b[0ma\u001b[0m\u001b[0;34m,\u001b[0m \u001b[0mweights\u001b[0m \u001b[0;34m=\u001b[0m \u001b[0m_ravel_and_check_weights\u001b[0m\u001b[0;34m(\u001b[0m\u001b[0ma\u001b[0m\u001b[0;34m,\u001b[0m \u001b[0mweights\u001b[0m\u001b[0;34m)\u001b[0m\u001b[0;34m\u001b[0m\u001b[0;34m\u001b[0m\u001b[0m\n\u001b[1;32m    784\u001b[0m \u001b[0;34m\u001b[0m\u001b[0m\n\u001b[0;32m--> 785\u001b[0;31m     \u001b[0mbin_edges\u001b[0m\u001b[0;34m,\u001b[0m \u001b[0muniform_bins\u001b[0m \u001b[0;34m=\u001b[0m \u001b[0m_get_bin_edges\u001b[0m\u001b[0;34m(\u001b[0m\u001b[0ma\u001b[0m\u001b[0;34m,\u001b[0m \u001b[0mbins\u001b[0m\u001b[0;34m,\u001b[0m \u001b[0mrange\u001b[0m\u001b[0;34m,\u001b[0m \u001b[0mweights\u001b[0m\u001b[0;34m)\u001b[0m\u001b[0;34m\u001b[0m\u001b[0;34m\u001b[0m\u001b[0m\n\u001b[0m\u001b[1;32m    786\u001b[0m \u001b[0;34m\u001b[0m\u001b[0m\n\u001b[1;32m    787\u001b[0m     \u001b[0;31m# Histogram is an integer or a float array depending on the weights.\u001b[0m\u001b[0;34m\u001b[0m\u001b[0;34m\u001b[0m\u001b[0;34m\u001b[0m\u001b[0m\n",
      "\u001b[0;32m/home/nvhuy/.local/lib/python3.7/site-packages/numpy/lib/histograms.py\u001b[0m in \u001b[0;36m_get_bin_edges\u001b[0;34m(a, bins, range, weights)\u001b[0m\n\u001b[1;32m    417\u001b[0m             \u001b[0;32mraise\u001b[0m \u001b[0mValueError\u001b[0m\u001b[0;34m(\u001b[0m\u001b[0;34m'`bins` must be positive, when an integer'\u001b[0m\u001b[0;34m)\u001b[0m\u001b[0;34m\u001b[0m\u001b[0;34m\u001b[0m\u001b[0m\n\u001b[1;32m    418\u001b[0m \u001b[0;34m\u001b[0m\u001b[0m\n\u001b[0;32m--> 419\u001b[0;31m         \u001b[0mfirst_edge\u001b[0m\u001b[0;34m,\u001b[0m \u001b[0mlast_edge\u001b[0m \u001b[0;34m=\u001b[0m \u001b[0m_get_outer_edges\u001b[0m\u001b[0;34m(\u001b[0m\u001b[0ma\u001b[0m\u001b[0;34m,\u001b[0m \u001b[0mrange\u001b[0m\u001b[0;34m)\u001b[0m\u001b[0;34m\u001b[0m\u001b[0;34m\u001b[0m\u001b[0m\n\u001b[0m\u001b[1;32m    420\u001b[0m \u001b[0;34m\u001b[0m\u001b[0m\n\u001b[1;32m    421\u001b[0m     \u001b[0;32melif\u001b[0m \u001b[0mnp\u001b[0m\u001b[0;34m.\u001b[0m\u001b[0mndim\u001b[0m\u001b[0;34m(\u001b[0m\u001b[0mbins\u001b[0m\u001b[0;34m)\u001b[0m \u001b[0;34m==\u001b[0m \u001b[0;36m1\u001b[0m\u001b[0;34m:\u001b[0m\u001b[0;34m\u001b[0m\u001b[0;34m\u001b[0m\u001b[0m\n",
      "\u001b[0;32m/home/nvhuy/.local/lib/python3.7/site-packages/numpy/lib/histograms.py\u001b[0m in \u001b[0;36m_get_outer_edges\u001b[0;34m(a, range)\u001b[0m\n\u001b[1;32m    307\u001b[0m         \u001b[0;32mif\u001b[0m \u001b[0;32mnot\u001b[0m \u001b[0;34m(\u001b[0m\u001b[0mnp\u001b[0m\u001b[0;34m.\u001b[0m\u001b[0misfinite\u001b[0m\u001b[0;34m(\u001b[0m\u001b[0mfirst_edge\u001b[0m\u001b[0;34m)\u001b[0m \u001b[0;32mand\u001b[0m \u001b[0mnp\u001b[0m\u001b[0;34m.\u001b[0m\u001b[0misfinite\u001b[0m\u001b[0;34m(\u001b[0m\u001b[0mlast_edge\u001b[0m\u001b[0;34m)\u001b[0m\u001b[0;34m)\u001b[0m\u001b[0;34m:\u001b[0m\u001b[0;34m\u001b[0m\u001b[0;34m\u001b[0m\u001b[0m\n\u001b[1;32m    308\u001b[0m             raise ValueError(\n\u001b[0;32m--> 309\u001b[0;31m                 \"supplied range of [{}, {}] is not finite\".format(first_edge, last_edge))\n\u001b[0m\u001b[1;32m    310\u001b[0m     \u001b[0;32melif\u001b[0m \u001b[0ma\u001b[0m\u001b[0;34m.\u001b[0m\u001b[0msize\u001b[0m \u001b[0;34m==\u001b[0m \u001b[0;36m0\u001b[0m\u001b[0;34m:\u001b[0m\u001b[0;34m\u001b[0m\u001b[0;34m\u001b[0m\u001b[0m\n\u001b[1;32m    311\u001b[0m         \u001b[0;31m# handle empty arrays. Can't determine range, so use 0-1.\u001b[0m\u001b[0;34m\u001b[0m\u001b[0;34m\u001b[0m\u001b[0;34m\u001b[0m\u001b[0m\n",
      "\u001b[0;31mValueError\u001b[0m: supplied range of [0.0, inf] is not finite"
     ]
    },
    {
     "data": {
      "image/png": "[encoded data removed]",
      "text/plain": [
       "<Figure size 432x288 with 1 Axes>"
      ]
     },
     "metadata": {
      "needs_background": "light"
     },
     "output_type": "display_data"
    },
    {
     "data": {
      "image/png": "[encoded data removed]",
      "text/plain": [
       "<Figure size 432x288 with 1 Axes>"
      ]
     },
     "metadata": {
      "needs_background": "light"
     },
     "output_type": "display_data"
    },
    {
     "data": {
      "image/png": "[encoded data removed]",
      "text/plain": [
       "<Figure size 432x288 with 1 Axes>"
      ]
     },
     "metadata": {
      "needs_background": "light"
     },
     "output_type": "display_data"
    },
    {
     "data": {
      "image/png": "[encoded data removed]",
      "text/plain": [
       "<Figure size 432x288 with 1 Axes>"
      ]
     },
     "metadata": {
      "needs_background": "light"
     },
     "output_type": "display_data"
    },
    {
     "data": {
      "image/png": "[encoded data removed]",
      "text/plain": [
       "<Figure size 432x288 with 1 Axes>"
      ]
     },
     "metadata": {
      "needs_background": "light"
     },
     "output_type": "display_data"
    },
    {
     "data": {
      "image/png": "[encoded data removed]",
      "text/plain": [
       "<Figure size 432x288 with 1 Axes>"
      ]
     },
     "metadata": {
      "needs_background": "light"
     },
     "output_type": "display_data"
    },
    {
     "data": {
      "image/png": "[encoded data removed]",
      "text/plain": [
       "<Figure size 432x288 with 1 Axes>"
      ]
     },
     "metadata": {
      "needs_background": "light"
     },
     "output_type": "display_data"
    },
    {
     "data": {
      "image/png": "[encoded data removed]",
      "text/plain": [
       "<Figure size 432x288 with 1 Axes>"
      ]
     },
     "metadata": {
      "needs_background": "light"
     },
     "output_type": "display_data"
    },
    {
     "data": {
      "image/png": "[encoded data removed]",
      "text/plain": [
       "<Figure size 432x288 with 1 Axes>"
      ]
     },
     "metadata": {
      "needs_background": "light"
     },
     "output_type": "display_data"
    },
    {
     "data": {
      "image/png": "[encoded data removed]",
      "text/plain": [
       "<Figure size 432x288 with 1 Axes>"
      ]
     },
     "metadata": {
      "needs_background": "light"
     },
     "output_type": "display_data"
    },
    {
     "data": {
      "image/png": "[encoded data removed]",
      "text/plain": [
       "<Figure size 432x288 with 1 Axes>"
      ]
     },
     "metadata": {
      "needs_background": "light"
     },
     "output_type": "display_data"
    },
    {
     "data": {
      "image/png": "[encoded data removed]",
      "text/plain": [
       "<Figure size 432x288 with 1 Axes>"
      ]
     },
     "metadata": {
      "needs_background": "light"
     },
     "output_type": "display_data"
    },
    {
     "data": {
      "image/png": "[encoded data removed]",
      "text/plain": [
       "<Figure size 432x288 with 1 Axes>"
      ]
     },
     "metadata": {
      "needs_background": "light"
     },
     "output_type": "display_data"
    },
    {
     "data": {
      "image/png": "[encoded data removed]",
      "text/plain": [
       "<Figure size 432x288 with 1 Axes>"
      ]
     },
     "metadata": {
      "needs_background": "light"
     },
     "output_type": "display_data"
    },
    {
     "data": {
      "image/png": "[encoded data removed]",
      "text/plain": [
       "<Figure size 432x288 with 1 Axes>"
      ]
     },
     "metadata": {
      "needs_background": "light"
     },
     "output_type": "display_data"
    },
    {
     "data": {
      "image/png": "[encoded data removed]",
      "text/plain": [
       "<Figure size 432x288 with 1 Axes>"
      ]
     },
     "metadata": {
      "needs_background": "light"
     },
     "output_type": "display_data"
    }
   ],
   "source": [
    "for i in process_df.columns:\n",
    "    process_df.hist(column=i)"
   ]
  },
  {
   "cell_type": "code",
   "execution_count": 1485,
   "metadata": {},
   "outputs": [
    {
     "data": {
      "text/html": [
       "<div>\n",
       "<style scoped>\n",
       "    .dataframe tbody tr th:only-of-type {\n",
       "        vertical-align: middle;\n",
       "    }\n",
       "\n",
       "    .dataframe tbody tr th {\n",
       "        vertical-align: top;\n",
       "    }\n",
       "\n",
       "    .dataframe thead th {\n",
       "        text-align: right;\n",
       "    }\n",
       "</style>\n",
       "<table border=\"1\" class=\"dataframe\">\n",
       "  <thead>\n",
       "    <tr style=\"text-align: right;\">\n",
       "      <th></th>\n",
       "      <th>Src Port</th>\n",
       "      <th>Dst Port</th>\n",
       "      <th>Protocol</th>\n",
       "      <th>Flow Duration</th>\n",
       "      <th>Tot Fwd Pkts</th>\n",
       "      <th>Tot Bwd Pkts</th>\n",
       "      <th>TotLen Fwd Pkts</th>\n",
       "      <th>TotLen Bwd Pkts</th>\n",
       "      <th>Fwd Pkt Len Max</th>\n",
       "      <th>Fwd Pkt Len Mean</th>\n",
       "      <th>...</th>\n",
       "      <th>Fwd Act Data Pkts</th>\n",
       "      <th>Active Mean</th>\n",
       "      <th>Active Std</th>\n",
       "      <th>Active Max</th>\n",
       "      <th>Active Min</th>\n",
       "      <th>Idle Mean</th>\n",
       "      <th>Idle Std</th>\n",
       "      <th>Idle Max</th>\n",
       "      <th>Idle Min</th>\n",
       "      <th>Label</th>\n",
       "    </tr>\n",
       "  </thead>\n",
       "  <tbody>\n",
       "    <tr>\n",
       "      <th>0</th>\n",
       "      <td>37666</td>\n",
       "      <td>443</td>\n",
       "      <td>6</td>\n",
       "      <td>116949363</td>\n",
       "      <td>25</td>\n",
       "      <td>27</td>\n",
       "      <td>74.0</td>\n",
       "      <td>74.0</td>\n",
       "      <td>37.0</td>\n",
       "      <td>2.960000</td>\n",
       "      <td>...</td>\n",
       "      <td>2</td>\n",
       "      <td>132634.318182</td>\n",
       "      <td>429479.926787</td>\n",
       "      <td>1534999.0</td>\n",
       "      <td>1.0</td>\n",
       "      <td>5.183232e+06</td>\n",
       "      <td>52452.844357</td>\n",
       "      <td>5288557.0</td>\n",
       "      <td>5002917.0</td>\n",
       "      <td>1</td>\n",
       "    </tr>\n",
       "    <tr>\n",
       "      <th>1</th>\n",
       "      <td>37477</td>\n",
       "      <td>1883</td>\n",
       "      <td>6</td>\n",
       "      <td>60089364</td>\n",
       "      <td>3</td>\n",
       "      <td>3</td>\n",
       "      <td>2.0</td>\n",
       "      <td>6.0</td>\n",
       "      <td>2.0</td>\n",
       "      <td>0.666667</td>\n",
       "      <td>...</td>\n",
       "      <td>1</td>\n",
       "      <td>4200.000000</td>\n",
       "      <td>0.000000</td>\n",
       "      <td>4200.0</td>\n",
       "      <td>4200.0</td>\n",
       "      <td>6.008026e+07</td>\n",
       "      <td>0.000000</td>\n",
       "      <td>60080260.0</td>\n",
       "      <td>60080260.0</td>\n",
       "      <td>0</td>\n",
       "    </tr>\n",
       "    <tr>\n",
       "      <th>2</th>\n",
       "      <td>37974</td>\n",
       "      <td>443</td>\n",
       "      <td>6</td>\n",
       "      <td>117043899</td>\n",
       "      <td>25</td>\n",
       "      <td>27</td>\n",
       "      <td>74.0</td>\n",
       "      <td>74.0</td>\n",
       "      <td>37.0</td>\n",
       "      <td>2.960000</td>\n",
       "      <td>...</td>\n",
       "      <td>2</td>\n",
       "      <td>148415.409091</td>\n",
       "      <td>480328.388515</td>\n",
       "      <td>1686330.0</td>\n",
       "      <td>24.0</td>\n",
       "      <td>5.171761e+06</td>\n",
       "      <td>46877.680360</td>\n",
       "      <td>5220226.0</td>\n",
       "      <td>5004478.0</td>\n",
       "      <td>1</td>\n",
       "    </tr>\n",
       "    <tr>\n",
       "      <th>3</th>\n",
       "      <td>37974</td>\n",
       "      <td>443</td>\n",
       "      <td>6</td>\n",
       "      <td>115693463</td>\n",
       "      <td>24</td>\n",
       "      <td>25</td>\n",
       "      <td>37.0</td>\n",
       "      <td>37.0</td>\n",
       "      <td>37.0</td>\n",
       "      <td>1.541667</td>\n",
       "      <td>...</td>\n",
       "      <td>1</td>\n",
       "      <td>79724.727273</td>\n",
       "      <td>373402.277353</td>\n",
       "      <td>1751527.0</td>\n",
       "      <td>35.0</td>\n",
       "      <td>5.179062e+06</td>\n",
       "      <td>42922.541291</td>\n",
       "      <td>5250813.0</td>\n",
       "      <td>5002482.0</td>\n",
       "      <td>1</td>\n",
       "    </tr>\n",
       "    <tr>\n",
       "      <th>4</th>\n",
       "      <td>38166</td>\n",
       "      <td>443</td>\n",
       "      <td>6</td>\n",
       "      <td>115596759</td>\n",
       "      <td>24</td>\n",
       "      <td>25</td>\n",
       "      <td>37.0</td>\n",
       "      <td>37.0</td>\n",
       "      <td>37.0</td>\n",
       "      <td>1.541667</td>\n",
       "      <td>...</td>\n",
       "      <td>1</td>\n",
       "      <td>79157.772727</td>\n",
       "      <td>369913.488782</td>\n",
       "      <td>1735340.0</td>\n",
       "      <td>223.0</td>\n",
       "      <td>5.175228e+06</td>\n",
       "      <td>39376.980535</td>\n",
       "      <td>5211548.0</td>\n",
       "      <td>5003054.0</td>\n",
       "      <td>1</td>\n",
       "    </tr>\n",
       "  </tbody>\n",
       "</table>\n",
       "<p>5 rows × 64 columns</p>\n",
       "</div>"
      ],
      "text/plain": [
       "   Src Port  Dst Port  Protocol  Flow Duration  Tot Fwd Pkts  Tot Bwd Pkts  \\\n",
       "0     37666       443         6      116949363            25            27   \n",
       "1     37477      1883         6       60089364             3             3   \n",
       "2     37974       443         6      117043899            25            27   \n",
       "3     37974       443         6      115693463            24            25   \n",
       "4     38166       443         6      115596759            24            25   \n",
       "\n",
       "   TotLen Fwd Pkts  TotLen Bwd Pkts  Fwd Pkt Len Max  Fwd Pkt Len Mean  ...  \\\n",
       "0             74.0             74.0             37.0          2.960000  ...   \n",
       "1              2.0              6.0              2.0          0.666667  ...   \n",
       "2             74.0             74.0             37.0          2.960000  ...   \n",
       "3             37.0             37.0             37.0          1.541667  ...   \n",
       "4             37.0             37.0             37.0          1.541667  ...   \n",
       "\n",
       "   Fwd Act Data Pkts    Active Mean     Active Std  Active Max  Active Min  \\\n",
       "0                  2  132634.318182  429479.926787   1534999.0         1.0   \n",
       "1                  1    4200.000000       0.000000      4200.0      4200.0   \n",
       "2                  2  148415.409091  480328.388515   1686330.0        24.0   \n",
       "3                  1   79724.727273  373402.277353   1751527.0        35.0   \n",
       "4                  1   79157.772727  369913.488782   1735340.0       223.0   \n",
       "\n",
       "      Idle Mean      Idle Std    Idle Max    Idle Min  Label  \n",
       "0  5.183232e+06  52452.844357   5288557.0   5002917.0      1  \n",
       "1  6.008026e+07      0.000000  60080260.0  60080260.0      0  \n",
       "2  5.171761e+06  46877.680360   5220226.0   5004478.0      1  \n",
       "3  5.179062e+06  42922.541291   5250813.0   5002482.0      1  \n",
       "4  5.175228e+06  39376.980535   5211548.0   5003054.0      1  \n",
       "\n",
       "[5 rows x 64 columns]"
      ]
     },
     "execution_count": 1485,
     "metadata": {},
     "output_type": "execute_result"
    }
   ],
   "source": [
    "process_df.head()"
   ]
  },
  {
   "cell_type": "code",
   "execution_count": 1486,
   "metadata": {},
   "outputs": [],
   "source": [
    "process_df.replace([np.inf, -np.inf], np.nan, inplace=True)"
   ]
  },
  {
   "cell_type": "code",
   "execution_count": 1487,
   "metadata": {},
   "outputs": [],
   "source": [
    "process_df.dropna(inplace=True)"
   ]
  },
  {
   "cell_type": "code",
   "execution_count": 1488,
   "metadata": {},
   "outputs": [],
   "source": [
    "max_vals = []\n",
    "min_vals = []\n",
    "column = list(process_df.columns)"
   ]
  },
  {
   "cell_type": "code",
   "execution_count": 1489,
   "metadata": {},
   "outputs": [],
   "source": [
    "# apply normalization techniques by Column 1 \n",
    "for col in column:\n",
    "    max_vals.append(process_df[col].max())\n",
    "    min_vals.append(process_df[col].min())\n",
    "for i in range(len(column)):\n",
    "    process_df[column[i]] = (process_df[column[i]] - min_vals[i]) / (max_vals[i] - min_vals[i])     "
   ]
  },
  {
   "cell_type": "code",
   "execution_count": 1490,
   "metadata": {},
   "outputs": [],
   "source": [
    "# max_vals"
   ]
  },
  {
   "cell_type": "code",
   "execution_count": 1491,
   "metadata": {},
   "outputs": [],
   "source": [
    "# min_vals"
   ]
  },
  {
   "cell_type": "code",
   "execution_count": 1492,
   "metadata": {},
   "outputs": [
    {
     "data": {
      "text/html": [
       "<div>\n",
       "<style scoped>\n",
       "    .dataframe tbody tr th:only-of-type {\n",
       "        vertical-align: middle;\n",
       "    }\n",
       "\n",
       "    .dataframe tbody tr th {\n",
       "        vertical-align: top;\n",
       "    }\n",
       "\n",
       "    .dataframe thead th {\n",
       "        text-align: right;\n",
       "    }\n",
       "</style>\n",
       "<table border=\"1\" class=\"dataframe\">\n",
       "  <thead>\n",
       "    <tr style=\"text-align: right;\">\n",
       "      <th></th>\n",
       "      <th>Src Port</th>\n",
       "      <th>Dst Port</th>\n",
       "      <th>Protocol</th>\n",
       "      <th>Flow Duration</th>\n",
       "      <th>Tot Fwd Pkts</th>\n",
       "      <th>Tot Bwd Pkts</th>\n",
       "      <th>TotLen Fwd Pkts</th>\n",
       "      <th>TotLen Bwd Pkts</th>\n",
       "      <th>Fwd Pkt Len Max</th>\n",
       "      <th>Fwd Pkt Len Mean</th>\n",
       "      <th>...</th>\n",
       "      <th>Fwd Act Data Pkts</th>\n",
       "      <th>Active Mean</th>\n",
       "      <th>Active Std</th>\n",
       "      <th>Active Max</th>\n",
       "      <th>Active Min</th>\n",
       "      <th>Idle Mean</th>\n",
       "      <th>Idle Std</th>\n",
       "      <th>Idle Max</th>\n",
       "      <th>Idle Min</th>\n",
       "      <th>Label</th>\n",
       "    </tr>\n",
       "  </thead>\n",
       "  <tbody>\n",
       "    <tr>\n",
       "      <th>0</th>\n",
       "      <td>0.617473</td>\n",
       "      <td>0.006911</td>\n",
       "      <td>0.0</td>\n",
       "      <td>0.974587</td>\n",
       "      <td>0.231481</td>\n",
       "      <td>0.203125</td>\n",
       "      <td>0.020241</td>\n",
       "      <td>0.000406</td>\n",
       "      <td>0.026056</td>\n",
       "      <td>0.003272</td>\n",
       "      <td>...</td>\n",
       "      <td>0.038462</td>\n",
       "      <td>0.007690</td>\n",
       "      <td>0.091902</td>\n",
       "      <td>0.088997</td>\n",
       "      <td>5.797833e-08</td>\n",
       "      <td>0.086226</td>\n",
       "      <td>0.001218</td>\n",
       "      <td>0.064479</td>\n",
       "      <td>0.083226</td>\n",
       "      <td>1.0</td>\n",
       "    </tr>\n",
       "    <tr>\n",
       "      <th>1</th>\n",
       "      <td>0.614373</td>\n",
       "      <td>0.030607</td>\n",
       "      <td>0.0</td>\n",
       "      <td>0.500749</td>\n",
       "      <td>0.027778</td>\n",
       "      <td>0.015625</td>\n",
       "      <td>0.000547</td>\n",
       "      <td>0.000033</td>\n",
       "      <td>0.001408</td>\n",
       "      <td>0.000737</td>\n",
       "      <td>...</td>\n",
       "      <td>0.019231</td>\n",
       "      <td>0.000244</td>\n",
       "      <td>0.000000</td>\n",
       "      <td>0.000244</td>\n",
       "      <td>2.435090e-04</td>\n",
       "      <td>0.999470</td>\n",
       "      <td>0.000000</td>\n",
       "      <td>0.732507</td>\n",
       "      <td>0.999470</td>\n",
       "      <td>0.0</td>\n",
       "    </tr>\n",
       "    <tr>\n",
       "      <th>2</th>\n",
       "      <td>0.622525</td>\n",
       "      <td>0.006911</td>\n",
       "      <td>0.0</td>\n",
       "      <td>0.975375</td>\n",
       "      <td>0.231481</td>\n",
       "      <td>0.203125</td>\n",
       "      <td>0.020241</td>\n",
       "      <td>0.000406</td>\n",
       "      <td>0.026056</td>\n",
       "      <td>0.003272</td>\n",
       "      <td>...</td>\n",
       "      <td>0.038462</td>\n",
       "      <td>0.008605</td>\n",
       "      <td>0.102782</td>\n",
       "      <td>0.097771</td>\n",
       "      <td>1.391480e-06</td>\n",
       "      <td>0.086035</td>\n",
       "      <td>0.001088</td>\n",
       "      <td>0.063646</td>\n",
       "      <td>0.083252</td>\n",
       "      <td>1.0</td>\n",
       "    </tr>\n",
       "    <tr>\n",
       "      <th>3</th>\n",
       "      <td>0.622525</td>\n",
       "      <td>0.006911</td>\n",
       "      <td>0.0</td>\n",
       "      <td>0.964121</td>\n",
       "      <td>0.222222</td>\n",
       "      <td>0.187500</td>\n",
       "      <td>0.010120</td>\n",
       "      <td>0.000203</td>\n",
       "      <td>0.026056</td>\n",
       "      <td>0.001704</td>\n",
       "      <td>...</td>\n",
       "      <td>0.019231</td>\n",
       "      <td>0.004622</td>\n",
       "      <td>0.079902</td>\n",
       "      <td>0.101551</td>\n",
       "      <td>2.029241e-06</td>\n",
       "      <td>0.086157</td>\n",
       "      <td>0.000997</td>\n",
       "      <td>0.064019</td>\n",
       "      <td>0.083219</td>\n",
       "      <td>1.0</td>\n",
       "    </tr>\n",
       "    <tr>\n",
       "      <th>4</th>\n",
       "      <td>0.625675</td>\n",
       "      <td>0.006911</td>\n",
       "      <td>0.0</td>\n",
       "      <td>0.963316</td>\n",
       "      <td>0.222222</td>\n",
       "      <td>0.187500</td>\n",
       "      <td>0.010120</td>\n",
       "      <td>0.000203</td>\n",
       "      <td>0.026056</td>\n",
       "      <td>0.001704</td>\n",
       "      <td>...</td>\n",
       "      <td>0.019231</td>\n",
       "      <td>0.004589</td>\n",
       "      <td>0.079155</td>\n",
       "      <td>0.100612</td>\n",
       "      <td>1.292917e-05</td>\n",
       "      <td>0.086093</td>\n",
       "      <td>0.000914</td>\n",
       "      <td>0.063540</td>\n",
       "      <td>0.083229</td>\n",
       "      <td>1.0</td>\n",
       "    </tr>\n",
       "    <tr>\n",
       "      <th>...</th>\n",
       "      <td>...</td>\n",
       "      <td>...</td>\n",
       "      <td>...</td>\n",
       "      <td>...</td>\n",
       "      <td>...</td>\n",
       "      <td>...</td>\n",
       "      <td>...</td>\n",
       "      <td>...</td>\n",
       "      <td>...</td>\n",
       "      <td>...</td>\n",
       "      <td>...</td>\n",
       "      <td>...</td>\n",
       "      <td>...</td>\n",
       "      <td>...</td>\n",
       "      <td>...</td>\n",
       "      <td>...</td>\n",
       "      <td>...</td>\n",
       "      <td>...</td>\n",
       "      <td>...</td>\n",
       "      <td>...</td>\n",
       "      <td>...</td>\n",
       "    </tr>\n",
       "    <tr>\n",
       "      <th>8160</th>\n",
       "      <td>0.614373</td>\n",
       "      <td>0.030607</td>\n",
       "      <td>0.0</td>\n",
       "      <td>0.500776</td>\n",
       "      <td>0.027778</td>\n",
       "      <td>0.015625</td>\n",
       "      <td>0.000547</td>\n",
       "      <td>0.000033</td>\n",
       "      <td>0.001408</td>\n",
       "      <td>0.000737</td>\n",
       "      <td>...</td>\n",
       "      <td>0.019231</td>\n",
       "      <td>0.000435</td>\n",
       "      <td>0.000000</td>\n",
       "      <td>0.000435</td>\n",
       "      <td>4.350114e-04</td>\n",
       "      <td>0.999447</td>\n",
       "      <td>0.000000</td>\n",
       "      <td>0.732489</td>\n",
       "      <td>0.999447</td>\n",
       "      <td>0.0</td>\n",
       "    </tr>\n",
       "    <tr>\n",
       "      <th>8161</th>\n",
       "      <td>0.622525</td>\n",
       "      <td>0.006911</td>\n",
       "      <td>0.0</td>\n",
       "      <td>0.963557</td>\n",
       "      <td>0.222222</td>\n",
       "      <td>0.187500</td>\n",
       "      <td>0.010120</td>\n",
       "      <td>0.000203</td>\n",
       "      <td>0.026056</td>\n",
       "      <td>0.001704</td>\n",
       "      <td>...</td>\n",
       "      <td>0.019231</td>\n",
       "      <td>0.004443</td>\n",
       "      <td>0.076786</td>\n",
       "      <td>0.097591</td>\n",
       "      <td>1.855307e-06</td>\n",
       "      <td>0.086157</td>\n",
       "      <td>0.000947</td>\n",
       "      <td>0.063563</td>\n",
       "      <td>0.083221</td>\n",
       "      <td>1.0</td>\n",
       "    </tr>\n",
       "    <tr>\n",
       "      <th>8162</th>\n",
       "      <td>0.978643</td>\n",
       "      <td>0.006911</td>\n",
       "      <td>0.0</td>\n",
       "      <td>0.965783</td>\n",
       "      <td>0.222222</td>\n",
       "      <td>0.187500</td>\n",
       "      <td>0.010120</td>\n",
       "      <td>0.000203</td>\n",
       "      <td>0.026056</td>\n",
       "      <td>0.001704</td>\n",
       "      <td>...</td>\n",
       "      <td>0.019231</td>\n",
       "      <td>0.005012</td>\n",
       "      <td>0.086502</td>\n",
       "      <td>0.109946</td>\n",
       "      <td>9.856316e-07</td>\n",
       "      <td>0.086196</td>\n",
       "      <td>0.001008</td>\n",
       "      <td>0.063828</td>\n",
       "      <td>0.083241</td>\n",
       "      <td>1.0</td>\n",
       "    </tr>\n",
       "    <tr>\n",
       "      <th>8163</th>\n",
       "      <td>0.933255</td>\n",
       "      <td>0.030607</td>\n",
       "      <td>0.0</td>\n",
       "      <td>0.500754</td>\n",
       "      <td>0.027778</td>\n",
       "      <td>0.015625</td>\n",
       "      <td>0.000547</td>\n",
       "      <td>0.000033</td>\n",
       "      <td>0.001408</td>\n",
       "      <td>0.000737</td>\n",
       "      <td>...</td>\n",
       "      <td>0.019231</td>\n",
       "      <td>0.000434</td>\n",
       "      <td>0.000000</td>\n",
       "      <td>0.000434</td>\n",
       "      <td>4.340837e-04</td>\n",
       "      <td>0.999453</td>\n",
       "      <td>0.000000</td>\n",
       "      <td>0.732494</td>\n",
       "      <td>0.999453</td>\n",
       "      <td>0.0</td>\n",
       "    </tr>\n",
       "    <tr>\n",
       "      <th>8164</th>\n",
       "      <td>0.706232</td>\n",
       "      <td>0.030607</td>\n",
       "      <td>0.0</td>\n",
       "      <td>0.500676</td>\n",
       "      <td>0.027778</td>\n",
       "      <td>0.015625</td>\n",
       "      <td>0.000547</td>\n",
       "      <td>0.000033</td>\n",
       "      <td>0.001408</td>\n",
       "      <td>0.000737</td>\n",
       "      <td>...</td>\n",
       "      <td>0.019231</td>\n",
       "      <td>0.000059</td>\n",
       "      <td>0.000000</td>\n",
       "      <td>0.000059</td>\n",
       "      <td>5.879002e-05</td>\n",
       "      <td>0.999446</td>\n",
       "      <td>0.000000</td>\n",
       "      <td>0.732489</td>\n",
       "      <td>0.999446</td>\n",
       "      <td>0.0</td>\n",
       "    </tr>\n",
       "  </tbody>\n",
       "</table>\n",
       "<p>8165 rows × 64 columns</p>\n",
       "</div>"
      ],
      "text/plain": [
       "      Src Port  Dst Port  Protocol  Flow Duration  Tot Fwd Pkts  Tot Bwd Pkts  \\\n",
       "0     0.617473  0.006911       0.0       0.974587      0.231481      0.203125   \n",
       "1     0.614373  0.030607       0.0       0.500749      0.027778      0.015625   \n",
       "2     0.622525  0.006911       0.0       0.975375      0.231481      0.203125   \n",
       "3     0.622525  0.006911       0.0       0.964121      0.222222      0.187500   \n",
       "4     0.625675  0.006911       0.0       0.963316      0.222222      0.187500   \n",
       "...        ...       ...       ...            ...           ...           ...   \n",
       "8160  0.614373  0.030607       0.0       0.500776      0.027778      0.015625   \n",
       "8161  0.622525  0.006911       0.0       0.963557      0.222222      0.187500   \n",
       "8162  0.978643  0.006911       0.0       0.965783      0.222222      0.187500   \n",
       "8163  0.933255  0.030607       0.0       0.500754      0.027778      0.015625   \n",
       "8164  0.706232  0.030607       0.0       0.500676      0.027778      0.015625   \n",
       "\n",
       "      TotLen Fwd Pkts  TotLen Bwd Pkts  Fwd Pkt Len Max  Fwd Pkt Len Mean  \\\n",
       "0            0.020241         0.000406         0.026056          0.003272   \n",
       "1            0.000547         0.000033         0.001408          0.000737   \n",
       "2            0.020241         0.000406         0.026056          0.003272   \n",
       "3            0.010120         0.000203         0.026056          0.001704   \n",
       "4            0.010120         0.000203         0.026056          0.001704   \n",
       "...               ...              ...              ...               ...   \n",
       "8160         0.000547         0.000033         0.001408          0.000737   \n",
       "8161         0.010120         0.000203         0.026056          0.001704   \n",
       "8162         0.010120         0.000203         0.026056          0.001704   \n",
       "8163         0.000547         0.000033         0.001408          0.000737   \n",
       "8164         0.000547         0.000033         0.001408          0.000737   \n",
       "\n",
       "      ...  Fwd Act Data Pkts  Active Mean  Active Std  Active Max  \\\n",
       "0     ...           0.038462     0.007690    0.091902    0.088997   \n",
       "1     ...           0.019231     0.000244    0.000000    0.000244   \n",
       "2     ...           0.038462     0.008605    0.102782    0.097771   \n",
       "3     ...           0.019231     0.004622    0.079902    0.101551   \n",
       "4     ...           0.019231     0.004589    0.079155    0.100612   \n",
       "...   ...                ...          ...         ...         ...   \n",
       "8160  ...           0.019231     0.000435    0.000000    0.000435   \n",
       "8161  ...           0.019231     0.004443    0.076786    0.097591   \n",
       "8162  ...           0.019231     0.005012    0.086502    0.109946   \n",
       "8163  ...           0.019231     0.000434    0.000000    0.000434   \n",
       "8164  ...           0.019231     0.000059    0.000000    0.000059   \n",
       "\n",
       "        Active Min  Idle Mean  Idle Std  Idle Max  Idle Min  Label  \n",
       "0     5.797833e-08   0.086226  0.001218  0.064479  0.083226    1.0  \n",
       "1     2.435090e-04   0.999470  0.000000  0.732507  0.999470    0.0  \n",
       "2     1.391480e-06   0.086035  0.001088  0.063646  0.083252    1.0  \n",
       "3     2.029241e-06   0.086157  0.000997  0.064019  0.083219    1.0  \n",
       "4     1.292917e-05   0.086093  0.000914  0.063540  0.083229    1.0  \n",
       "...            ...        ...       ...       ...       ...    ...  \n",
       "8160  4.350114e-04   0.999447  0.000000  0.732489  0.999447    0.0  \n",
       "8161  1.855307e-06   0.086157  0.000947  0.063563  0.083221    1.0  \n",
       "8162  9.856316e-07   0.086196  0.001008  0.063828  0.083241    1.0  \n",
       "8163  4.340837e-04   0.999453  0.000000  0.732494  0.999453    0.0  \n",
       "8164  5.879002e-05   0.999446  0.000000  0.732489  0.999446    0.0  \n",
       "\n",
       "[8165 rows x 64 columns]"
      ]
     },
     "execution_count": 1492,
     "metadata": {},
     "output_type": "execute_result"
    }
   ],
   "source": [
    "process_df"
   ]
  },
  {
   "cell_type": "code",
   "execution_count": 1493,
   "metadata": {},
   "outputs": [],
   "source": [
    "process_df.drop_duplicates(inplace=True)"
   ]
  },
  {
   "cell_type": "code",
   "execution_count": 1494,
   "metadata": {},
   "outputs": [
    {
     "data": {
      "text/html": [
       "<div>\n",
       "<style scoped>\n",
       "    .dataframe tbody tr th:only-of-type {\n",
       "        vertical-align: middle;\n",
       "    }\n",
       "\n",
       "    .dataframe tbody tr th {\n",
       "        vertical-align: top;\n",
       "    }\n",
       "\n",
       "    .dataframe thead th {\n",
       "        text-align: right;\n",
       "    }\n",
       "</style>\n",
       "<table border=\"1\" class=\"dataframe\">\n",
       "  <thead>\n",
       "    <tr style=\"text-align: right;\">\n",
       "      <th></th>\n",
       "      <th>Src Port</th>\n",
       "      <th>Dst Port</th>\n",
       "      <th>Protocol</th>\n",
       "      <th>Flow Duration</th>\n",
       "      <th>Tot Fwd Pkts</th>\n",
       "      <th>Tot Bwd Pkts</th>\n",
       "      <th>TotLen Fwd Pkts</th>\n",
       "      <th>TotLen Bwd Pkts</th>\n",
       "      <th>Fwd Pkt Len Max</th>\n",
       "      <th>Fwd Pkt Len Mean</th>\n",
       "      <th>...</th>\n",
       "      <th>Fwd Act Data Pkts</th>\n",
       "      <th>Active Mean</th>\n",
       "      <th>Active Std</th>\n",
       "      <th>Active Max</th>\n",
       "      <th>Active Min</th>\n",
       "      <th>Idle Mean</th>\n",
       "      <th>Idle Std</th>\n",
       "      <th>Idle Max</th>\n",
       "      <th>Idle Min</th>\n",
       "      <th>Label</th>\n",
       "    </tr>\n",
       "  </thead>\n",
       "  <tbody>\n",
       "    <tr>\n",
       "      <th>0</th>\n",
       "      <td>0.617473</td>\n",
       "      <td>0.006911</td>\n",
       "      <td>0.0</td>\n",
       "      <td>0.974587</td>\n",
       "      <td>0.231481</td>\n",
       "      <td>0.203125</td>\n",
       "      <td>0.020241</td>\n",
       "      <td>0.000406</td>\n",
       "      <td>0.026056</td>\n",
       "      <td>0.003272</td>\n",
       "      <td>...</td>\n",
       "      <td>0.038462</td>\n",
       "      <td>0.007690</td>\n",
       "      <td>0.091902</td>\n",
       "      <td>0.088997</td>\n",
       "      <td>5.797833e-08</td>\n",
       "      <td>0.086226</td>\n",
       "      <td>0.001218</td>\n",
       "      <td>0.064479</td>\n",
       "      <td>0.083226</td>\n",
       "      <td>1.0</td>\n",
       "    </tr>\n",
       "    <tr>\n",
       "      <th>1</th>\n",
       "      <td>0.614373</td>\n",
       "      <td>0.030607</td>\n",
       "      <td>0.0</td>\n",
       "      <td>0.500749</td>\n",
       "      <td>0.027778</td>\n",
       "      <td>0.015625</td>\n",
       "      <td>0.000547</td>\n",
       "      <td>0.000033</td>\n",
       "      <td>0.001408</td>\n",
       "      <td>0.000737</td>\n",
       "      <td>...</td>\n",
       "      <td>0.019231</td>\n",
       "      <td>0.000244</td>\n",
       "      <td>0.000000</td>\n",
       "      <td>0.000244</td>\n",
       "      <td>2.435090e-04</td>\n",
       "      <td>0.999470</td>\n",
       "      <td>0.000000</td>\n",
       "      <td>0.732507</td>\n",
       "      <td>0.999470</td>\n",
       "      <td>0.0</td>\n",
       "    </tr>\n",
       "    <tr>\n",
       "      <th>2</th>\n",
       "      <td>0.622525</td>\n",
       "      <td>0.006911</td>\n",
       "      <td>0.0</td>\n",
       "      <td>0.975375</td>\n",
       "      <td>0.231481</td>\n",
       "      <td>0.203125</td>\n",
       "      <td>0.020241</td>\n",
       "      <td>0.000406</td>\n",
       "      <td>0.026056</td>\n",
       "      <td>0.003272</td>\n",
       "      <td>...</td>\n",
       "      <td>0.038462</td>\n",
       "      <td>0.008605</td>\n",
       "      <td>0.102782</td>\n",
       "      <td>0.097771</td>\n",
       "      <td>1.391480e-06</td>\n",
       "      <td>0.086035</td>\n",
       "      <td>0.001088</td>\n",
       "      <td>0.063646</td>\n",
       "      <td>0.083252</td>\n",
       "      <td>1.0</td>\n",
       "    </tr>\n",
       "    <tr>\n",
       "      <th>3</th>\n",
       "      <td>0.622525</td>\n",
       "      <td>0.006911</td>\n",
       "      <td>0.0</td>\n",
       "      <td>0.964121</td>\n",
       "      <td>0.222222</td>\n",
       "      <td>0.187500</td>\n",
       "      <td>0.010120</td>\n",
       "      <td>0.000203</td>\n",
       "      <td>0.026056</td>\n",
       "      <td>0.001704</td>\n",
       "      <td>...</td>\n",
       "      <td>0.019231</td>\n",
       "      <td>0.004622</td>\n",
       "      <td>0.079902</td>\n",
       "      <td>0.101551</td>\n",
       "      <td>2.029241e-06</td>\n",
       "      <td>0.086157</td>\n",
       "      <td>0.000997</td>\n",
       "      <td>0.064019</td>\n",
       "      <td>0.083219</td>\n",
       "      <td>1.0</td>\n",
       "    </tr>\n",
       "    <tr>\n",
       "      <th>4</th>\n",
       "      <td>0.625675</td>\n",
       "      <td>0.006911</td>\n",
       "      <td>0.0</td>\n",
       "      <td>0.963316</td>\n",
       "      <td>0.222222</td>\n",
       "      <td>0.187500</td>\n",
       "      <td>0.010120</td>\n",
       "      <td>0.000203</td>\n",
       "      <td>0.026056</td>\n",
       "      <td>0.001704</td>\n",
       "      <td>...</td>\n",
       "      <td>0.019231</td>\n",
       "      <td>0.004589</td>\n",
       "      <td>0.079155</td>\n",
       "      <td>0.100612</td>\n",
       "      <td>1.292917e-05</td>\n",
       "      <td>0.086093</td>\n",
       "      <td>0.000914</td>\n",
       "      <td>0.063540</td>\n",
       "      <td>0.083229</td>\n",
       "      <td>1.0</td>\n",
       "    </tr>\n",
       "    <tr>\n",
       "      <th>...</th>\n",
       "      <td>...</td>\n",
       "      <td>...</td>\n",
       "      <td>...</td>\n",
       "      <td>...</td>\n",
       "      <td>...</td>\n",
       "      <td>...</td>\n",
       "      <td>...</td>\n",
       "      <td>...</td>\n",
       "      <td>...</td>\n",
       "      <td>...</td>\n",
       "      <td>...</td>\n",
       "      <td>...</td>\n",
       "      <td>...</td>\n",
       "      <td>...</td>\n",
       "      <td>...</td>\n",
       "      <td>...</td>\n",
       "      <td>...</td>\n",
       "      <td>...</td>\n",
       "      <td>...</td>\n",
       "      <td>...</td>\n",
       "      <td>...</td>\n",
       "    </tr>\n",
       "    <tr>\n",
       "      <th>8160</th>\n",
       "      <td>0.614373</td>\n",
       "      <td>0.030607</td>\n",
       "      <td>0.0</td>\n",
       "      <td>0.500776</td>\n",
       "      <td>0.027778</td>\n",
       "      <td>0.015625</td>\n",
       "      <td>0.000547</td>\n",
       "      <td>0.000033</td>\n",
       "      <td>0.001408</td>\n",
       "      <td>0.000737</td>\n",
       "      <td>...</td>\n",
       "      <td>0.019231</td>\n",
       "      <td>0.000435</td>\n",
       "      <td>0.000000</td>\n",
       "      <td>0.000435</td>\n",
       "      <td>4.350114e-04</td>\n",
       "      <td>0.999447</td>\n",
       "      <td>0.000000</td>\n",
       "      <td>0.732489</td>\n",
       "      <td>0.999447</td>\n",
       "      <td>0.0</td>\n",
       "    </tr>\n",
       "    <tr>\n",
       "      <th>8161</th>\n",
       "      <td>0.622525</td>\n",
       "      <td>0.006911</td>\n",
       "      <td>0.0</td>\n",
       "      <td>0.963557</td>\n",
       "      <td>0.222222</td>\n",
       "      <td>0.187500</td>\n",
       "      <td>0.010120</td>\n",
       "      <td>0.000203</td>\n",
       "      <td>0.026056</td>\n",
       "      <td>0.001704</td>\n",
       "      <td>...</td>\n",
       "      <td>0.019231</td>\n",
       "      <td>0.004443</td>\n",
       "      <td>0.076786</td>\n",
       "      <td>0.097591</td>\n",
       "      <td>1.855307e-06</td>\n",
       "      <td>0.086157</td>\n",
       "      <td>0.000947</td>\n",
       "      <td>0.063563</td>\n",
       "      <td>0.083221</td>\n",
       "      <td>1.0</td>\n",
       "    </tr>\n",
       "    <tr>\n",
       "      <th>8162</th>\n",
       "      <td>0.978643</td>\n",
       "      <td>0.006911</td>\n",
       "      <td>0.0</td>\n",
       "      <td>0.965783</td>\n",
       "      <td>0.222222</td>\n",
       "      <td>0.187500</td>\n",
       "      <td>0.010120</td>\n",
       "      <td>0.000203</td>\n",
       "      <td>0.026056</td>\n",
       "      <td>0.001704</td>\n",
       "      <td>...</td>\n",
       "      <td>0.019231</td>\n",
       "      <td>0.005012</td>\n",
       "      <td>0.086502</td>\n",
       "      <td>0.109946</td>\n",
       "      <td>9.856316e-07</td>\n",
       "      <td>0.086196</td>\n",
       "      <td>0.001008</td>\n",
       "      <td>0.063828</td>\n",
       "      <td>0.083241</td>\n",
       "      <td>1.0</td>\n",
       "    </tr>\n",
       "    <tr>\n",
       "      <th>8163</th>\n",
       "      <td>0.933255</td>\n",
       "      <td>0.030607</td>\n",
       "      <td>0.0</td>\n",
       "      <td>0.500754</td>\n",
       "      <td>0.027778</td>\n",
       "      <td>0.015625</td>\n",
       "      <td>0.000547</td>\n",
       "      <td>0.000033</td>\n",
       "      <td>0.001408</td>\n",
       "      <td>0.000737</td>\n",
       "      <td>...</td>\n",
       "      <td>0.019231</td>\n",
       "      <td>0.000434</td>\n",
       "      <td>0.000000</td>\n",
       "      <td>0.000434</td>\n",
       "      <td>4.340837e-04</td>\n",
       "      <td>0.999453</td>\n",
       "      <td>0.000000</td>\n",
       "      <td>0.732494</td>\n",
       "      <td>0.999453</td>\n",
       "      <td>0.0</td>\n",
       "    </tr>\n",
       "    <tr>\n",
       "      <th>8164</th>\n",
       "      <td>0.706232</td>\n",
       "      <td>0.030607</td>\n",
       "      <td>0.0</td>\n",
       "      <td>0.500676</td>\n",
       "      <td>0.027778</td>\n",
       "      <td>0.015625</td>\n",
       "      <td>0.000547</td>\n",
       "      <td>0.000033</td>\n",
       "      <td>0.001408</td>\n",
       "      <td>0.000737</td>\n",
       "      <td>...</td>\n",
       "      <td>0.019231</td>\n",
       "      <td>0.000059</td>\n",
       "      <td>0.000000</td>\n",
       "      <td>0.000059</td>\n",
       "      <td>5.879002e-05</td>\n",
       "      <td>0.999446</td>\n",
       "      <td>0.000000</td>\n",
       "      <td>0.732489</td>\n",
       "      <td>0.999446</td>\n",
       "      <td>0.0</td>\n",
       "    </tr>\n",
       "  </tbody>\n",
       "</table>\n",
       "<p>8165 rows × 64 columns</p>\n",
       "</div>"
      ],
      "text/plain": [
       "      Src Port  Dst Port  Protocol  Flow Duration  Tot Fwd Pkts  Tot Bwd Pkts  \\\n",
       "0     0.617473  0.006911       0.0       0.974587      0.231481      0.203125   \n",
       "1     0.614373  0.030607       0.0       0.500749      0.027778      0.015625   \n",
       "2     0.622525  0.006911       0.0       0.975375      0.231481      0.203125   \n",
       "3     0.622525  0.006911       0.0       0.964121      0.222222      0.187500   \n",
       "4     0.625675  0.006911       0.0       0.963316      0.222222      0.187500   \n",
       "...        ...       ...       ...            ...           ...           ...   \n",
       "8160  0.614373  0.030607       0.0       0.500776      0.027778      0.015625   \n",
       "8161  0.622525  0.006911       0.0       0.963557      0.222222      0.187500   \n",
       "8162  0.978643  0.006911       0.0       0.965783      0.222222      0.187500   \n",
       "8163  0.933255  0.030607       0.0       0.500754      0.027778      0.015625   \n",
       "8164  0.706232  0.030607       0.0       0.500676      0.027778      0.015625   \n",
       "\n",
       "      TotLen Fwd Pkts  TotLen Bwd Pkts  Fwd Pkt Len Max  Fwd Pkt Len Mean  \\\n",
       "0            0.020241         0.000406         0.026056          0.003272   \n",
       "1            0.000547         0.000033         0.001408          0.000737   \n",
       "2            0.020241         0.000406         0.026056          0.003272   \n",
       "3            0.010120         0.000203         0.026056          0.001704   \n",
       "4            0.010120         0.000203         0.026056          0.001704   \n",
       "...               ...              ...              ...               ...   \n",
       "8160         0.000547         0.000033         0.001408          0.000737   \n",
       "8161         0.010120         0.000203         0.026056          0.001704   \n",
       "8162         0.010120         0.000203         0.026056          0.001704   \n",
       "8163         0.000547         0.000033         0.001408          0.000737   \n",
       "8164         0.000547         0.000033         0.001408          0.000737   \n",
       "\n",
       "      ...  Fwd Act Data Pkts  Active Mean  Active Std  Active Max  \\\n",
       "0     ...           0.038462     0.007690    0.091902    0.088997   \n",
       "1     ...           0.019231     0.000244    0.000000    0.000244   \n",
       "2     ...           0.038462     0.008605    0.102782    0.097771   \n",
       "3     ...           0.019231     0.004622    0.079902    0.101551   \n",
       "4     ...           0.019231     0.004589    0.079155    0.100612   \n",
       "...   ...                ...          ...         ...         ...   \n",
       "8160  ...           0.019231     0.000435    0.000000    0.000435   \n",
       "8161  ...           0.019231     0.004443    0.076786    0.097591   \n",
       "8162  ...           0.019231     0.005012    0.086502    0.109946   \n",
       "8163  ...           0.019231     0.000434    0.000000    0.000434   \n",
       "8164  ...           0.019231     0.000059    0.000000    0.000059   \n",
       "\n",
       "        Active Min  Idle Mean  Idle Std  Idle Max  Idle Min  Label  \n",
       "0     5.797833e-08   0.086226  0.001218  0.064479  0.083226    1.0  \n",
       "1     2.435090e-04   0.999470  0.000000  0.732507  0.999470    0.0  \n",
       "2     1.391480e-06   0.086035  0.001088  0.063646  0.083252    1.0  \n",
       "3     2.029241e-06   0.086157  0.000997  0.064019  0.083219    1.0  \n",
       "4     1.292917e-05   0.086093  0.000914  0.063540  0.083229    1.0  \n",
       "...            ...        ...       ...       ...       ...    ...  \n",
       "8160  4.350114e-04   0.999447  0.000000  0.732489  0.999447    0.0  \n",
       "8161  1.855307e-06   0.086157  0.000947  0.063563  0.083221    1.0  \n",
       "8162  9.856316e-07   0.086196  0.001008  0.063828  0.083241    1.0  \n",
       "8163  4.340837e-04   0.999453  0.000000  0.732494  0.999453    0.0  \n",
       "8164  5.879002e-05   0.999446  0.000000  0.732489  0.999446    0.0  \n",
       "\n",
       "[8165 rows x 64 columns]"
      ]
     },
     "execution_count": 1494,
     "metadata": {},
     "output_type": "execute_result"
    }
   ],
   "source": [
    "process_df"
   ]
  },
  {
   "cell_type": "code",
   "execution_count": 1495,
   "metadata": {},
   "outputs": [],
   "source": [
    "# process_df.to_csv('process.csv')"
   ]
  },
  {
   "cell_type": "code",
   "execution_count": 1496,
   "metadata": {},
   "outputs": [],
   "source": [
    "dropped = []\n",
    "for i in fin_df.columns:\n",
    "    if i not in process_df.columns:\n",
    "        dropped.append(i)"
   ]
  },
  {
   "cell_type": "code",
   "execution_count": 1497,
   "metadata": {},
   "outputs": [
    {
     "data": {
      "text/plain": [
       "['Flow ID',\n",
       " 'Src IP',\n",
       " 'Dst IP',\n",
       " 'Timestamp',\n",
       " 'Fwd Pkt Len Min',\n",
       " 'Fwd PSH Flags',\n",
       " 'Fwd URG Flags',\n",
       " 'Bwd URG Flags',\n",
       " 'RST Flag Cnt',\n",
       " 'URG Flag Cnt',\n",
       " 'CWE Flag Count',\n",
       " 'ECE Flag Cnt',\n",
       " 'Fwd Byts/b Avg',\n",
       " 'Fwd Pkts/b Avg',\n",
       " 'Fwd Blk Rate Avg',\n",
       " 'Bwd Byts/b Avg',\n",
       " 'Bwd Pkts/b Avg',\n",
       " 'Bwd Blk Rate Avg',\n",
       " 'Init Fwd Win Byts',\n",
       " 'Fwd Seg Size Min']"
      ]
     },
     "execution_count": 1497,
     "metadata": {},
     "output_type": "execute_result"
    }
   ],
   "source": [
    "dropped"
   ]
  },
  {
   "cell_type": "code",
   "execution_count": 1498,
   "metadata": {},
   "outputs": [],
   "source": [
    "labels = process_df['Label']"
   ]
  },
  {
   "cell_type": "code",
   "execution_count": 1499,
   "metadata": {},
   "outputs": [],
   "source": [
    "labels = list(labels)"
   ]
  },
  {
   "cell_type": "code",
   "execution_count": 1500,
   "metadata": {},
   "outputs": [
    {
     "data": {
      "text/plain": [
       "[1.0,\n",
       " 0.0,\n",
       " 1.0,\n",
       " 1.0,\n",
       " 1.0,\n",
       " 1.0,\n",
       " 0.0,\n",
       " 1.0,\n",
       " 0.0,\n",
       " 0.0,\n",
       " 1.0,\n",
       " 1.0,\n",
       " 0.0,\n",
       " 0.0,\n",
       " 0.0,\n",
       " 0.0,\n",
       " 0.0,\n",
       " 1.0,\n",
       " 0.0,\n",
       " 1.0]"
      ]
     },
     "execution_count": 1500,
     "metadata": {},
     "output_type": "execute_result"
    }
   ],
   "source": [
    "labels[:20]"
   ]
  },
  {
   "cell_type": "code",
   "execution_count": 1501,
   "metadata": {},
   "outputs": [],
   "source": [
    "data = list(process_df.drop('Label', axis=1).values.tolist())"
   ]
  },
  {
   "cell_type": "code",
   "execution_count": 1502,
   "metadata": {},
   "outputs": [],
   "source": [
    "# labels[0:2]"
   ]
  },
  {
   "cell_type": "code",
   "execution_count": 1505,
   "metadata": {},
   "outputs": [],
   "source": [
    "data, labels = undersample.fit_resample(data, labels)"
   ]
  },
  {
   "cell_type": "code",
   "execution_count": 1506,
   "metadata": {},
   "outputs": [],
   "source": [
    "# data[0:2]"
   ]
  },
  {
   "cell_type": "code",
   "execution_count": 1507,
   "metadata": {},
   "outputs": [],
   "source": [
    "from sklearn.model_selection import train_test_split"
   ]
  },
  {
   "cell_type": "code",
   "execution_count": 1508,
   "metadata": {},
   "outputs": [],
   "source": [
    "X_train, X_test, y_train, y_test = train_test_split(data, labels, test_size=0.3, random_state=42)"
   ]
  },
  {
   "cell_type": "code",
   "execution_count": 1509,
   "metadata": {},
   "outputs": [
    {
     "name": "stdout",
     "output_type": "stream",
     "text": [
      "3922 1682\n"
     ]
    }
   ],
   "source": [
    "print(len(X_train), len(X_test))"
   ]
  },
  {
   "cell_type": "code",
   "execution_count": 1510,
   "metadata": {},
   "outputs": [
    {
     "data": {
      "text/plain": [
       "875"
      ]
     },
     "execution_count": 1510,
     "metadata": {},
     "output_type": "execute_result"
    }
   ],
   "source": [
    "y_test.count(0)"
   ]
  },
  {
   "cell_type": "code",
   "execution_count": 1511,
   "metadata": {},
   "outputs": [
    {
     "data": {
      "text/plain": [
       "807"
      ]
     },
     "execution_count": 1511,
     "metadata": {},
     "output_type": "execute_result"
    }
   ],
   "source": [
    "y_test.count(1)"
   ]
  },
  {
   "cell_type": "code",
   "execution_count": 1512,
   "metadata": {},
   "outputs": [
    {
     "data": {
      "text/plain": [
       "1927"
      ]
     },
     "execution_count": 1512,
     "metadata": {},
     "output_type": "execute_result"
    }
   ],
   "source": [
    "y_train.count(0)"
   ]
  },
  {
   "cell_type": "code",
   "execution_count": 1513,
   "metadata": {},
   "outputs": [
    {
     "data": {
      "text/plain": [
       "1995"
      ]
     },
     "execution_count": 1513,
     "metadata": {},
     "output_type": "execute_result"
    }
   ],
   "source": [
    "y_train.count(1)"
   ]
  },
  {
   "cell_type": "code",
   "execution_count": 1514,
   "metadata": {},
   "outputs": [],
   "source": [
    "from sklearn.linear_model import LogisticRegression"
   ]
  },
  {
   "cell_type": "code",
   "execution_count": 1515,
   "metadata": {},
   "outputs": [],
   "source": [
    "clf = LogisticRegression(random_state=0).fit(X_train, y_train)"
   ]
  },
  {
   "cell_type": "code",
   "execution_count": 1516,
   "metadata": {},
   "outputs": [],
   "source": [
    "y_pred = clf.predict(X_test)"
   ]
  },
  {
   "cell_type": "code",
   "execution_count": 1517,
   "metadata": {},
   "outputs": [],
   "source": [
    "from sklearn.metrics import accuracy_score"
   ]
  },
  {
   "cell_type": "code",
   "execution_count": 1518,
   "metadata": {},
   "outputs": [
    {
     "name": "stdout",
     "output_type": "stream",
     "text": [
      "Accuracy :100.00%\n"
     ]
    }
   ],
   "source": [
    "print(\"Accuracy :{:.2f}\".format(100*accuracy_score(y_test, y_pred)) + '%')"
   ]
  },
  {
   "cell_type": "code",
   "execution_count": 1519,
   "metadata": {},
   "outputs": [],
   "source": [
    "from sklearn.metrics import classification_report"
   ]
  },
  {
   "cell_type": "code",
   "execution_count": 1520,
   "metadata": {},
   "outputs": [
    {
     "name": "stdout",
     "output_type": "stream",
     "text": [
      "              precision    recall  f1-score   support\n",
      "\n",
      "         0.0       1.00      1.00      1.00       875\n",
      "         1.0       1.00      1.00      1.00       807\n",
      "\n",
      "    accuracy                           1.00      1682\n",
      "   macro avg       1.00      1.00      1.00      1682\n",
      "weighted avg       1.00      1.00      1.00      1682\n",
      "\n"
     ]
    }
   ],
   "source": [
    "print(classification_report(y_test, y_pred))"
   ]
  },
  {
   "cell_type": "code",
   "execution_count": 1521,
   "metadata": {},
   "outputs": [],
   "source": [
    "from sklearn.metrics import plot_confusion_matrix"
   ]
  },
  {
   "cell_type": "code",
   "execution_count": 1522,
   "metadata": {},
   "outputs": [
    {
     "data": {
      "text/plain": [
       "<sklearn.metrics._plot.confusion_matrix.ConfusionMatrixDisplay at 0x7f0453cd2790>"
      ]
     },
     "execution_count": 1522,
     "metadata": {},
     "output_type": "execute_result"
    },
    {
     "data": {
      "image/png": "[encoded data removed]",
      "text/plain": [
       "<Figure size 432x288 with 2 Axes>"
      ]
     },
     "metadata": {
      "needs_background": "light"
     },
     "output_type": "display_data"
    }
   ],
   "source": [
    "plot_confusion_matrix(clf, X_test, y_test)  "
   ]
  },
  {
   "cell_type": "code",
   "execution_count": 1523,
   "metadata": {},
   "outputs": [],
   "source": [
    "mal_df = pd.read_csv('torii_mal_fan.pcap_Flow.csv')  "
   ]
  },
  {
   "cell_type": "code",
   "execution_count": 1524,
   "metadata": {},
   "outputs": [
    {
     "data": {
      "text/plain": [
       "2794"
      ]
     },
     "execution_count": 1524,
     "metadata": {},
     "output_type": "execute_result"
    }
   ],
   "source": [
    "len(mal_df)"
   ]
  },
  {
   "cell_type": "code",
   "execution_count": 1525,
   "metadata": {},
   "outputs": [],
   "source": [
    "mal_df['Label'] = 1"
   ]
  },
  {
   "cell_type": "code",
   "execution_count": 1526,
   "metadata": {},
   "outputs": [],
   "source": [
    "# normal_df = pd.read_csv('torii_mal_fan.pcap_Flow.csv')"
   ]
  },
  {
   "cell_type": "code",
   "execution_count": 1527,
   "metadata": {},
   "outputs": [],
   "source": [
    "# normal_df['Label'] = 0"
   ]
  },
  {
   "cell_type": "code",
   "execution_count": 1528,
   "metadata": {},
   "outputs": [],
   "source": [
    "# len(normal_df)"
   ]
  },
  {
   "cell_type": "code",
   "execution_count": 1529,
   "metadata": {},
   "outputs": [],
   "source": [
    "# df = normal_df\n",
    "df = mal_df\n",
    "#df = pd.concat([mal_df, normal_df], axis=0, join='inner')"
   ]
  },
  {
   "cell_type": "code",
   "execution_count": 1530,
   "metadata": {},
   "outputs": [],
   "source": [
    "df = df.sample(frac=1).reset_index(drop=True)"
   ]
  },
  {
   "cell_type": "code",
   "execution_count": 1531,
   "metadata": {},
   "outputs": [],
   "source": [
    "dst_ip = mal_df['Dst IP']"
   ]
  },
  {
   "cell_type": "code",
   "execution_count": 1532,
   "metadata": {},
   "outputs": [],
   "source": [
    "# dst_ip"
   ]
  },
  {
   "cell_type": "code",
   "execution_count": 1533,
   "metadata": {},
   "outputs": [],
   "source": [
    "df.replace([np.inf, -np.inf], np.nan, inplace=True)"
   ]
  },
  {
   "cell_type": "code",
   "execution_count": 1534,
   "metadata": {},
   "outputs": [],
   "source": [
    "df.dropna(inplace=True)"
   ]
  },
  {
   "cell_type": "code",
   "execution_count": 1535,
   "metadata": {},
   "outputs": [],
   "source": [
    "df.drop(dropped, inplace=True, axis=1)"
   ]
  },
  {
   "cell_type": "code",
   "execution_count": 1536,
   "metadata": {},
   "outputs": [],
   "source": [
    "b = df['Label']"
   ]
  },
  {
   "cell_type": "code",
   "execution_count": 1537,
   "metadata": {},
   "outputs": [],
   "source": [
    "df.drop('Label', inplace=True, axis=1)"
   ]
  },
  {
   "cell_type": "code",
   "execution_count": 1538,
   "metadata": {},
   "outputs": [],
   "source": [
    "column = df.columns"
   ]
  },
  {
   "cell_type": "code",
   "execution_count": 1539,
   "metadata": {},
   "outputs": [
    {
     "data": {
      "text/plain": [
       "Index(['Src Port', 'Dst Port', 'Protocol', 'Flow Duration', 'Tot Fwd Pkts',\n",
       "       'Tot Bwd Pkts', 'TotLen Fwd Pkts', 'TotLen Bwd Pkts', 'Fwd Pkt Len Max',\n",
       "       'Fwd Pkt Len Mean', 'Fwd Pkt Len Std', 'Bwd Pkt Len Max',\n",
       "       'Bwd Pkt Len Min', 'Bwd Pkt Len Mean', 'Bwd Pkt Len Std', 'Flow Byts/s',\n",
       "       'Flow Pkts/s', 'Flow IAT Mean', 'Flow IAT Std', 'Flow IAT Max',\n",
       "       'Flow IAT Min', 'Fwd IAT Tot', 'Fwd IAT Mean', 'Fwd IAT Std',\n",
       "       'Fwd IAT Max', 'Fwd IAT Min', 'Bwd IAT Tot', 'Bwd IAT Mean',\n",
       "       'Bwd IAT Std', 'Bwd IAT Max', 'Bwd IAT Min', 'Bwd PSH Flags',\n",
       "       'Fwd Header Len', 'Bwd Header Len', 'Fwd Pkts/s', 'Bwd Pkts/s',\n",
       "       'Pkt Len Min', 'Pkt Len Max', 'Pkt Len Mean', 'Pkt Len Std',\n",
       "       'Pkt Len Var', 'FIN Flag Cnt', 'SYN Flag Cnt', 'PSH Flag Cnt',\n",
       "       'ACK Flag Cnt', 'Down/Up Ratio', 'Pkt Size Avg', 'Fwd Seg Size Avg',\n",
       "       'Bwd Seg Size Avg', 'Subflow Fwd Pkts', 'Subflow Fwd Byts',\n",
       "       'Subflow Bwd Pkts', 'Subflow Bwd Byts', 'Init Bwd Win Byts',\n",
       "       'Fwd Act Data Pkts', 'Active Mean', 'Active Std', 'Active Max',\n",
       "       'Active Min', 'Idle Mean', 'Idle Std', 'Idle Max', 'Idle Min'],\n",
       "      dtype='object')"
      ]
     },
     "execution_count": 1539,
     "metadata": {},
     "output_type": "execute_result"
    }
   ],
   "source": [
    "column"
   ]
  },
  {
   "cell_type": "code",
   "execution_count": 1540,
   "metadata": {},
   "outputs": [],
   "source": [
    "for i in range(len(column)):\n",
    "    df[column[i]] = (df[column[i]] - min_vals[i]) / (max_vals[i] - min_vals[i]) "
   ]
  },
  {
   "cell_type": "code",
   "execution_count": 1541,
   "metadata": {},
   "outputs": [],
   "source": [
    "df[df < 0] = 0"
   ]
  },
  {
   "cell_type": "code",
   "execution_count": 1542,
   "metadata": {},
   "outputs": [],
   "source": [
    "df[df > 1] = 1"
   ]
  },
  {
   "cell_type": "code",
   "execution_count": 1543,
   "metadata": {},
   "outputs": [
    {
     "data": {
      "text/html": [
       "<div>\n",
       "<style scoped>\n",
       "    .dataframe tbody tr th:only-of-type {\n",
       "        vertical-align: middle;\n",
       "    }\n",
       "\n",
       "    .dataframe tbody tr th {\n",
       "        vertical-align: top;\n",
       "    }\n",
       "\n",
       "    .dataframe thead th {\n",
       "        text-align: right;\n",
       "    }\n",
       "</style>\n",
       "<table border=\"1\" class=\"dataframe\">\n",
       "  <thead>\n",
       "    <tr style=\"text-align: right;\">\n",
       "      <th></th>\n",
       "      <th>Src Port</th>\n",
       "      <th>Dst Port</th>\n",
       "      <th>Protocol</th>\n",
       "      <th>Flow Duration</th>\n",
       "      <th>Tot Fwd Pkts</th>\n",
       "      <th>Tot Bwd Pkts</th>\n",
       "      <th>TotLen Fwd Pkts</th>\n",
       "      <th>TotLen Bwd Pkts</th>\n",
       "      <th>Fwd Pkt Len Max</th>\n",
       "      <th>Fwd Pkt Len Mean</th>\n",
       "      <th>...</th>\n",
       "      <th>Init Bwd Win Byts</th>\n",
       "      <th>Fwd Act Data Pkts</th>\n",
       "      <th>Active Mean</th>\n",
       "      <th>Active Std</th>\n",
       "      <th>Active Max</th>\n",
       "      <th>Active Min</th>\n",
       "      <th>Idle Mean</th>\n",
       "      <th>Idle Std</th>\n",
       "      <th>Idle Max</th>\n",
       "      <th>Idle Min</th>\n",
       "    </tr>\n",
       "  </thead>\n",
       "  <tbody>\n",
       "    <tr>\n",
       "      <th>0</th>\n",
       "      <td>0.700146</td>\n",
       "      <td>0.006911</td>\n",
       "      <td>0.0</td>\n",
       "      <td>0.964151</td>\n",
       "      <td>0.222222</td>\n",
       "      <td>0.187500</td>\n",
       "      <td>0.010120</td>\n",
       "      <td>0.000203</td>\n",
       "      <td>0.026056</td>\n",
       "      <td>0.001704</td>\n",
       "      <td>...</td>\n",
       "      <td>0.096556</td>\n",
       "      <td>0.019231</td>\n",
       "      <td>0.004287</td>\n",
       "      <td>0.074002</td>\n",
       "      <td>0.094058</td>\n",
       "      <td>3.826570e-06</td>\n",
       "      <td>0.086256</td>\n",
       "      <td>0.001060</td>\n",
       "      <td>0.064143</td>\n",
       "      <td>0.083219</td>\n",
       "    </tr>\n",
       "    <tr>\n",
       "      <th>1</th>\n",
       "      <td>0.775995</td>\n",
       "      <td>0.006911</td>\n",
       "      <td>0.0</td>\n",
       "      <td>0.966678</td>\n",
       "      <td>0.222222</td>\n",
       "      <td>0.187500</td>\n",
       "      <td>0.010120</td>\n",
       "      <td>0.000203</td>\n",
       "      <td>0.026056</td>\n",
       "      <td>0.001704</td>\n",
       "      <td>...</td>\n",
       "      <td>0.097120</td>\n",
       "      <td>0.019231</td>\n",
       "      <td>0.004976</td>\n",
       "      <td>0.085991</td>\n",
       "      <td>0.109291</td>\n",
       "      <td>5.797833e-08</td>\n",
       "      <td>0.086287</td>\n",
       "      <td>0.001098</td>\n",
       "      <td>0.064312</td>\n",
       "      <td>0.083181</td>\n",
       "    </tr>\n",
       "    <tr>\n",
       "      <th>2</th>\n",
       "      <td>0.625609</td>\n",
       "      <td>0.006911</td>\n",
       "      <td>0.0</td>\n",
       "      <td>0.963608</td>\n",
       "      <td>0.222222</td>\n",
       "      <td>0.187500</td>\n",
       "      <td>0.010120</td>\n",
       "      <td>0.000203</td>\n",
       "      <td>0.026056</td>\n",
       "      <td>0.001704</td>\n",
       "      <td>...</td>\n",
       "      <td>0.102767</td>\n",
       "      <td>0.019231</td>\n",
       "      <td>0.004506</td>\n",
       "      <td>0.077750</td>\n",
       "      <td>0.098824</td>\n",
       "      <td>6.087724e-06</td>\n",
       "      <td>0.086143</td>\n",
       "      <td>0.000978</td>\n",
       "      <td>0.063770</td>\n",
       "      <td>0.083179</td>\n",
       "    </tr>\n",
       "    <tr>\n",
       "      <th>3</th>\n",
       "      <td>0.627971</td>\n",
       "      <td>0.006911</td>\n",
       "      <td>0.0</td>\n",
       "      <td>0.976115</td>\n",
       "      <td>0.231481</td>\n",
       "      <td>0.203125</td>\n",
       "      <td>0.020241</td>\n",
       "      <td>0.000406</td>\n",
       "      <td>0.026056</td>\n",
       "      <td>0.003272</td>\n",
       "      <td>...</td>\n",
       "      <td>0.097120</td>\n",
       "      <td>0.038462</td>\n",
       "      <td>0.024425</td>\n",
       "      <td>0.326298</td>\n",
       "      <td>0.387750</td>\n",
       "      <td>5.681876e-06</td>\n",
       "      <td>0.086114</td>\n",
       "      <td>0.000952</td>\n",
       "      <td>0.063579</td>\n",
       "      <td>0.083218</td>\n",
       "    </tr>\n",
       "    <tr>\n",
       "      <th>4</th>\n",
       "      <td>0.775995</td>\n",
       "      <td>0.006911</td>\n",
       "      <td>0.0</td>\n",
       "      <td>0.963865</td>\n",
       "      <td>0.222222</td>\n",
       "      <td>0.187500</td>\n",
       "      <td>0.010120</td>\n",
       "      <td>0.000203</td>\n",
       "      <td>0.026056</td>\n",
       "      <td>0.001704</td>\n",
       "      <td>...</td>\n",
       "      <td>0.097120</td>\n",
       "      <td>0.019231</td>\n",
       "      <td>0.018602</td>\n",
       "      <td>0.314472</td>\n",
       "      <td>0.390469</td>\n",
       "      <td>5.797833e-08</td>\n",
       "      <td>0.086287</td>\n",
       "      <td>0.000350</td>\n",
       "      <td>0.063975</td>\n",
       "      <td>0.086165</td>\n",
       "    </tr>\n",
       "    <tr>\n",
       "      <th>...</th>\n",
       "      <td>...</td>\n",
       "      <td>...</td>\n",
       "      <td>...</td>\n",
       "      <td>...</td>\n",
       "      <td>...</td>\n",
       "      <td>...</td>\n",
       "      <td>...</td>\n",
       "      <td>...</td>\n",
       "      <td>...</td>\n",
       "      <td>...</td>\n",
       "      <td>...</td>\n",
       "      <td>...</td>\n",
       "      <td>...</td>\n",
       "      <td>...</td>\n",
       "      <td>...</td>\n",
       "      <td>...</td>\n",
       "      <td>...</td>\n",
       "      <td>...</td>\n",
       "      <td>...</td>\n",
       "      <td>...</td>\n",
       "      <td>...</td>\n",
       "    </tr>\n",
       "    <tr>\n",
       "      <th>2789</th>\n",
       "      <td>0.700146</td>\n",
       "      <td>0.006911</td>\n",
       "      <td>0.0</td>\n",
       "      <td>0.964089</td>\n",
       "      <td>0.222222</td>\n",
       "      <td>0.187500</td>\n",
       "      <td>0.010120</td>\n",
       "      <td>0.000203</td>\n",
       "      <td>0.026056</td>\n",
       "      <td>0.001704</td>\n",
       "      <td>...</td>\n",
       "      <td>0.096556</td>\n",
       "      <td>0.019231</td>\n",
       "      <td>0.018305</td>\n",
       "      <td>0.309394</td>\n",
       "      <td>0.384167</td>\n",
       "      <td>9.334511e-06</td>\n",
       "      <td>0.086394</td>\n",
       "      <td>0.000369</td>\n",
       "      <td>0.063854</td>\n",
       "      <td>0.086210</td>\n",
       "    </tr>\n",
       "    <tr>\n",
       "      <th>2790</th>\n",
       "      <td>0.700146</td>\n",
       "      <td>0.006911</td>\n",
       "      <td>0.0</td>\n",
       "      <td>0.962489</td>\n",
       "      <td>0.222222</td>\n",
       "      <td>0.187500</td>\n",
       "      <td>0.010120</td>\n",
       "      <td>0.000203</td>\n",
       "      <td>0.026056</td>\n",
       "      <td>0.001704</td>\n",
       "      <td>...</td>\n",
       "      <td>0.096556</td>\n",
       "      <td>0.019231</td>\n",
       "      <td>0.003925</td>\n",
       "      <td>0.066192</td>\n",
       "      <td>0.082197</td>\n",
       "      <td>5.565920e-06</td>\n",
       "      <td>0.086260</td>\n",
       "      <td>0.001067</td>\n",
       "      <td>0.064308</td>\n",
       "      <td>0.083213</td>\n",
       "    </tr>\n",
       "    <tr>\n",
       "      <th>2791</th>\n",
       "      <td>0.700146</td>\n",
       "      <td>0.006911</td>\n",
       "      <td>0.0</td>\n",
       "      <td>0.975933</td>\n",
       "      <td>0.231481</td>\n",
       "      <td>0.203125</td>\n",
       "      <td>0.020241</td>\n",
       "      <td>0.000406</td>\n",
       "      <td>0.026056</td>\n",
       "      <td>0.003272</td>\n",
       "      <td>...</td>\n",
       "      <td>0.096556</td>\n",
       "      <td>0.038462</td>\n",
       "      <td>0.004123</td>\n",
       "      <td>0.071160</td>\n",
       "      <td>0.090446</td>\n",
       "      <td>5.797833e-08</td>\n",
       "      <td>0.086260</td>\n",
       "      <td>0.001022</td>\n",
       "      <td>0.063934</td>\n",
       "      <td>0.083239</td>\n",
       "    </tr>\n",
       "    <tr>\n",
       "      <th>2792</th>\n",
       "      <td>0.697850</td>\n",
       "      <td>0.006911</td>\n",
       "      <td>0.0</td>\n",
       "      <td>0.963029</td>\n",
       "      <td>0.222222</td>\n",
       "      <td>0.187500</td>\n",
       "      <td>0.010120</td>\n",
       "      <td>0.000203</td>\n",
       "      <td>0.026056</td>\n",
       "      <td>0.001704</td>\n",
       "      <td>...</td>\n",
       "      <td>0.096556</td>\n",
       "      <td>0.019231</td>\n",
       "      <td>0.004550</td>\n",
       "      <td>0.078479</td>\n",
       "      <td>0.099752</td>\n",
       "      <td>7.885053e-06</td>\n",
       "      <td>0.086078</td>\n",
       "      <td>0.000885</td>\n",
       "      <td>0.063364</td>\n",
       "      <td>0.083257</td>\n",
       "    </tr>\n",
       "    <tr>\n",
       "      <th>2793</th>\n",
       "      <td>0.773436</td>\n",
       "      <td>0.006911</td>\n",
       "      <td>0.0</td>\n",
       "      <td>0.975971</td>\n",
       "      <td>0.231481</td>\n",
       "      <td>0.203125</td>\n",
       "      <td>0.020241</td>\n",
       "      <td>0.000406</td>\n",
       "      <td>0.026056</td>\n",
       "      <td>0.003272</td>\n",
       "      <td>...</td>\n",
       "      <td>0.102767</td>\n",
       "      <td>0.038462</td>\n",
       "      <td>0.008709</td>\n",
       "      <td>0.114122</td>\n",
       "      <td>0.137194</td>\n",
       "      <td>1.055206e-05</td>\n",
       "      <td>0.086059</td>\n",
       "      <td>0.001301</td>\n",
       "      <td>0.064055</td>\n",
       "      <td>0.083254</td>\n",
       "    </tr>\n",
       "  </tbody>\n",
       "</table>\n",
       "<p>2794 rows × 63 columns</p>\n",
       "</div>"
      ],
      "text/plain": [
       "      Src Port  Dst Port  Protocol  Flow Duration  Tot Fwd Pkts  Tot Bwd Pkts  \\\n",
       "0     0.700146  0.006911       0.0       0.964151      0.222222      0.187500   \n",
       "1     0.775995  0.006911       0.0       0.966678      0.222222      0.187500   \n",
       "2     0.625609  0.006911       0.0       0.963608      0.222222      0.187500   \n",
       "3     0.627971  0.006911       0.0       0.976115      0.231481      0.203125   \n",
       "4     0.775995  0.006911       0.0       0.963865      0.222222      0.187500   \n",
       "...        ...       ...       ...            ...           ...           ...   \n",
       "2789  0.700146  0.006911       0.0       0.964089      0.222222      0.187500   \n",
       "2790  0.700146  0.006911       0.0       0.962489      0.222222      0.187500   \n",
       "2791  0.700146  0.006911       0.0       0.975933      0.231481      0.203125   \n",
       "2792  0.697850  0.006911       0.0       0.963029      0.222222      0.187500   \n",
       "2793  0.773436  0.006911       0.0       0.975971      0.231481      0.203125   \n",
       "\n",
       "      TotLen Fwd Pkts  TotLen Bwd Pkts  Fwd Pkt Len Max  Fwd Pkt Len Mean  \\\n",
       "0            0.010120         0.000203         0.026056          0.001704   \n",
       "1            0.010120         0.000203         0.026056          0.001704   \n",
       "2            0.010120         0.000203         0.026056          0.001704   \n",
       "3            0.020241         0.000406         0.026056          0.003272   \n",
       "4            0.010120         0.000203         0.026056          0.001704   \n",
       "...               ...              ...              ...               ...   \n",
       "2789         0.010120         0.000203         0.026056          0.001704   \n",
       "2790         0.010120         0.000203         0.026056          0.001704   \n",
       "2791         0.020241         0.000406         0.026056          0.003272   \n",
       "2792         0.010120         0.000203         0.026056          0.001704   \n",
       "2793         0.020241         0.000406         0.026056          0.003272   \n",
       "\n",
       "      ...  Init Bwd Win Byts  Fwd Act Data Pkts  Active Mean  Active Std  \\\n",
       "0     ...           0.096556           0.019231     0.004287    0.074002   \n",
       "1     ...           0.097120           0.019231     0.004976    0.085991   \n",
       "2     ...           0.102767           0.019231     0.004506    0.077750   \n",
       "3     ...           0.097120           0.038462     0.024425    0.326298   \n",
       "4     ...           0.097120           0.019231     0.018602    0.314472   \n",
       "...   ...                ...                ...          ...         ...   \n",
       "2789  ...           0.096556           0.019231     0.018305    0.309394   \n",
       "2790  ...           0.096556           0.019231     0.003925    0.066192   \n",
       "2791  ...           0.096556           0.038462     0.004123    0.071160   \n",
       "2792  ...           0.096556           0.019231     0.004550    0.078479   \n",
       "2793  ...           0.102767           0.038462     0.008709    0.114122   \n",
       "\n",
       "      Active Max    Active Min  Idle Mean  Idle Std  Idle Max  Idle Min  \n",
       "0       0.094058  3.826570e-06   0.086256  0.001060  0.064143  0.083219  \n",
       "1       0.109291  5.797833e-08   0.086287  0.001098  0.064312  0.083181  \n",
       "2       0.098824  6.087724e-06   0.086143  0.000978  0.063770  0.083179  \n",
       "3       0.387750  5.681876e-06   0.086114  0.000952  0.063579  0.083218  \n",
       "4       0.390469  5.797833e-08   0.086287  0.000350  0.063975  0.086165  \n",
       "...          ...           ...        ...       ...       ...       ...  \n",
       "2789    0.384167  9.334511e-06   0.086394  0.000369  0.063854  0.086210  \n",
       "2790    0.082197  5.565920e-06   0.086260  0.001067  0.064308  0.083213  \n",
       "2791    0.090446  5.797833e-08   0.086260  0.001022  0.063934  0.083239  \n",
       "2792    0.099752  7.885053e-06   0.086078  0.000885  0.063364  0.083257  \n",
       "2793    0.137194  1.055206e-05   0.086059  0.001301  0.064055  0.083254  \n",
       "\n",
       "[2794 rows x 63 columns]"
      ]
     },
     "execution_count": 1543,
     "metadata": {},
     "output_type": "execute_result"
    }
   ],
   "source": [
    "df"
   ]
  },
  {
   "cell_type": "code",
   "execution_count": 1544,
   "metadata": {},
   "outputs": [],
   "source": [
    "a = clf.predict(df)"
   ]
  },
  {
   "cell_type": "code",
   "execution_count": 1545,
   "metadata": {},
   "outputs": [],
   "source": [
    "df = list(df.values.tolist())"
   ]
  },
  {
   "cell_type": "code",
   "execution_count": 1546,
   "metadata": {},
   "outputs": [
    {
     "data": {
      "text/plain": [
       "<sklearn.metrics._plot.confusion_matrix.ConfusionMatrixDisplay at 0x7f043a09c210>"
      ]
     },
     "execution_count": 1546,
     "metadata": {},
     "output_type": "execute_result"
    },
    {
     "data": {
      "image/png": "[encoded data removed]",
      "text/plain": [
       "<Figure size 432x288 with 2 Axes>"
      ]
     },
     "metadata": {
      "needs_background": "light"
     },
     "output_type": "display_data"
    }
   ],
   "source": [
    "plot_confusion_matrix(clf, df, b)  "
   ]
  },
  {
   "cell_type": "code",
   "execution_count": 1547,
   "metadata": {},
   "outputs": [
    {
     "name": "stdout",
     "output_type": "stream",
     "text": [
      "Accuracy :100.00%\n"
     ]
    }
   ],
   "source": [
    "print(\"Accuracy :{:.2f}\".format(100*accuracy_score(a, b)) + '%')"
   ]
  },
  {
   "cell_type": "code",
   "execution_count": 1548,
   "metadata": {},
   "outputs": [],
   "source": [
    "test_pcap = pd.read_csv('2018-10-02-13-12-30-192.168.100.103.pcap_Flow.csv')"
   ]
  },
  {
   "cell_type": "code",
   "execution_count": 1549,
   "metadata": {},
   "outputs": [],
   "source": [
    "f = test_pcap[test_pcap['Src IP'] == '192.168.100.103']"
   ]
  },
  {
   "cell_type": "code",
   "execution_count": 1550,
   "metadata": {},
   "outputs": [],
   "source": [
    "test_pcap = f"
   ]
  },
  {
   "cell_type": "code",
   "execution_count": 1551,
   "metadata": {},
   "outputs": [],
   "source": [
    "ip = list(test_pcap['Dst IP'])"
   ]
  },
  {
   "cell_type": "code",
   "execution_count": 1552,
   "metadata": {},
   "outputs": [],
   "source": [
    "test_pcap.drop(dropped, inplace=True, axis=1)"
   ]
  },
  {
   "cell_type": "code",
   "execution_count": 1553,
   "metadata": {},
   "outputs": [],
   "source": [
    "test_pcap.drop('Label', inplace=True, axis=1)"
   ]
  },
  {
   "cell_type": "code",
   "execution_count": 1554,
   "metadata": {},
   "outputs": [],
   "source": [
    "column = test_pcap.columns"
   ]
  },
  {
   "cell_type": "code",
   "execution_count": 1555,
   "metadata": {},
   "outputs": [],
   "source": [
    "for i in range(len(column)):\n",
    "    test_pcap[column[i]] = (test_pcap[column[i]] - min_vals[i]) / (max_vals[i] - min_vals[i]) "
   ]
  },
  {
   "cell_type": "code",
   "execution_count": 1556,
   "metadata": {},
   "outputs": [],
   "source": [
    "test_pcap[test_pcap < 0] = 0"
   ]
  },
  {
   "cell_type": "code",
   "execution_count": 1557,
   "metadata": {},
   "outputs": [],
   "source": [
    "test_pcap[test_pcap > 1] = 1"
   ]
  },
  {
   "cell_type": "code",
   "execution_count": 1558,
   "metadata": {},
   "outputs": [],
   "source": [
    "a = clf.predict(test_pcap)"
   ]
  },
  {
   "cell_type": "code",
   "execution_count": 1559,
   "metadata": {},
   "outputs": [],
   "source": [
    "a = list(a)"
   ]
  },
  {
   "cell_type": "code",
   "execution_count": 1560,
   "metadata": {},
   "outputs": [],
   "source": [
    "for i in range(len(a)):\n",
    "    a[i] = int(a[i])"
   ]
  },
  {
   "cell_type": "code",
   "execution_count": 1561,
   "metadata": {},
   "outputs": [
    {
     "data": {
      "text/plain": [
       "1691"
      ]
     },
     "execution_count": 1561,
     "metadata": {},
     "output_type": "execute_result"
    }
   ],
   "source": [
    "a.count(0)"
   ]
  },
  {
   "cell_type": "code",
   "execution_count": 1562,
   "metadata": {},
   "outputs": [
    {
     "data": {
      "text/plain": [
       "714"
      ]
     },
     "execution_count": 1562,
     "metadata": {},
     "output_type": "execute_result"
    }
   ],
   "source": [
    "a.count(1)"
   ]
  },
  {
   "cell_type": "code",
   "execution_count": 1563,
   "metadata": {},
   "outputs": [],
   "source": [
    "ip_dsc = []"
   ]
  },
  {
   "cell_type": "code",
   "execution_count": 1564,
   "metadata": {},
   "outputs": [],
   "source": [
    "for index, item in enumerate(a):\n",
    "    if item == 1:\n",
    "        if ip[index] not in ip_dsc:\n",
    "            ip_dsc.append(ip[index])"
   ]
  },
  {
   "cell_type": "code",
   "execution_count": 1565,
   "metadata": {},
   "outputs": [
    {
     "data": {
      "text/plain": [
       "['66.85.157.90']"
      ]
     },
     "execution_count": 1565,
     "metadata": {},
     "output_type": "execute_result"
    }
   ],
   "source": [
    "ip_dsc"
   ]
  },
  {
   "cell_type": "code",
   "execution_count": 1447,
   "metadata": {},
   "outputs": [
    {
     "name": "stdout",
     "output_type": "stream",
     "text": [
      "Possible Botnet IP: \n",
      "66.85.157.90\n"
     ]
    }
   ],
   "source": [
    "print(\"Possible Botnet IP: \")\n",
    "for i in ip_dsc:\n",
    "    print(i)"
   ]
  },
  {
   "cell_type": "markdown",
   "metadata": {},
   "source": [
    "### test pcap: https://mcfp.felk.cvut.cz/publicDatasets/IoT-23-Dataset/IndividualScenarios/CTU-IoT-Malware-Capture-20-1/"
   ]
  },
  {
   "cell_type": "markdown",
   "metadata": {},
   "source": [
    "### Label file to check: https://mcfp.felk.cvut.cz/publicDatasets/IoT-23-Dataset/IndividualScenarios/CTU-IoT-Malware-Capture-20-1/bro/conn.log.labeled"
   ]
  },
  {
   "cell_type": "code",
   "execution_count": null,
   "metadata": {},
   "outputs": [],
   "source": []
  }
 ],
 "metadata": {
  "kernelspec": {
   "display_name": "Python 3",
   "language": "python",
   "name": "python3"
  },
  "language_info": {
   "codemirror_mode": {
    "name": "ipython",
    "version": 3
   },
   "file_extension": ".py",
   "mimetype": "text/x-python",
   "name": "python",
   "nbconvert_exporter": "python",
   "pygments_lexer": "ipython3",
   "version": "3.7.5"
  }
 },
 "nbformat": 4,
 "nbformat_minor": 4
}
