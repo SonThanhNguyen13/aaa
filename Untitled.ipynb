{
 "cells": [
  {
   "cell_type": "code",
   "execution_count": 2,
   "metadata": {},
   "outputs": [],
   "source": [
    "import pandas as pd\n",
    "import numpy as np\n",
    "from sklearn.model_selection import train_test_split\n",
    "%matplotlib inline\n",
    "import matplotlib.pyplot as plt\n",
    "from imblearn.under_sampling import RandomUnderSampler"
   ]
  },
  {
   "cell_type": "code",
   "execution_count": 3,
   "metadata": {},
   "outputs": [],
   "source": [
    "df = pd.read_csv('torii_leg_switch.pcap_Flow.csv')  "
   ]
  },
  {
   "cell_type": "code",
   "execution_count": 4,
   "metadata": {},
   "outputs": [],
   "source": [
    "df['Label'] = 0"
   ]
  },
  {
   "cell_type": "code",
   "execution_count": 5,
   "metadata": {},
   "outputs": [
    {
     "data": {
      "text/plain": [
       "0       0\n",
       "1       0\n",
       "2       0\n",
       "3       0\n",
       "4       0\n",
       "       ..\n",
       "5358    0\n",
       "5359    0\n",
       "5360    0\n",
       "5361    0\n",
       "5362    0\n",
       "Name: Label, Length: 5363, dtype: int64"
      ]
     },
     "execution_count": 5,
     "metadata": {},
     "output_type": "execute_result"
    }
   ],
   "source": [
    "df['Label']"
   ]
  },
  {
   "cell_type": "code",
   "execution_count": 6,
   "metadata": {},
   "outputs": [],
   "source": [
    "df3 = pd.read_csv('torii_mal_switch.pcap_Flow.csv')  "
   ]
  },
  {
   "cell_type": "code",
   "execution_count": 7,
   "metadata": {},
   "outputs": [],
   "source": [
    "df3['Label'] = 1"
   ]
  },
  {
   "cell_type": "code",
   "execution_count": 8,
   "metadata": {},
   "outputs": [],
   "source": [
    "fin_df = pd.concat([df, df3], axis=0, join='inner')"
   ]
  },
  {
   "cell_type": "code",
   "execution_count": 9,
   "metadata": {},
   "outputs": [],
   "source": [
    "fin_df = fin_df.sample(frac=1).reset_index(drop=True)"
   ]
  },
  {
   "cell_type": "code",
   "execution_count": 10,
   "metadata": {},
   "outputs": [],
   "source": [
    "# fin_df.to_csv('data.csv')"
   ]
  },
  {
   "cell_type": "code",
   "execution_count": 11,
   "metadata": {},
   "outputs": [
    {
     "data": {
      "text/plain": [
       "array([[<matplotlib.axes._subplots.AxesSubplot object at 0x7f4c2d987850>]],\n",
       "      dtype=object)"
      ]
     },
     "execution_count": 11,
     "metadata": {},
     "output_type": "execute_result"
    },
    {
     "data": {
      "image/png": "[encoded data removed]",
      "text/plain": [
       "<Figure size 432x288 with 1 Axes>"
      ]
     },
     "metadata": {
      "needs_background": "light"
     },
     "output_type": "display_data"
    }
   ],
   "source": [
    "fin_df.hist(column='Label')"
   ]
  },
  {
   "cell_type": "code",
   "execution_count": 12,
   "metadata": {},
   "outputs": [],
   "source": [
    "undersample = RandomUnderSampler(sampling_strategy='majority')"
   ]
  },
  {
   "cell_type": "code",
   "execution_count": 13,
   "metadata": {},
   "outputs": [
    {
     "data": {
      "text/plain": [
       "Index(['Flow ID', 'Src IP', 'Src Port', 'Dst IP', 'Dst Port', 'Protocol',\n",
       "       'Timestamp', 'Flow Duration', 'Tot Fwd Pkts', 'Tot Bwd Pkts',\n",
       "       'TotLen Fwd Pkts', 'TotLen Bwd Pkts', 'Fwd Pkt Len Max',\n",
       "       'Fwd Pkt Len Min', 'Fwd Pkt Len Mean', 'Fwd Pkt Len Std',\n",
       "       'Bwd Pkt Len Max', 'Bwd Pkt Len Min', 'Bwd Pkt Len Mean',\n",
       "       'Bwd Pkt Len Std', 'Flow Byts/s', 'Flow Pkts/s', 'Flow IAT Mean',\n",
       "       'Flow IAT Std', 'Flow IAT Max', 'Flow IAT Min', 'Fwd IAT Tot',\n",
       "       'Fwd IAT Mean', 'Fwd IAT Std', 'Fwd IAT Max', 'Fwd IAT Min',\n",
       "       'Bwd IAT Tot', 'Bwd IAT Mean', 'Bwd IAT Std', 'Bwd IAT Max',\n",
       "       'Bwd IAT Min', 'Fwd PSH Flags', 'Bwd PSH Flags', 'Fwd URG Flags',\n",
       "       'Bwd URG Flags', 'Fwd Header Len', 'Bwd Header Len', 'Fwd Pkts/s',\n",
       "       'Bwd Pkts/s', 'Pkt Len Min', 'Pkt Len Max', 'Pkt Len Mean',\n",
       "       'Pkt Len Std', 'Pkt Len Var', 'FIN Flag Cnt', 'SYN Flag Cnt',\n",
       "       'RST Flag Cnt', 'PSH Flag Cnt', 'ACK Flag Cnt', 'URG Flag Cnt',\n",
       "       'CWE Flag Count', 'ECE Flag Cnt', 'Down/Up Ratio', 'Pkt Size Avg',\n",
       "       'Fwd Seg Size Avg', 'Bwd Seg Size Avg', 'Fwd Byts/b Avg',\n",
       "       'Fwd Pkts/b Avg', 'Fwd Blk Rate Avg', 'Bwd Byts/b Avg',\n",
       "       'Bwd Pkts/b Avg', 'Bwd Blk Rate Avg', 'Subflow Fwd Pkts',\n",
       "       'Subflow Fwd Byts', 'Subflow Bwd Pkts', 'Subflow Bwd Byts',\n",
       "       'Init Fwd Win Byts', 'Init Bwd Win Byts', 'Fwd Act Data Pkts',\n",
       "       'Fwd Seg Size Min', 'Active Mean', 'Active Std', 'Active Max',\n",
       "       'Active Min', 'Idle Mean', 'Idle Std', 'Idle Max', 'Idle Min', 'Label'],\n",
       "      dtype='object')"
      ]
     },
     "execution_count": 13,
     "metadata": {},
     "output_type": "execute_result"
    }
   ],
   "source": [
    "fin_df.columns"
   ]
  },
  {
   "cell_type": "code",
   "execution_count": 14,
   "metadata": {},
   "outputs": [],
   "source": [
    "process_df = fin_df.copy()"
   ]
  },
  {
   "cell_type": "code",
   "execution_count": 15,
   "metadata": {},
   "outputs": [],
   "source": [
    "for col in process_df.columns:\n",
    "    if len(process_df[col].unique()) == 1:\n",
    "        process_df.drop(col,inplace=True,axis=1)"
   ]
  },
  {
   "cell_type": "code",
   "execution_count": 16,
   "metadata": {},
   "outputs": [
    {
     "data": {
      "text/plain": [
       "Index(['Flow ID', 'Src IP', 'Src Port', 'Dst IP', 'Dst Port', 'Protocol',\n",
       "       'Timestamp', 'Flow Duration', 'Tot Fwd Pkts', 'Tot Bwd Pkts',\n",
       "       'TotLen Fwd Pkts', 'TotLen Bwd Pkts', 'Fwd Pkt Len Max',\n",
       "       'Fwd Pkt Len Mean', 'Fwd Pkt Len Std', 'Bwd Pkt Len Max',\n",
       "       'Bwd Pkt Len Min', 'Bwd Pkt Len Mean', 'Bwd Pkt Len Std', 'Flow Byts/s',\n",
       "       'Flow Pkts/s', 'Flow IAT Mean', 'Flow IAT Std', 'Flow IAT Max',\n",
       "       'Flow IAT Min', 'Fwd IAT Tot', 'Fwd IAT Mean', 'Fwd IAT Std',\n",
       "       'Fwd IAT Max', 'Fwd IAT Min', 'Bwd IAT Tot', 'Bwd IAT Mean',\n",
       "       'Bwd IAT Std', 'Bwd IAT Max', 'Bwd IAT Min', 'Bwd PSH Flags',\n",
       "       'Fwd Header Len', 'Bwd Header Len', 'Fwd Pkts/s', 'Bwd Pkts/s',\n",
       "       'Pkt Len Min', 'Pkt Len Max', 'Pkt Len Mean', 'Pkt Len Std',\n",
       "       'Pkt Len Var', 'FIN Flag Cnt', 'SYN Flag Cnt', 'PSH Flag Cnt',\n",
       "       'ACK Flag Cnt', 'Down/Up Ratio', 'Pkt Size Avg', 'Fwd Seg Size Avg',\n",
       "       'Bwd Seg Size Avg', 'Subflow Fwd Pkts', 'Subflow Fwd Byts',\n",
       "       'Subflow Bwd Pkts', 'Subflow Bwd Byts', 'Init Bwd Win Byts',\n",
       "       'Fwd Act Data Pkts', 'Active Mean', 'Active Std', 'Active Max',\n",
       "       'Active Min', 'Idle Mean', 'Idle Std', 'Idle Max', 'Idle Min', 'Label'],\n",
       "      dtype='object')"
      ]
     },
     "execution_count": 16,
     "metadata": {},
     "output_type": "execute_result"
    }
   ],
   "source": [
    "process_df.columns"
   ]
  },
  {
   "cell_type": "code",
   "execution_count": 17,
   "metadata": {},
   "outputs": [],
   "source": [
    "process_df.drop(['Flow ID', 'Src IP', 'Dst IP', 'Timestamp'], axis=1, inplace=True)"
   ]
  },
  {
   "cell_type": "code",
   "execution_count": 18,
   "metadata": {},
   "outputs": [
    {
     "data": {
      "text/plain": [
       "Index(['Src Port', 'Dst Port', 'Protocol', 'Flow Duration', 'Tot Fwd Pkts',\n",
       "       'Tot Bwd Pkts', 'TotLen Fwd Pkts', 'TotLen Bwd Pkts', 'Fwd Pkt Len Max',\n",
       "       'Fwd Pkt Len Mean', 'Fwd Pkt Len Std', 'Bwd Pkt Len Max',\n",
       "       'Bwd Pkt Len Min', 'Bwd Pkt Len Mean', 'Bwd Pkt Len Std', 'Flow Byts/s',\n",
       "       'Flow Pkts/s', 'Flow IAT Mean', 'Flow IAT Std', 'Flow IAT Max',\n",
       "       'Flow IAT Min', 'Fwd IAT Tot', 'Fwd IAT Mean', 'Fwd IAT Std',\n",
       "       'Fwd IAT Max', 'Fwd IAT Min', 'Bwd IAT Tot', 'Bwd IAT Mean',\n",
       "       'Bwd IAT Std', 'Bwd IAT Max', 'Bwd IAT Min', 'Bwd PSH Flags',\n",
       "       'Fwd Header Len', 'Bwd Header Len', 'Fwd Pkts/s', 'Bwd Pkts/s',\n",
       "       'Pkt Len Min', 'Pkt Len Max', 'Pkt Len Mean', 'Pkt Len Std',\n",
       "       'Pkt Len Var', 'FIN Flag Cnt', 'SYN Flag Cnt', 'PSH Flag Cnt',\n",
       "       'ACK Flag Cnt', 'Down/Up Ratio', 'Pkt Size Avg', 'Fwd Seg Size Avg',\n",
       "       'Bwd Seg Size Avg', 'Subflow Fwd Pkts', 'Subflow Fwd Byts',\n",
       "       'Subflow Bwd Pkts', 'Subflow Bwd Byts', 'Init Bwd Win Byts',\n",
       "       'Fwd Act Data Pkts', 'Active Mean', 'Active Std', 'Active Max',\n",
       "       'Active Min', 'Idle Mean', 'Idle Std', 'Idle Max', 'Idle Min', 'Label'],\n",
       "      dtype='object')"
      ]
     },
     "execution_count": 18,
     "metadata": {},
     "output_type": "execute_result"
    }
   ],
   "source": [
    "process_df.columns"
   ]
  },
  {
   "cell_type": "code",
   "execution_count": 19,
   "metadata": {},
   "outputs": [
    {
     "name": "stderr",
     "output_type": "stream",
     "text": [
      "/home/nvhuy/.local/lib/python3.7/site-packages/pandas/plotting/_matplotlib/tools.py:185: RuntimeWarning: More than 20 figures have been opened. Figures created through the pyplot interface (`matplotlib.pyplot.figure`) are retained until explicitly closed and may consume too much memory. (To control this warning, see the rcParam `figure.max_open_warning`).\n",
      "  fig = plt.figure(**fig_kw)\n"
     ]
    },
    {
     "data": {
      "image/png": "[encoded data removed]",
      "text/plain": [
       "<Figure size 432x288 with 1 Axes>"
      ]
     },
     "metadata": {
      "needs_background": "light"
     },
     "output_type": "display_data"
    },
    {
     "data": {
      "image/png": "[encoded data removed]",
      "text/plain": [
       "<Figure size 432x288 with 1 Axes>"
      ]
     },
     "metadata": {
      "needs_background": "light"
     },
     "output_type": "display_data"
    },
    {
     "data": {
      "image/png": "[encoded data removed]",
      "text/plain": [
       "<Figure size 432x288 with 1 Axes>"
      ]
     },
     "metadata": {
      "needs_background": "light"
     },
     "output_type": "display_data"
    },
    {
     "data": {
      "image/png": "[encoded data removed]",
      "text/plain": [
       "<Figure size 432x288 with 1 Axes>"
      ]
     },
     "metadata": {
      "needs_background": "light"
     },
     "output_type": "display_data"
    },
    {
     "data": {
      "image/png": "[encoded data removed]",
      "text/plain": [
       "<Figure size 432x288 with 1 Axes>"
      ]
     },
     "metadata": {
      "needs_background": "light"
     },
     "output_type": "display_data"
    },
    {
     "data": {
      "image/png": "[encoded data removed]",
      "text/plain": [
       "<Figure size 432x288 with 1 Axes>"
      ]
     },
     "metadata": {
      "needs_background": "light"
     },
     "output_type": "display_data"
    },
    {
     "data": {
      "image/png": "[encoded data removed]",
      "text/plain": [
       "<Figure size 432x288 with 1 Axes>"
      ]
     },
     "metadata": {
      "needs_background": "light"
     },
     "output_type": "display_data"
    },
    {
     "data": {
      "image/png": "[encoded data removed]",
      "text/plain": [
       "<Figure size 432x288 with 1 Axes>"
      ]
     },
     "metadata": {
      "needs_background": "light"
     },
     "output_type": "display_data"
    },
    {
     "data": {
      "image/png": "[encoded data removed]",
      "text/plain": [
       "<Figure size 432x288 with 1 Axes>"
      ]
     },
     "metadata": {
      "needs_background": "light"
     },
     "output_type": "display_data"
    },
    {
     "data": {
      "image/png": "[encoded data removed]",
      "text/plain": [
       "<Figure size 432x288 with 1 Axes>"
      ]
     },
     "metadata": {
      "needs_background": "light"
     },
     "output_type": "display_data"
    },
    {
     "data": {
      "image/png": "[encoded data removed]",
      "text/plain": [
       "<Figure size 432x288 with 1 Axes>"
      ]
     },
     "metadata": {
      "needs_background": "light"
     },
     "output_type": "display_data"
    },
    {
     "data": {
      "image/png": "[encoded data removed]",
      "text/plain": [
       "<Figure size 432x288 with 1 Axes>"
      ]
     },
     "metadata": {
      "needs_background": "light"
     },
     "output_type": "display_data"
    },
    {
     "data": {
      "image/png": "[encoded data removed]",
      "text/plain": [
       "<Figure size 432x288 with 1 Axes>"
      ]
     },
     "metadata": {
      "needs_background": "light"
     },
     "output_type": "display_data"
    },
    {
     "data": {
      "image/png": "[encoded data removed]",
      "text/plain": [
       "<Figure size 432x288 with 1 Axes>"
      ]
     },
     "metadata": {
      "needs_background": "light"
     },
     "output_type": "display_data"
    },
    {
     "data": {
      "image/png": "[encoded data removed]",
      "text/plain": [
       "<Figure size 432x288 with 1 Axes>"
      ]
     },
     "metadata": {
      "needs_background": "light"
     },
     "output_type": "display_data"
    },
    {
     "data": {
      "image/png": "[encoded data removed]",
      "text/plain": [
       "<Figure size 432x288 with 1 Axes>"
      ]
     },
     "metadata": {
      "needs_background": "light"
     },
     "output_type": "display_data"
    },
    {
     "data": {
      "image/png": "[encoded data removed]",
      "text/plain": [
       "<Figure size 432x288 with 1 Axes>"
      ]
     },
     "metadata": {
      "needs_background": "light"
     },
     "output_type": "display_data"
    },
    {
     "data": {
      "image/png": "[encoded data removed]",
      "text/plain": [
       "<Figure size 432x288 with 1 Axes>"
      ]
     },
     "metadata": {
      "needs_background": "light"
     },
     "output_type": "display_data"
    },
    {
     "data": {
      "image/png": "[encoded data removed]",
      "text/plain": [
       "<Figure size 432x288 with 1 Axes>"
      ]
     },
     "metadata": {
      "needs_background": "light"
     },
     "output_type": "display_data"
    },
    {
     "data": {
      "image/png": "[encoded data removed]",
      "text/plain": [
       "<Figure size 432x288 with 1 Axes>"
      ]
     },
     "metadata": {
      "needs_background": "light"
     },
     "output_type": "display_data"
    },
    {
     "data": {
      "image/png": "[encoded data removed]",
      "text/plain": [
       "<Figure size 432x288 with 1 Axes>"
      ]
     },
     "metadata": {
      "needs_background": "light"
     },
     "output_type": "display_data"
    },
    {
     "data": {
      "image/png": "[encoded data removed]",
      "text/plain": [
       "<Figure size 432x288 with 1 Axes>"
      ]
     },
     "metadata": {
      "needs_background": "light"
     },
     "output_type": "display_data"
    },
    {
     "data": {
      "image/png": "[encoded data removed]",
      "text/plain": [
       "<Figure size 432x288 with 1 Axes>"
      ]
     },
     "metadata": {
      "needs_background": "light"
     },
     "output_type": "display_data"
    },
    {
     "data": {
      "image/png": "[encoded data removed]",
      "text/plain": [
       "<Figure size 432x288 with 1 Axes>"
      ]
     },
     "metadata": {
      "needs_background": "light"
     },
     "output_type": "display_data"
    },
    {
     "data": {
      "image/png": "[encoded data removed]",
      "text/plain": [
       "<Figure size 432x288 with 1 Axes>"
      ]
     },
     "metadata": {
      "needs_background": "light"
     },
     "output_type": "display_data"
    },
    {
     "data": {
      "image/png": "[encoded data removed]",
      "text/plain": [
       "<Figure size 432x288 with 1 Axes>"
      ]
     },
     "metadata": {
      "needs_background": "light"
     },
     "output_type": "display_data"
    },
    {
     "data": {
      "image/png": "[encoded data removed]",
      "text/plain": [
       "<Figure size 432x288 with 1 Axes>"
      ]
     },
     "metadata": {
      "needs_background": "light"
     },
     "output_type": "display_data"
    },
    {
     "data": {
      "image/png": "[encoded data removed]",
      "text/plain": [
       "<Figure size 432x288 with 1 Axes>"
      ]
     },
     "metadata": {
      "needs_background": "light"
     },
     "output_type": "display_data"
    },
    {
     "data": {
      "image/png": "[encoded data removed]",
      "text/plain": [
       "<Figure size 432x288 with 1 Axes>"
      ]
     },
     "metadata": {
      "needs_background": "light"
     },
     "output_type": "display_data"
    },
    {
     "data": {
      "image/png": "[encoded data removed]",
      "text/plain": [
       "<Figure size 432x288 with 1 Axes>"
      ]
     },
     "metadata": {
      "needs_background": "light"
     },
     "output_type": "display_data"
    },
    {
     "data": {
      "image/png": "[encoded data removed]",
      "text/plain": [
       "<Figure size 432x288 with 1 Axes>"
      ]
     },
     "metadata": {
      "needs_background": "light"
     },
     "output_type": "display_data"
    },
    {
     "data": {
      "image/png": "[encoded data removed]",
      "text/plain": [
       "<Figure size 432x288 with 1 Axes>"
      ]
     },
     "metadata": {
      "needs_background": "light"
     },
     "output_type": "display_data"
    },
    {
     "data": {
      "image/png": "[encoded data removed]",
      "text/plain": [
       "<Figure size 432x288 with 1 Axes>"
      ]
     },
     "metadata": {
      "needs_background": "light"
     },
     "output_type": "display_data"
    },
    {
     "data": {
      "image/png": "[encoded data removed]",
      "text/plain": [
       "<Figure size 432x288 with 1 Axes>"
      ]
     },
     "metadata": {
      "needs_background": "light"
     },
     "output_type": "display_data"
    },
    {
     "data": {
      "image/png": "[encoded data removed]",
      "text/plain": [
       "<Figure size 432x288 with 1 Axes>"
      ]
     },
     "metadata": {
      "needs_background": "light"
     },
     "output_type": "display_data"
    },
    {
     "data": {
      "image/png": "[encoded data removed]",
      "text/plain": [
       "<Figure size 432x288 with 1 Axes>"
      ]
     },
     "metadata": {
      "needs_background": "light"
     },
     "output_type": "display_data"
    },
    {
     "data": {
      "image/png": "[encoded data removed]",
      "text/plain": [
       "<Figure size 432x288 with 1 Axes>"
      ]
     },
     "metadata": {
      "needs_background": "light"
     },
     "output_type": "display_data"
    },
    {
     "data": {
      "image/png": "[encoded data removed]",
      "text/plain": [
       "<Figure size 432x288 with 1 Axes>"
      ]
     },
     "metadata": {
      "needs_background": "light"
     },
     "output_type": "display_data"
    },
    {
     "data": {
      "image/png": "[encoded data removed]",
      "text/plain": [
       "<Figure size 432x288 with 1 Axes>"
      ]
     },
     "metadata": {
      "needs_background": "light"
     },
     "output_type": "display_data"
    },
    {
     "data": {
      "image/png": "[encoded data removed]",
      "text/plain": [
       "<Figure size 432x288 with 1 Axes>"
      ]
     },
     "metadata": {
      "needs_background": "light"
     },
     "output_type": "display_data"
    },
    {
     "data": {
      "image/png": "[encoded data removed]",
      "text/plain": [
       "<Figure size 432x288 with 1 Axes>"
      ]
     },
     "metadata": {
      "needs_background": "light"
     },
     "output_type": "display_data"
    },
    {
     "data": {
      "image/png": "[encoded data removed]",
      "text/plain": [
       "<Figure size 432x288 with 1 Axes>"
      ]
     },
     "metadata": {
      "needs_background": "light"
     },
     "output_type": "display_data"
    },
    {
     "data": {
      "image/png": "[encoded data removed]",
      "text/plain": [
       "<Figure size 432x288 with 1 Axes>"
      ]
     },
     "metadata": {
      "needs_background": "light"
     },
     "output_type": "display_data"
    },
    {
     "data": {
      "image/png": "[encoded data removed]",
      "text/plain": [
       "<Figure size 432x288 with 1 Axes>"
      ]
     },
     "metadata": {
      "needs_background": "light"
     },
     "output_type": "display_data"
    },
    {
     "data": {
      "image/png": "[encoded data removed]",
      "text/plain": [
       "<Figure size 432x288 with 1 Axes>"
      ]
     },
     "metadata": {
      "needs_background": "light"
     },
     "output_type": "display_data"
    },
    {
     "data": {
      "image/png": "[encoded data removed]",
      "text/plain": [
       "<Figure size 432x288 with 1 Axes>"
      ]
     },
     "metadata": {
      "needs_background": "light"
     },
     "output_type": "display_data"
    },
    {
     "data": {
      "image/png": "[encoded data removed]",
      "text/plain": [
       "<Figure size 432x288 with 1 Axes>"
      ]
     },
     "metadata": {
      "needs_background": "light"
     },
     "output_type": "display_data"
    },
    {
     "data": {
      "image/png": "[encoded data removed]",
      "text/plain": [
       "<Figure size 432x288 with 1 Axes>"
      ]
     },
     "metadata": {
      "needs_background": "light"
     },
     "output_type": "display_data"
    },
    {
     "data": {
      "image/png": "[encoded data removed]",
      "text/plain": [
       "<Figure size 432x288 with 1 Axes>"
      ]
     },
     "metadata": {
      "needs_background": "light"
     },
     "output_type": "display_data"
    },
    {
     "data": {
      "image/png": "[encoded data removed]",
      "text/plain": [
       "<Figure size 432x288 with 1 Axes>"
      ]
     },
     "metadata": {
      "needs_background": "light"
     },
     "output_type": "display_data"
    },
    {
     "data": {
      "image/png": "[encoded data removed]",
      "text/plain": [
       "<Figure size 432x288 with 1 Axes>"
      ]
     },
     "metadata": {
      "needs_background": "light"
     },
     "output_type": "display_data"
    },
    {
     "data": {
      "image/png": "[encoded data removed]",
      "text/plain": [
       "<Figure size 432x288 with 1 Axes>"
      ]
     },
     "metadata": {
      "needs_background": "light"
     },
     "output_type": "display_data"
    },
    {
     "data": {
      "image/png": "[encoded data removed]",
      "text/plain": [
       "<Figure size 432x288 with 1 Axes>"
      ]
     },
     "metadata": {
      "needs_background": "light"
     },
     "output_type": "display_data"
    },
    {
     "data": {
      "image/png": "[encoded data removed]",
      "text/plain": [
       "<Figure size 432x288 with 1 Axes>"
      ]
     },
     "metadata": {
      "needs_background": "light"
     },
     "output_type": "display_data"
    },
    {
     "data": {
      "image/png": "[encoded data removed]",
      "text/plain": [
       "<Figure size 432x288 with 1 Axes>"
      ]
     },
     "metadata": {
      "needs_background": "light"
     },
     "output_type": "display_data"
    },
    {
     "data": {
      "image/png": "[encoded data removed]",
      "text/plain": [
       "<Figure size 432x288 with 1 Axes>"
      ]
     },
     "metadata": {
      "needs_background": "light"
     },
     "output_type": "display_data"
    },
    {
     "data": {
      "image/png": "[encoded data removed]",
      "text/plain": [
       "<Figure size 432x288 with 1 Axes>"
      ]
     },
     "metadata": {
      "needs_background": "light"
     },
     "output_type": "display_data"
    },
    {
     "data": {
      "image/png": "[encoded data removed]",
      "text/plain": [
       "<Figure size 432x288 with 1 Axes>"
      ]
     },
     "metadata": {
      "needs_background": "light"
     },
     "output_type": "display_data"
    },
    {
     "data": {
      "image/png": "[encoded data removed]",
      "text/plain": [
       "<Figure size 432x288 with 1 Axes>"
      ]
     },
     "metadata": {
      "needs_background": "light"
     },
     "output_type": "display_data"
    },
    {
     "data": {
      "image/png": "[encoded data removed]",
      "text/plain": [
       "<Figure size 432x288 with 1 Axes>"
      ]
     },
     "metadata": {
      "needs_background": "light"
     },
     "output_type": "display_data"
    },
    {
     "data": {
      "image/png": "[encoded data removed]",
      "text/plain": [
       "<Figure size 432x288 with 1 Axes>"
      ]
     },
     "metadata": {
      "needs_background": "light"
     },
     "output_type": "display_data"
    },
    {
     "data": {
      "image/png": "[encoded data removed]",
      "text/plain": [
       "<Figure size 432x288 with 1 Axes>"
      ]
     },
     "metadata": {
      "needs_background": "light"
     },
     "output_type": "display_data"
    },
    {
     "data": {
      "image/png": "[encoded data removed]",
      "text/plain": [
       "<Figure size 432x288 with 1 Axes>"
      ]
     },
     "metadata": {
      "needs_background": "light"
     },
     "output_type": "display_data"
    },
    {
     "data": {
      "image/png": "[encoded data removed]",
      "text/plain": [
       "<Figure size 432x288 with 1 Axes>"
      ]
     },
     "metadata": {
      "needs_background": "light"
     },
     "output_type": "display_data"
    }
   ],
   "source": [
    "for i in process_df.columns:\n",
    "    process_df.hist(column=i)"
   ]
  },
  {
   "cell_type": "code",
   "execution_count": 20,
   "metadata": {},
   "outputs": [
    {
     "data": {
      "text/html": [
       "<div>\n",
       "<style scoped>\n",
       "    .dataframe tbody tr th:only-of-type {\n",
       "        vertical-align: middle;\n",
       "    }\n",
       "\n",
       "    .dataframe tbody tr th {\n",
       "        vertical-align: top;\n",
       "    }\n",
       "\n",
       "    .dataframe thead th {\n",
       "        text-align: right;\n",
       "    }\n",
       "</style>\n",
       "<table border=\"1\" class=\"dataframe\">\n",
       "  <thead>\n",
       "    <tr style=\"text-align: right;\">\n",
       "      <th></th>\n",
       "      <th>Src Port</th>\n",
       "      <th>Dst Port</th>\n",
       "      <th>Protocol</th>\n",
       "      <th>Flow Duration</th>\n",
       "      <th>Tot Fwd Pkts</th>\n",
       "      <th>Tot Bwd Pkts</th>\n",
       "      <th>TotLen Fwd Pkts</th>\n",
       "      <th>TotLen Bwd Pkts</th>\n",
       "      <th>Fwd Pkt Len Max</th>\n",
       "      <th>Fwd Pkt Len Mean</th>\n",
       "      <th>...</th>\n",
       "      <th>Fwd Act Data Pkts</th>\n",
       "      <th>Active Mean</th>\n",
       "      <th>Active Std</th>\n",
       "      <th>Active Max</th>\n",
       "      <th>Active Min</th>\n",
       "      <th>Idle Mean</th>\n",
       "      <th>Idle Std</th>\n",
       "      <th>Idle Max</th>\n",
       "      <th>Idle Min</th>\n",
       "      <th>Label</th>\n",
       "    </tr>\n",
       "  </thead>\n",
       "  <tbody>\n",
       "    <tr>\n",
       "      <th>0</th>\n",
       "      <td>56917</td>\n",
       "      <td>1883</td>\n",
       "      <td>6</td>\n",
       "      <td>60087620</td>\n",
       "      <td>3</td>\n",
       "      <td>3</td>\n",
       "      <td>2.0</td>\n",
       "      <td>6.0</td>\n",
       "      <td>2.0</td>\n",
       "      <td>0.666667</td>\n",
       "      <td>...</td>\n",
       "      <td>1</td>\n",
       "      <td>6801.000000</td>\n",
       "      <td>0.000000e+00</td>\n",
       "      <td>6801.0</td>\n",
       "      <td>6801.0</td>\n",
       "      <td>6.007965e+07</td>\n",
       "      <td>0.000000</td>\n",
       "      <td>60079648.0</td>\n",
       "      <td>60079648.0</td>\n",
       "      <td>0</td>\n",
       "    </tr>\n",
       "    <tr>\n",
       "      <th>1</th>\n",
       "      <td>43077</td>\n",
       "      <td>1883</td>\n",
       "      <td>6</td>\n",
       "      <td>60079832</td>\n",
       "      <td>3</td>\n",
       "      <td>3</td>\n",
       "      <td>2.0</td>\n",
       "      <td>6.0</td>\n",
       "      <td>2.0</td>\n",
       "      <td>0.666667</td>\n",
       "      <td>...</td>\n",
       "      <td>1</td>\n",
       "      <td>1116.000000</td>\n",
       "      <td>0.000000e+00</td>\n",
       "      <td>1116.0</td>\n",
       "      <td>1116.0</td>\n",
       "      <td>6.007744e+07</td>\n",
       "      <td>0.000000</td>\n",
       "      <td>60077438.0</td>\n",
       "      <td>60077438.0</td>\n",
       "      <td>0</td>\n",
       "    </tr>\n",
       "    <tr>\n",
       "      <th>2</th>\n",
       "      <td>37830</td>\n",
       "      <td>443</td>\n",
       "      <td>6</td>\n",
       "      <td>115717056</td>\n",
       "      <td>24</td>\n",
       "      <td>25</td>\n",
       "      <td>37.0</td>\n",
       "      <td>37.0</td>\n",
       "      <td>37.0</td>\n",
       "      <td>1.541667</td>\n",
       "      <td>...</td>\n",
       "      <td>1</td>\n",
       "      <td>75147.954545</td>\n",
       "      <td>3.518650e+05</td>\n",
       "      <td>1650523.0</td>\n",
       "      <td>27.0</td>\n",
       "      <td>5.184711e+06</td>\n",
       "      <td>50862.376699</td>\n",
       "      <td>5324414.0</td>\n",
       "      <td>5002085.0</td>\n",
       "      <td>1</td>\n",
       "    </tr>\n",
       "    <tr>\n",
       "      <th>3</th>\n",
       "      <td>59684</td>\n",
       "      <td>443</td>\n",
       "      <td>6</td>\n",
       "      <td>115750644</td>\n",
       "      <td>24</td>\n",
       "      <td>25</td>\n",
       "      <td>37.0</td>\n",
       "      <td>37.0</td>\n",
       "      <td>37.0</td>\n",
       "      <td>1.541667</td>\n",
       "      <td>...</td>\n",
       "      <td>1</td>\n",
       "      <td>316582.904762</td>\n",
       "      <td>1.449571e+06</td>\n",
       "      <td>6643028.0</td>\n",
       "      <td>166.0</td>\n",
       "      <td>5.195347e+06</td>\n",
       "      <td>37015.780520</td>\n",
       "      <td>5310078.0</td>\n",
       "      <td>5178678.0</td>\n",
       "      <td>1</td>\n",
       "    </tr>\n",
       "    <tr>\n",
       "      <th>4</th>\n",
       "      <td>38166</td>\n",
       "      <td>443</td>\n",
       "      <td>6</td>\n",
       "      <td>115588762</td>\n",
       "      <td>24</td>\n",
       "      <td>25</td>\n",
       "      <td>37.0</td>\n",
       "      <td>37.0</td>\n",
       "      <td>37.0</td>\n",
       "      <td>1.541667</td>\n",
       "      <td>...</td>\n",
       "      <td>1</td>\n",
       "      <td>318143.571429</td>\n",
       "      <td>1.456587e+06</td>\n",
       "      <td>6675209.0</td>\n",
       "      <td>202.0</td>\n",
       "      <td>5.186071e+06</td>\n",
       "      <td>16660.462357</td>\n",
       "      <td>5240906.0</td>\n",
       "      <td>5179004.0</td>\n",
       "      <td>1</td>\n",
       "    </tr>\n",
       "  </tbody>\n",
       "</table>\n",
       "<p>5 rows × 64 columns</p>\n",
       "</div>"
      ],
      "text/plain": [
       "   Src Port  Dst Port  Protocol  Flow Duration  Tot Fwd Pkts  Tot Bwd Pkts  \\\n",
       "0     56917      1883         6       60087620             3             3   \n",
       "1     43077      1883         6       60079832             3             3   \n",
       "2     37830       443         6      115717056            24            25   \n",
       "3     59684       443         6      115750644            24            25   \n",
       "4     38166       443         6      115588762            24            25   \n",
       "\n",
       "   TotLen Fwd Pkts  TotLen Bwd Pkts  Fwd Pkt Len Max  Fwd Pkt Len Mean  ...  \\\n",
       "0              2.0              6.0              2.0          0.666667  ...   \n",
       "1              2.0              6.0              2.0          0.666667  ...   \n",
       "2             37.0             37.0             37.0          1.541667  ...   \n",
       "3             37.0             37.0             37.0          1.541667  ...   \n",
       "4             37.0             37.0             37.0          1.541667  ...   \n",
       "\n",
       "   Fwd Act Data Pkts    Active Mean    Active Std  Active Max  Active Min  \\\n",
       "0                  1    6801.000000  0.000000e+00      6801.0      6801.0   \n",
       "1                  1    1116.000000  0.000000e+00      1116.0      1116.0   \n",
       "2                  1   75147.954545  3.518650e+05   1650523.0        27.0   \n",
       "3                  1  316582.904762  1.449571e+06   6643028.0       166.0   \n",
       "4                  1  318143.571429  1.456587e+06   6675209.0       202.0   \n",
       "\n",
       "      Idle Mean      Idle Std    Idle Max    Idle Min  Label  \n",
       "0  6.007965e+07      0.000000  60079648.0  60079648.0      0  \n",
       "1  6.007744e+07      0.000000  60077438.0  60077438.0      0  \n",
       "2  5.184711e+06  50862.376699   5324414.0   5002085.0      1  \n",
       "3  5.195347e+06  37015.780520   5310078.0   5178678.0      1  \n",
       "4  5.186071e+06  16660.462357   5240906.0   5179004.0      1  \n",
       "\n",
       "[5 rows x 64 columns]"
      ]
     },
     "execution_count": 20,
     "metadata": {},
     "output_type": "execute_result"
    }
   ],
   "source": [
    "process_df.head()"
   ]
  },
  {
   "cell_type": "code",
   "execution_count": 21,
   "metadata": {},
   "outputs": [],
   "source": [
    "process_df.replace([np.inf, -np.inf], np.nan, inplace=True)"
   ]
  },
  {
   "cell_type": "code",
   "execution_count": 22,
   "metadata": {},
   "outputs": [],
   "source": [
    "process_df.dropna(inplace=True)"
   ]
  },
  {
   "cell_type": "code",
   "execution_count": 23,
   "metadata": {},
   "outputs": [],
   "source": [
    "max_vals = []\n",
    "min_vals = []\n",
    "column = list(process_df.columns)"
   ]
  },
  {
   "cell_type": "code",
   "execution_count": 24,
   "metadata": {},
   "outputs": [],
   "source": [
    "# apply normalization techniques by Column 1 \n",
    "for col in column:\n",
    "    max_vals.append(process_df[col].max())\n",
    "    min_vals.append(process_df[col].min())\n",
    "for i in range(len(column)):\n",
    "    process_df[column[i]] = (process_df[column[i]] - min_vals[i]) / (max_vals[i] - min_vals[i])     "
   ]
  },
  {
   "cell_type": "code",
   "execution_count": 25,
   "metadata": {},
   "outputs": [],
   "source": [
    "# max_vals"
   ]
  },
  {
   "cell_type": "code",
   "execution_count": 26,
   "metadata": {},
   "outputs": [],
   "source": [
    "# min_vals"
   ]
  },
  {
   "cell_type": "code",
   "execution_count": 27,
   "metadata": {},
   "outputs": [
    {
     "data": {
      "text/html": [
       "<div>\n",
       "<style scoped>\n",
       "    .dataframe tbody tr th:only-of-type {\n",
       "        vertical-align: middle;\n",
       "    }\n",
       "\n",
       "    .dataframe tbody tr th {\n",
       "        vertical-align: top;\n",
       "    }\n",
       "\n",
       "    .dataframe thead th {\n",
       "        text-align: right;\n",
       "    }\n",
       "</style>\n",
       "<table border=\"1\" class=\"dataframe\">\n",
       "  <thead>\n",
       "    <tr style=\"text-align: right;\">\n",
       "      <th></th>\n",
       "      <th>Src Port</th>\n",
       "      <th>Dst Port</th>\n",
       "      <th>Protocol</th>\n",
       "      <th>Flow Duration</th>\n",
       "      <th>Tot Fwd Pkts</th>\n",
       "      <th>Tot Bwd Pkts</th>\n",
       "      <th>TotLen Fwd Pkts</th>\n",
       "      <th>TotLen Bwd Pkts</th>\n",
       "      <th>Fwd Pkt Len Max</th>\n",
       "      <th>Fwd Pkt Len Mean</th>\n",
       "      <th>...</th>\n",
       "      <th>Fwd Act Data Pkts</th>\n",
       "      <th>Active Mean</th>\n",
       "      <th>Active Std</th>\n",
       "      <th>Active Max</th>\n",
       "      <th>Active Min</th>\n",
       "      <th>Idle Mean</th>\n",
       "      <th>Idle Std</th>\n",
       "      <th>Idle Max</th>\n",
       "      <th>Idle Min</th>\n",
       "      <th>Label</th>\n",
       "    </tr>\n",
       "  </thead>\n",
       "  <tbody>\n",
       "    <tr>\n",
       "      <th>0</th>\n",
       "      <td>0.933255</td>\n",
       "      <td>0.030607</td>\n",
       "      <td>0.0</td>\n",
       "      <td>0.500735</td>\n",
       "      <td>0.027778</td>\n",
       "      <td>0.015625</td>\n",
       "      <td>0.000547</td>\n",
       "      <td>0.000033</td>\n",
       "      <td>0.001408</td>\n",
       "      <td>0.000737</td>\n",
       "      <td>...</td>\n",
       "      <td>0.019231</td>\n",
       "      <td>0.000394</td>\n",
       "      <td>0.000000</td>\n",
       "      <td>0.000394</td>\n",
       "      <td>3.943106e-04</td>\n",
       "      <td>0.999460</td>\n",
       "      <td>0.000000</td>\n",
       "      <td>0.732499</td>\n",
       "      <td>0.999460</td>\n",
       "      <td>0.0</td>\n",
       "    </tr>\n",
       "    <tr>\n",
       "      <th>1</th>\n",
       "      <td>0.706232</td>\n",
       "      <td>0.030607</td>\n",
       "      <td>0.0</td>\n",
       "      <td>0.500670</td>\n",
       "      <td>0.027778</td>\n",
       "      <td>0.015625</td>\n",
       "      <td>0.000547</td>\n",
       "      <td>0.000033</td>\n",
       "      <td>0.001408</td>\n",
       "      <td>0.000737</td>\n",
       "      <td>...</td>\n",
       "      <td>0.019231</td>\n",
       "      <td>0.000065</td>\n",
       "      <td>0.000000</td>\n",
       "      <td>0.000065</td>\n",
       "      <td>6.470381e-05</td>\n",
       "      <td>0.999423</td>\n",
       "      <td>0.000000</td>\n",
       "      <td>0.732473</td>\n",
       "      <td>0.999423</td>\n",
       "      <td>0.0</td>\n",
       "    </tr>\n",
       "    <tr>\n",
       "      <th>2</th>\n",
       "      <td>0.620163</td>\n",
       "      <td>0.006911</td>\n",
       "      <td>0.0</td>\n",
       "      <td>0.964318</td>\n",
       "      <td>0.222222</td>\n",
       "      <td>0.187500</td>\n",
       "      <td>0.010120</td>\n",
       "      <td>0.000203</td>\n",
       "      <td>0.026056</td>\n",
       "      <td>0.001704</td>\n",
       "      <td>...</td>\n",
       "      <td>0.019231</td>\n",
       "      <td>0.004357</td>\n",
       "      <td>0.075293</td>\n",
       "      <td>0.095695</td>\n",
       "      <td>1.565415e-06</td>\n",
       "      <td>0.086251</td>\n",
       "      <td>0.001181</td>\n",
       "      <td>0.064916</td>\n",
       "      <td>0.083213</td>\n",
       "      <td>1.0</td>\n",
       "    </tr>\n",
       "    <tr>\n",
       "      <th>3</th>\n",
       "      <td>0.978643</td>\n",
       "      <td>0.006911</td>\n",
       "      <td>0.0</td>\n",
       "      <td>0.964598</td>\n",
       "      <td>0.222222</td>\n",
       "      <td>0.187500</td>\n",
       "      <td>0.010120</td>\n",
       "      <td>0.000203</td>\n",
       "      <td>0.026056</td>\n",
       "      <td>0.001704</td>\n",
       "      <td>...</td>\n",
       "      <td>0.019231</td>\n",
       "      <td>0.018355</td>\n",
       "      <td>0.310185</td>\n",
       "      <td>0.385152</td>\n",
       "      <td>9.624402e-06</td>\n",
       "      <td>0.086428</td>\n",
       "      <td>0.000859</td>\n",
       "      <td>0.064741</td>\n",
       "      <td>0.086150</td>\n",
       "      <td>1.0</td>\n",
       "    </tr>\n",
       "    <tr>\n",
       "      <th>4</th>\n",
       "      <td>0.625675</td>\n",
       "      <td>0.006911</td>\n",
       "      <td>0.0</td>\n",
       "      <td>0.963249</td>\n",
       "      <td>0.222222</td>\n",
       "      <td>0.187500</td>\n",
       "      <td>0.010120</td>\n",
       "      <td>0.000203</td>\n",
       "      <td>0.026056</td>\n",
       "      <td>0.001704</td>\n",
       "      <td>...</td>\n",
       "      <td>0.019231</td>\n",
       "      <td>0.018445</td>\n",
       "      <td>0.311686</td>\n",
       "      <td>0.387017</td>\n",
       "      <td>1.171162e-05</td>\n",
       "      <td>0.086273</td>\n",
       "      <td>0.000387</td>\n",
       "      <td>0.063898</td>\n",
       "      <td>0.086156</td>\n",
       "      <td>1.0</td>\n",
       "    </tr>\n",
       "    <tr>\n",
       "      <th>...</th>\n",
       "      <td>...</td>\n",
       "      <td>...</td>\n",
       "      <td>...</td>\n",
       "      <td>...</td>\n",
       "      <td>...</td>\n",
       "      <td>...</td>\n",
       "      <td>...</td>\n",
       "      <td>...</td>\n",
       "      <td>...</td>\n",
       "      <td>...</td>\n",
       "      <td>...</td>\n",
       "      <td>...</td>\n",
       "      <td>...</td>\n",
       "      <td>...</td>\n",
       "      <td>...</td>\n",
       "      <td>...</td>\n",
       "      <td>...</td>\n",
       "      <td>...</td>\n",
       "      <td>...</td>\n",
       "      <td>...</td>\n",
       "      <td>...</td>\n",
       "    </tr>\n",
       "    <tr>\n",
       "      <th>8160</th>\n",
       "      <td>0.743779</td>\n",
       "      <td>0.000000</td>\n",
       "      <td>0.0</td>\n",
       "      <td>0.084659</td>\n",
       "      <td>0.092593</td>\n",
       "      <td>0.039062</td>\n",
       "      <td>0.001368</td>\n",
       "      <td>0.000082</td>\n",
       "      <td>0.001408</td>\n",
       "      <td>0.000553</td>\n",
       "      <td>...</td>\n",
       "      <td>0.076923</td>\n",
       "      <td>0.000000</td>\n",
       "      <td>0.000000</td>\n",
       "      <td>0.000000</td>\n",
       "      <td>0.000000e+00</td>\n",
       "      <td>0.000000</td>\n",
       "      <td>0.000000</td>\n",
       "      <td>0.000000</td>\n",
       "      <td>0.000000</td>\n",
       "      <td>1.0</td>\n",
       "    </tr>\n",
       "    <tr>\n",
       "      <th>8161</th>\n",
       "      <td>0.706232</td>\n",
       "      <td>0.030607</td>\n",
       "      <td>0.0</td>\n",
       "      <td>0.500766</td>\n",
       "      <td>0.027778</td>\n",
       "      <td>0.015625</td>\n",
       "      <td>0.000547</td>\n",
       "      <td>0.000033</td>\n",
       "      <td>0.001408</td>\n",
       "      <td>0.000737</td>\n",
       "      <td>...</td>\n",
       "      <td>0.019231</td>\n",
       "      <td>0.000347</td>\n",
       "      <td>0.000000</td>\n",
       "      <td>0.000347</td>\n",
       "      <td>3.467684e-04</td>\n",
       "      <td>0.999507</td>\n",
       "      <td>0.000000</td>\n",
       "      <td>0.732534</td>\n",
       "      <td>0.999507</td>\n",
       "      <td>0.0</td>\n",
       "    </tr>\n",
       "    <tr>\n",
       "      <th>8162</th>\n",
       "      <td>0.614373</td>\n",
       "      <td>0.030607</td>\n",
       "      <td>0.0</td>\n",
       "      <td>0.500684</td>\n",
       "      <td>0.027778</td>\n",
       "      <td>0.015625</td>\n",
       "      <td>0.000547</td>\n",
       "      <td>0.000033</td>\n",
       "      <td>0.001408</td>\n",
       "      <td>0.000737</td>\n",
       "      <td>...</td>\n",
       "      <td>0.019231</td>\n",
       "      <td>0.000052</td>\n",
       "      <td>0.000000</td>\n",
       "      <td>0.000052</td>\n",
       "      <td>5.160071e-05</td>\n",
       "      <td>0.999461</td>\n",
       "      <td>0.000000</td>\n",
       "      <td>0.732500</td>\n",
       "      <td>0.999461</td>\n",
       "      <td>0.0</td>\n",
       "    </tr>\n",
       "    <tr>\n",
       "      <th>8163</th>\n",
       "      <td>0.614373</td>\n",
       "      <td>0.030607</td>\n",
       "      <td>0.0</td>\n",
       "      <td>0.500759</td>\n",
       "      <td>0.027778</td>\n",
       "      <td>0.015625</td>\n",
       "      <td>0.000547</td>\n",
       "      <td>0.000033</td>\n",
       "      <td>0.001408</td>\n",
       "      <td>0.000737</td>\n",
       "      <td>...</td>\n",
       "      <td>0.019231</td>\n",
       "      <td>0.000238</td>\n",
       "      <td>0.000000</td>\n",
       "      <td>0.000238</td>\n",
       "      <td>2.378851e-04</td>\n",
       "      <td>0.999480</td>\n",
       "      <td>0.000000</td>\n",
       "      <td>0.732514</td>\n",
       "      <td>0.999480</td>\n",
       "      <td>0.0</td>\n",
       "    </tr>\n",
       "    <tr>\n",
       "      <th>8164</th>\n",
       "      <td>0.622525</td>\n",
       "      <td>0.006911</td>\n",
       "      <td>0.0</td>\n",
       "      <td>0.963971</td>\n",
       "      <td>0.222222</td>\n",
       "      <td>0.187500</td>\n",
       "      <td>0.010120</td>\n",
       "      <td>0.000203</td>\n",
       "      <td>0.026056</td>\n",
       "      <td>0.001704</td>\n",
       "      <td>...</td>\n",
       "      <td>0.019231</td>\n",
       "      <td>0.004654</td>\n",
       "      <td>0.080409</td>\n",
       "      <td>0.102196</td>\n",
       "      <td>5.797833e-07</td>\n",
       "      <td>0.086134</td>\n",
       "      <td>0.000947</td>\n",
       "      <td>0.063835</td>\n",
       "      <td>0.083222</td>\n",
       "      <td>1.0</td>\n",
       "    </tr>\n",
       "  </tbody>\n",
       "</table>\n",
       "<p>8165 rows × 64 columns</p>\n",
       "</div>"
      ],
      "text/plain": [
       "      Src Port  Dst Port  Protocol  Flow Duration  Tot Fwd Pkts  Tot Bwd Pkts  \\\n",
       "0     0.933255  0.030607       0.0       0.500735      0.027778      0.015625   \n",
       "1     0.706232  0.030607       0.0       0.500670      0.027778      0.015625   \n",
       "2     0.620163  0.006911       0.0       0.964318      0.222222      0.187500   \n",
       "3     0.978643  0.006911       0.0       0.964598      0.222222      0.187500   \n",
       "4     0.625675  0.006911       0.0       0.963249      0.222222      0.187500   \n",
       "...        ...       ...       ...            ...           ...           ...   \n",
       "8160  0.743779  0.000000       0.0       0.084659      0.092593      0.039062   \n",
       "8161  0.706232  0.030607       0.0       0.500766      0.027778      0.015625   \n",
       "8162  0.614373  0.030607       0.0       0.500684      0.027778      0.015625   \n",
       "8163  0.614373  0.030607       0.0       0.500759      0.027778      0.015625   \n",
       "8164  0.622525  0.006911       0.0       0.963971      0.222222      0.187500   \n",
       "\n",
       "      TotLen Fwd Pkts  TotLen Bwd Pkts  Fwd Pkt Len Max  Fwd Pkt Len Mean  \\\n",
       "0            0.000547         0.000033         0.001408          0.000737   \n",
       "1            0.000547         0.000033         0.001408          0.000737   \n",
       "2            0.010120         0.000203         0.026056          0.001704   \n",
       "3            0.010120         0.000203         0.026056          0.001704   \n",
       "4            0.010120         0.000203         0.026056          0.001704   \n",
       "...               ...              ...              ...               ...   \n",
       "8160         0.001368         0.000082         0.001408          0.000553   \n",
       "8161         0.000547         0.000033         0.001408          0.000737   \n",
       "8162         0.000547         0.000033         0.001408          0.000737   \n",
       "8163         0.000547         0.000033         0.001408          0.000737   \n",
       "8164         0.010120         0.000203         0.026056          0.001704   \n",
       "\n",
       "      ...  Fwd Act Data Pkts  Active Mean  Active Std  Active Max  \\\n",
       "0     ...           0.019231     0.000394    0.000000    0.000394   \n",
       "1     ...           0.019231     0.000065    0.000000    0.000065   \n",
       "2     ...           0.019231     0.004357    0.075293    0.095695   \n",
       "3     ...           0.019231     0.018355    0.310185    0.385152   \n",
       "4     ...           0.019231     0.018445    0.311686    0.387017   \n",
       "...   ...                ...          ...         ...         ...   \n",
       "8160  ...           0.076923     0.000000    0.000000    0.000000   \n",
       "8161  ...           0.019231     0.000347    0.000000    0.000347   \n",
       "8162  ...           0.019231     0.000052    0.000000    0.000052   \n",
       "8163  ...           0.019231     0.000238    0.000000    0.000238   \n",
       "8164  ...           0.019231     0.004654    0.080409    0.102196   \n",
       "\n",
       "        Active Min  Idle Mean  Idle Std  Idle Max  Idle Min  Label  \n",
       "0     3.943106e-04   0.999460  0.000000  0.732499  0.999460    0.0  \n",
       "1     6.470381e-05   0.999423  0.000000  0.732473  0.999423    0.0  \n",
       "2     1.565415e-06   0.086251  0.001181  0.064916  0.083213    1.0  \n",
       "3     9.624402e-06   0.086428  0.000859  0.064741  0.086150    1.0  \n",
       "4     1.171162e-05   0.086273  0.000387  0.063898  0.086156    1.0  \n",
       "...            ...        ...       ...       ...       ...    ...  \n",
       "8160  0.000000e+00   0.000000  0.000000  0.000000  0.000000    1.0  \n",
       "8161  3.467684e-04   0.999507  0.000000  0.732534  0.999507    0.0  \n",
       "8162  5.160071e-05   0.999461  0.000000  0.732500  0.999461    0.0  \n",
       "8163  2.378851e-04   0.999480  0.000000  0.732514  0.999480    0.0  \n",
       "8164  5.797833e-07   0.086134  0.000947  0.063835  0.083222    1.0  \n",
       "\n",
       "[8165 rows x 64 columns]"
      ]
     },
     "execution_count": 27,
     "metadata": {},
     "output_type": "execute_result"
    }
   ],
   "source": [
    "process_df"
   ]
  },
  {
   "cell_type": "code",
   "execution_count": 28,
   "metadata": {},
   "outputs": [],
   "source": [
    "process_df.drop_duplicates(inplace=True)"
   ]
  },
  {
   "cell_type": "code",
   "execution_count": 29,
   "metadata": {},
   "outputs": [
    {
     "data": {
      "text/html": [
       "<div>\n",
       "<style scoped>\n",
       "    .dataframe tbody tr th:only-of-type {\n",
       "        vertical-align: middle;\n",
       "    }\n",
       "\n",
       "    .dataframe tbody tr th {\n",
       "        vertical-align: top;\n",
       "    }\n",
       "\n",
       "    .dataframe thead th {\n",
       "        text-align: right;\n",
       "    }\n",
       "</style>\n",
       "<table border=\"1\" class=\"dataframe\">\n",
       "  <thead>\n",
       "    <tr style=\"text-align: right;\">\n",
       "      <th></th>\n",
       "      <th>Src Port</th>\n",
       "      <th>Dst Port</th>\n",
       "      <th>Protocol</th>\n",
       "      <th>Flow Duration</th>\n",
       "      <th>Tot Fwd Pkts</th>\n",
       "      <th>Tot Bwd Pkts</th>\n",
       "      <th>TotLen Fwd Pkts</th>\n",
       "      <th>TotLen Bwd Pkts</th>\n",
       "      <th>Fwd Pkt Len Max</th>\n",
       "      <th>Fwd Pkt Len Mean</th>\n",
       "      <th>...</th>\n",
       "      <th>Fwd Act Data Pkts</th>\n",
       "      <th>Active Mean</th>\n",
       "      <th>Active Std</th>\n",
       "      <th>Active Max</th>\n",
       "      <th>Active Min</th>\n",
       "      <th>Idle Mean</th>\n",
       "      <th>Idle Std</th>\n",
       "      <th>Idle Max</th>\n",
       "      <th>Idle Min</th>\n",
       "      <th>Label</th>\n",
       "    </tr>\n",
       "  </thead>\n",
       "  <tbody>\n",
       "    <tr>\n",
       "      <th>0</th>\n",
       "      <td>0.933255</td>\n",
       "      <td>0.030607</td>\n",
       "      <td>0.0</td>\n",
       "      <td>0.500735</td>\n",
       "      <td>0.027778</td>\n",
       "      <td>0.015625</td>\n",
       "      <td>0.000547</td>\n",
       "      <td>0.000033</td>\n",
       "      <td>0.001408</td>\n",
       "      <td>0.000737</td>\n",
       "      <td>...</td>\n",
       "      <td>0.019231</td>\n",
       "      <td>0.000394</td>\n",
       "      <td>0.000000</td>\n",
       "      <td>0.000394</td>\n",
       "      <td>3.943106e-04</td>\n",
       "      <td>0.999460</td>\n",
       "      <td>0.000000</td>\n",
       "      <td>0.732499</td>\n",
       "      <td>0.999460</td>\n",
       "      <td>0.0</td>\n",
       "    </tr>\n",
       "    <tr>\n",
       "      <th>1</th>\n",
       "      <td>0.706232</td>\n",
       "      <td>0.030607</td>\n",
       "      <td>0.0</td>\n",
       "      <td>0.500670</td>\n",
       "      <td>0.027778</td>\n",
       "      <td>0.015625</td>\n",
       "      <td>0.000547</td>\n",
       "      <td>0.000033</td>\n",
       "      <td>0.001408</td>\n",
       "      <td>0.000737</td>\n",
       "      <td>...</td>\n",
       "      <td>0.019231</td>\n",
       "      <td>0.000065</td>\n",
       "      <td>0.000000</td>\n",
       "      <td>0.000065</td>\n",
       "      <td>6.470381e-05</td>\n",
       "      <td>0.999423</td>\n",
       "      <td>0.000000</td>\n",
       "      <td>0.732473</td>\n",
       "      <td>0.999423</td>\n",
       "      <td>0.0</td>\n",
       "    </tr>\n",
       "    <tr>\n",
       "      <th>2</th>\n",
       "      <td>0.620163</td>\n",
       "      <td>0.006911</td>\n",
       "      <td>0.0</td>\n",
       "      <td>0.964318</td>\n",
       "      <td>0.222222</td>\n",
       "      <td>0.187500</td>\n",
       "      <td>0.010120</td>\n",
       "      <td>0.000203</td>\n",
       "      <td>0.026056</td>\n",
       "      <td>0.001704</td>\n",
       "      <td>...</td>\n",
       "      <td>0.019231</td>\n",
       "      <td>0.004357</td>\n",
       "      <td>0.075293</td>\n",
       "      <td>0.095695</td>\n",
       "      <td>1.565415e-06</td>\n",
       "      <td>0.086251</td>\n",
       "      <td>0.001181</td>\n",
       "      <td>0.064916</td>\n",
       "      <td>0.083213</td>\n",
       "      <td>1.0</td>\n",
       "    </tr>\n",
       "    <tr>\n",
       "      <th>3</th>\n",
       "      <td>0.978643</td>\n",
       "      <td>0.006911</td>\n",
       "      <td>0.0</td>\n",
       "      <td>0.964598</td>\n",
       "      <td>0.222222</td>\n",
       "      <td>0.187500</td>\n",
       "      <td>0.010120</td>\n",
       "      <td>0.000203</td>\n",
       "      <td>0.026056</td>\n",
       "      <td>0.001704</td>\n",
       "      <td>...</td>\n",
       "      <td>0.019231</td>\n",
       "      <td>0.018355</td>\n",
       "      <td>0.310185</td>\n",
       "      <td>0.385152</td>\n",
       "      <td>9.624402e-06</td>\n",
       "      <td>0.086428</td>\n",
       "      <td>0.000859</td>\n",
       "      <td>0.064741</td>\n",
       "      <td>0.086150</td>\n",
       "      <td>1.0</td>\n",
       "    </tr>\n",
       "    <tr>\n",
       "      <th>4</th>\n",
       "      <td>0.625675</td>\n",
       "      <td>0.006911</td>\n",
       "      <td>0.0</td>\n",
       "      <td>0.963249</td>\n",
       "      <td>0.222222</td>\n",
       "      <td>0.187500</td>\n",
       "      <td>0.010120</td>\n",
       "      <td>0.000203</td>\n",
       "      <td>0.026056</td>\n",
       "      <td>0.001704</td>\n",
       "      <td>...</td>\n",
       "      <td>0.019231</td>\n",
       "      <td>0.018445</td>\n",
       "      <td>0.311686</td>\n",
       "      <td>0.387017</td>\n",
       "      <td>1.171162e-05</td>\n",
       "      <td>0.086273</td>\n",
       "      <td>0.000387</td>\n",
       "      <td>0.063898</td>\n",
       "      <td>0.086156</td>\n",
       "      <td>1.0</td>\n",
       "    </tr>\n",
       "    <tr>\n",
       "      <th>...</th>\n",
       "      <td>...</td>\n",
       "      <td>...</td>\n",
       "      <td>...</td>\n",
       "      <td>...</td>\n",
       "      <td>...</td>\n",
       "      <td>...</td>\n",
       "      <td>...</td>\n",
       "      <td>...</td>\n",
       "      <td>...</td>\n",
       "      <td>...</td>\n",
       "      <td>...</td>\n",
       "      <td>...</td>\n",
       "      <td>...</td>\n",
       "      <td>...</td>\n",
       "      <td>...</td>\n",
       "      <td>...</td>\n",
       "      <td>...</td>\n",
       "      <td>...</td>\n",
       "      <td>...</td>\n",
       "      <td>...</td>\n",
       "      <td>...</td>\n",
       "    </tr>\n",
       "    <tr>\n",
       "      <th>8160</th>\n",
       "      <td>0.743779</td>\n",
       "      <td>0.000000</td>\n",
       "      <td>0.0</td>\n",
       "      <td>0.084659</td>\n",
       "      <td>0.092593</td>\n",
       "      <td>0.039062</td>\n",
       "      <td>0.001368</td>\n",
       "      <td>0.000082</td>\n",
       "      <td>0.001408</td>\n",
       "      <td>0.000553</td>\n",
       "      <td>...</td>\n",
       "      <td>0.076923</td>\n",
       "      <td>0.000000</td>\n",
       "      <td>0.000000</td>\n",
       "      <td>0.000000</td>\n",
       "      <td>0.000000e+00</td>\n",
       "      <td>0.000000</td>\n",
       "      <td>0.000000</td>\n",
       "      <td>0.000000</td>\n",
       "      <td>0.000000</td>\n",
       "      <td>1.0</td>\n",
       "    </tr>\n",
       "    <tr>\n",
       "      <th>8161</th>\n",
       "      <td>0.706232</td>\n",
       "      <td>0.030607</td>\n",
       "      <td>0.0</td>\n",
       "      <td>0.500766</td>\n",
       "      <td>0.027778</td>\n",
       "      <td>0.015625</td>\n",
       "      <td>0.000547</td>\n",
       "      <td>0.000033</td>\n",
       "      <td>0.001408</td>\n",
       "      <td>0.000737</td>\n",
       "      <td>...</td>\n",
       "      <td>0.019231</td>\n",
       "      <td>0.000347</td>\n",
       "      <td>0.000000</td>\n",
       "      <td>0.000347</td>\n",
       "      <td>3.467684e-04</td>\n",
       "      <td>0.999507</td>\n",
       "      <td>0.000000</td>\n",
       "      <td>0.732534</td>\n",
       "      <td>0.999507</td>\n",
       "      <td>0.0</td>\n",
       "    </tr>\n",
       "    <tr>\n",
       "      <th>8162</th>\n",
       "      <td>0.614373</td>\n",
       "      <td>0.030607</td>\n",
       "      <td>0.0</td>\n",
       "      <td>0.500684</td>\n",
       "      <td>0.027778</td>\n",
       "      <td>0.015625</td>\n",
       "      <td>0.000547</td>\n",
       "      <td>0.000033</td>\n",
       "      <td>0.001408</td>\n",
       "      <td>0.000737</td>\n",
       "      <td>...</td>\n",
       "      <td>0.019231</td>\n",
       "      <td>0.000052</td>\n",
       "      <td>0.000000</td>\n",
       "      <td>0.000052</td>\n",
       "      <td>5.160071e-05</td>\n",
       "      <td>0.999461</td>\n",
       "      <td>0.000000</td>\n",
       "      <td>0.732500</td>\n",
       "      <td>0.999461</td>\n",
       "      <td>0.0</td>\n",
       "    </tr>\n",
       "    <tr>\n",
       "      <th>8163</th>\n",
       "      <td>0.614373</td>\n",
       "      <td>0.030607</td>\n",
       "      <td>0.0</td>\n",
       "      <td>0.500759</td>\n",
       "      <td>0.027778</td>\n",
       "      <td>0.015625</td>\n",
       "      <td>0.000547</td>\n",
       "      <td>0.000033</td>\n",
       "      <td>0.001408</td>\n",
       "      <td>0.000737</td>\n",
       "      <td>...</td>\n",
       "      <td>0.019231</td>\n",
       "      <td>0.000238</td>\n",
       "      <td>0.000000</td>\n",
       "      <td>0.000238</td>\n",
       "      <td>2.378851e-04</td>\n",
       "      <td>0.999480</td>\n",
       "      <td>0.000000</td>\n",
       "      <td>0.732514</td>\n",
       "      <td>0.999480</td>\n",
       "      <td>0.0</td>\n",
       "    </tr>\n",
       "    <tr>\n",
       "      <th>8164</th>\n",
       "      <td>0.622525</td>\n",
       "      <td>0.006911</td>\n",
       "      <td>0.0</td>\n",
       "      <td>0.963971</td>\n",
       "      <td>0.222222</td>\n",
       "      <td>0.187500</td>\n",
       "      <td>0.010120</td>\n",
       "      <td>0.000203</td>\n",
       "      <td>0.026056</td>\n",
       "      <td>0.001704</td>\n",
       "      <td>...</td>\n",
       "      <td>0.019231</td>\n",
       "      <td>0.004654</td>\n",
       "      <td>0.080409</td>\n",
       "      <td>0.102196</td>\n",
       "      <td>5.797833e-07</td>\n",
       "      <td>0.086134</td>\n",
       "      <td>0.000947</td>\n",
       "      <td>0.063835</td>\n",
       "      <td>0.083222</td>\n",
       "      <td>1.0</td>\n",
       "    </tr>\n",
       "  </tbody>\n",
       "</table>\n",
       "<p>8165 rows × 64 columns</p>\n",
       "</div>"
      ],
      "text/plain": [
       "      Src Port  Dst Port  Protocol  Flow Duration  Tot Fwd Pkts  Tot Bwd Pkts  \\\n",
       "0     0.933255  0.030607       0.0       0.500735      0.027778      0.015625   \n",
       "1     0.706232  0.030607       0.0       0.500670      0.027778      0.015625   \n",
       "2     0.620163  0.006911       0.0       0.964318      0.222222      0.187500   \n",
       "3     0.978643  0.006911       0.0       0.964598      0.222222      0.187500   \n",
       "4     0.625675  0.006911       0.0       0.963249      0.222222      0.187500   \n",
       "...        ...       ...       ...            ...           ...           ...   \n",
       "8160  0.743779  0.000000       0.0       0.084659      0.092593      0.039062   \n",
       "8161  0.706232  0.030607       0.0       0.500766      0.027778      0.015625   \n",
       "8162  0.614373  0.030607       0.0       0.500684      0.027778      0.015625   \n",
       "8163  0.614373  0.030607       0.0       0.500759      0.027778      0.015625   \n",
       "8164  0.622525  0.006911       0.0       0.963971      0.222222      0.187500   \n",
       "\n",
       "      TotLen Fwd Pkts  TotLen Bwd Pkts  Fwd Pkt Len Max  Fwd Pkt Len Mean  \\\n",
       "0            0.000547         0.000033         0.001408          0.000737   \n",
       "1            0.000547         0.000033         0.001408          0.000737   \n",
       "2            0.010120         0.000203         0.026056          0.001704   \n",
       "3            0.010120         0.000203         0.026056          0.001704   \n",
       "4            0.010120         0.000203         0.026056          0.001704   \n",
       "...               ...              ...              ...               ...   \n",
       "8160         0.001368         0.000082         0.001408          0.000553   \n",
       "8161         0.000547         0.000033         0.001408          0.000737   \n",
       "8162         0.000547         0.000033         0.001408          0.000737   \n",
       "8163         0.000547         0.000033         0.001408          0.000737   \n",
       "8164         0.010120         0.000203         0.026056          0.001704   \n",
       "\n",
       "      ...  Fwd Act Data Pkts  Active Mean  Active Std  Active Max  \\\n",
       "0     ...           0.019231     0.000394    0.000000    0.000394   \n",
       "1     ...           0.019231     0.000065    0.000000    0.000065   \n",
       "2     ...           0.019231     0.004357    0.075293    0.095695   \n",
       "3     ...           0.019231     0.018355    0.310185    0.385152   \n",
       "4     ...           0.019231     0.018445    0.311686    0.387017   \n",
       "...   ...                ...          ...         ...         ...   \n",
       "8160  ...           0.076923     0.000000    0.000000    0.000000   \n",
       "8161  ...           0.019231     0.000347    0.000000    0.000347   \n",
       "8162  ...           0.019231     0.000052    0.000000    0.000052   \n",
       "8163  ...           0.019231     0.000238    0.000000    0.000238   \n",
       "8164  ...           0.019231     0.004654    0.080409    0.102196   \n",
       "\n",
       "        Active Min  Idle Mean  Idle Std  Idle Max  Idle Min  Label  \n",
       "0     3.943106e-04   0.999460  0.000000  0.732499  0.999460    0.0  \n",
       "1     6.470381e-05   0.999423  0.000000  0.732473  0.999423    0.0  \n",
       "2     1.565415e-06   0.086251  0.001181  0.064916  0.083213    1.0  \n",
       "3     9.624402e-06   0.086428  0.000859  0.064741  0.086150    1.0  \n",
       "4     1.171162e-05   0.086273  0.000387  0.063898  0.086156    1.0  \n",
       "...            ...        ...       ...       ...       ...    ...  \n",
       "8160  0.000000e+00   0.000000  0.000000  0.000000  0.000000    1.0  \n",
       "8161  3.467684e-04   0.999507  0.000000  0.732534  0.999507    0.0  \n",
       "8162  5.160071e-05   0.999461  0.000000  0.732500  0.999461    0.0  \n",
       "8163  2.378851e-04   0.999480  0.000000  0.732514  0.999480    0.0  \n",
       "8164  5.797833e-07   0.086134  0.000947  0.063835  0.083222    1.0  \n",
       "\n",
       "[8165 rows x 64 columns]"
      ]
     },
     "execution_count": 29,
     "metadata": {},
     "output_type": "execute_result"
    }
   ],
   "source": [
    "process_df"
   ]
  },
  {
   "cell_type": "code",
   "execution_count": 30,
   "metadata": {},
   "outputs": [],
   "source": [
    "# process_df.to_csv('process.csv')"
   ]
  },
  {
   "cell_type": "code",
   "execution_count": 31,
   "metadata": {},
   "outputs": [],
   "source": [
    "dropped = []\n",
    "for i in fin_df.columns:\n",
    "    if i not in process_df.columns:\n",
    "        dropped.append(i)"
   ]
  },
  {
   "cell_type": "code",
   "execution_count": 32,
   "metadata": {},
   "outputs": [
    {
     "data": {
      "text/plain": [
       "['Flow ID',\n",
       " 'Src IP',\n",
       " 'Dst IP',\n",
       " 'Timestamp',\n",
       " 'Fwd Pkt Len Min',\n",
       " 'Fwd PSH Flags',\n",
       " 'Fwd URG Flags',\n",
       " 'Bwd URG Flags',\n",
       " 'RST Flag Cnt',\n",
       " 'URG Flag Cnt',\n",
       " 'CWE Flag Count',\n",
       " 'ECE Flag Cnt',\n",
       " 'Fwd Byts/b Avg',\n",
       " 'Fwd Pkts/b Avg',\n",
       " 'Fwd Blk Rate Avg',\n",
       " 'Bwd Byts/b Avg',\n",
       " 'Bwd Pkts/b Avg',\n",
       " 'Bwd Blk Rate Avg',\n",
       " 'Init Fwd Win Byts',\n",
       " 'Fwd Seg Size Min']"
      ]
     },
     "execution_count": 32,
     "metadata": {},
     "output_type": "execute_result"
    }
   ],
   "source": [
    "dropped"
   ]
  },
  {
   "cell_type": "code",
   "execution_count": 33,
   "metadata": {},
   "outputs": [],
   "source": [
    "labels = process_df['Label']"
   ]
  },
  {
   "cell_type": "code",
   "execution_count": 34,
   "metadata": {},
   "outputs": [],
   "source": [
    "labels = list(labels)"
   ]
  },
  {
   "cell_type": "code",
   "execution_count": 35,
   "metadata": {},
   "outputs": [
    {
     "data": {
      "text/plain": [
       "[0.0,\n",
       " 0.0,\n",
       " 1.0,\n",
       " 1.0,\n",
       " 1.0,\n",
       " 0.0,\n",
       " 0.0,\n",
       " 1.0,\n",
       " 1.0,\n",
       " 0.0,\n",
       " 1.0,\n",
       " 0.0,\n",
       " 0.0,\n",
       " 1.0,\n",
       " 1.0,\n",
       " 0.0,\n",
       " 0.0,\n",
       " 0.0,\n",
       " 0.0,\n",
       " 1.0]"
      ]
     },
     "execution_count": 35,
     "metadata": {},
     "output_type": "execute_result"
    }
   ],
   "source": [
    "labels[:20]"
   ]
  },
  {
   "cell_type": "code",
   "execution_count": 36,
   "metadata": {},
   "outputs": [],
   "source": [
    "data = list(process_df.drop('Label', axis=1).values.tolist())"
   ]
  },
  {
   "cell_type": "code",
   "execution_count": 37,
   "metadata": {},
   "outputs": [],
   "source": [
    "# labels[0:2]"
   ]
  },
  {
   "cell_type": "code",
   "execution_count": 38,
   "metadata": {},
   "outputs": [],
   "source": [
    "data, labels = undersample.fit_resample(data, labels)"
   ]
  },
  {
   "cell_type": "code",
   "execution_count": 39,
   "metadata": {},
   "outputs": [],
   "source": [
    "# data[0:2]"
   ]
  },
  {
   "cell_type": "code",
   "execution_count": 40,
   "metadata": {},
   "outputs": [],
   "source": [
    "from sklearn.model_selection import train_test_split"
   ]
  },
  {
   "cell_type": "code",
   "execution_count": 41,
   "metadata": {},
   "outputs": [],
   "source": [
    "X_train, X_test, y_train, y_test = train_test_split(data, labels, test_size=0.3, random_state=42)"
   ]
  },
  {
   "cell_type": "code",
   "execution_count": 42,
   "metadata": {},
   "outputs": [
    {
     "name": "stdout",
     "output_type": "stream",
     "text": [
      "3922 1682\n"
     ]
    }
   ],
   "source": [
    "print(len(X_train), len(X_test))"
   ]
  },
  {
   "cell_type": "code",
   "execution_count": 43,
   "metadata": {},
   "outputs": [
    {
     "data": {
      "text/plain": [
       "875"
      ]
     },
     "execution_count": 43,
     "metadata": {},
     "output_type": "execute_result"
    }
   ],
   "source": [
    "y_test.count(0)"
   ]
  },
  {
   "cell_type": "code",
   "execution_count": 44,
   "metadata": {},
   "outputs": [
    {
     "data": {
      "text/plain": [
       "807"
      ]
     },
     "execution_count": 44,
     "metadata": {},
     "output_type": "execute_result"
    }
   ],
   "source": [
    "y_test.count(1)"
   ]
  },
  {
   "cell_type": "code",
   "execution_count": 45,
   "metadata": {},
   "outputs": [
    {
     "data": {
      "text/plain": [
       "1927"
      ]
     },
     "execution_count": 45,
     "metadata": {},
     "output_type": "execute_result"
    }
   ],
   "source": [
    "y_train.count(0)"
   ]
  },
  {
   "cell_type": "code",
   "execution_count": 46,
   "metadata": {},
   "outputs": [
    {
     "data": {
      "text/plain": [
       "1995"
      ]
     },
     "execution_count": 46,
     "metadata": {},
     "output_type": "execute_result"
    }
   ],
   "source": [
    "y_train.count(1)"
   ]
  },
  {
   "cell_type": "code",
   "execution_count": 47,
   "metadata": {},
   "outputs": [],
   "source": [
    "from sklearn.linear_model import LogisticRegression"
   ]
  },
  {
   "cell_type": "code",
   "execution_count": 48,
   "metadata": {},
   "outputs": [],
   "source": [
    "clf = LogisticRegression(random_state=0).fit(X_train, y_train)"
   ]
  },
  {
   "cell_type": "code",
   "execution_count": 49,
   "metadata": {},
   "outputs": [],
   "source": [
    "y_pred = clf.predict(X_test)"
   ]
  },
  {
   "cell_type": "code",
   "execution_count": 50,
   "metadata": {},
   "outputs": [],
   "source": [
    "from sklearn.metrics import accuracy_score"
   ]
  },
  {
   "cell_type": "code",
   "execution_count": 51,
   "metadata": {},
   "outputs": [
    {
     "name": "stdout",
     "output_type": "stream",
     "text": [
      "Accuracy :99.94%\n"
     ]
    }
   ],
   "source": [
    "print(\"Accuracy :{:.2f}\".format(100*accuracy_score(y_test, y_pred)) + '%')"
   ]
  },
  {
   "cell_type": "code",
   "execution_count": 52,
   "metadata": {},
   "outputs": [],
   "source": [
    "from sklearn.metrics import classification_report"
   ]
  },
  {
   "cell_type": "code",
   "execution_count": 53,
   "metadata": {},
   "outputs": [
    {
     "name": "stdout",
     "output_type": "stream",
     "text": [
      "              precision    recall  f1-score   support\n",
      "\n",
      "         0.0       1.00      1.00      1.00       875\n",
      "         1.0       1.00      1.00      1.00       807\n",
      "\n",
      "    accuracy                           1.00      1682\n",
      "   macro avg       1.00      1.00      1.00      1682\n",
      "weighted avg       1.00      1.00      1.00      1682\n",
      "\n"
     ]
    }
   ],
   "source": [
    "print(classification_report(y_test, y_pred))"
   ]
  },
  {
   "cell_type": "code",
   "execution_count": 54,
   "metadata": {},
   "outputs": [],
   "source": [
    "from sklearn.metrics import plot_confusion_matrix"
   ]
  },
  {
   "cell_type": "code",
   "execution_count": 55,
   "metadata": {},
   "outputs": [
    {
     "data": {
      "text/plain": [
       "<sklearn.metrics._plot.confusion_matrix.ConfusionMatrixDisplay at 0x7f4c79ffecd0>"
      ]
     },
     "execution_count": 55,
     "metadata": {},
     "output_type": "execute_result"
    },
    {
     "data": {
      "image/png": "[encoded data removed]",
      "text/plain": [
       "<Figure size 432x288 with 2 Axes>"
      ]
     },
     "metadata": {
      "needs_background": "light"
     },
     "output_type": "display_data"
    }
   ],
   "source": [
    "plot_confusion_matrix(clf, X_test, y_test)  "
   ]
  },
  {
   "cell_type": "code",
   "execution_count": 56,
   "metadata": {},
   "outputs": [],
   "source": [
    "mal_df = pd.read_csv('torii_mal_fan.pcap_Flow.csv')  "
   ]
  },
  {
   "cell_type": "code",
   "execution_count": 57,
   "metadata": {},
   "outputs": [
    {
     "data": {
      "text/plain": [
       "2794"
      ]
     },
     "execution_count": 57,
     "metadata": {},
     "output_type": "execute_result"
    }
   ],
   "source": [
    "len(mal_df)"
   ]
  },
  {
   "cell_type": "code",
   "execution_count": 58,
   "metadata": {},
   "outputs": [],
   "source": [
    "mal_df['Label'] = 1"
   ]
  },
  {
   "cell_type": "code",
   "execution_count": 63,
   "metadata": {},
   "outputs": [],
   "source": [
    "normal_df = pd.read_csv('mirai_leg_fan.pcap_Flow.csv')"
   ]
  },
  {
   "cell_type": "code",
   "execution_count": 64,
   "metadata": {},
   "outputs": [],
   "source": [
    "normal_df['Label'] = 0"
   ]
  },
  {
   "cell_type": "code",
   "execution_count": 65,
   "metadata": {},
   "outputs": [
    {
     "data": {
      "text/plain": [
       "48674"
      ]
     },
     "execution_count": 65,
     "metadata": {},
     "output_type": "execute_result"
    }
   ],
   "source": [
    "len(normal_df)"
   ]
  },
  {
   "cell_type": "code",
   "execution_count": 66,
   "metadata": {},
   "outputs": [],
   "source": [
    "# df = normal_df\n",
    "# df = mal_df\n",
    "df = pd.concat([mal_df, normal_df], axis=0, join='inner')"
   ]
  },
  {
   "cell_type": "code",
   "execution_count": 67,
   "metadata": {},
   "outputs": [],
   "source": [
    "df = df.sample(frac=1).reset_index(drop=True)"
   ]
  },
  {
   "cell_type": "code",
   "execution_count": 68,
   "metadata": {},
   "outputs": [],
   "source": [
    "dst_ip = mal_df['Dst IP']"
   ]
  },
  {
   "cell_type": "code",
   "execution_count": 69,
   "metadata": {},
   "outputs": [],
   "source": [
    "# dst_ip"
   ]
  },
  {
   "cell_type": "code",
   "execution_count": 70,
   "metadata": {},
   "outputs": [],
   "source": [
    "df.replace([np.inf, -np.inf], np.nan, inplace=True)"
   ]
  },
  {
   "cell_type": "code",
   "execution_count": 71,
   "metadata": {},
   "outputs": [],
   "source": [
    "df.dropna(inplace=True)"
   ]
  },
  {
   "cell_type": "code",
   "execution_count": 72,
   "metadata": {},
   "outputs": [],
   "source": [
    "df.drop(dropped, inplace=True, axis=1)"
   ]
  },
  {
   "cell_type": "code",
   "execution_count": 73,
   "metadata": {},
   "outputs": [],
   "source": [
    "b = df['Label']"
   ]
  },
  {
   "cell_type": "code",
   "execution_count": 74,
   "metadata": {},
   "outputs": [],
   "source": [
    "df.drop('Label', inplace=True, axis=1)"
   ]
  },
  {
   "cell_type": "code",
   "execution_count": 75,
   "metadata": {},
   "outputs": [],
   "source": [
    "column = df.columns"
   ]
  },
  {
   "cell_type": "code",
   "execution_count": 76,
   "metadata": {},
   "outputs": [
    {
     "data": {
      "text/plain": [
       "Index(['Src Port', 'Dst Port', 'Protocol', 'Flow Duration', 'Tot Fwd Pkts',\n",
       "       'Tot Bwd Pkts', 'TotLen Fwd Pkts', 'TotLen Bwd Pkts', 'Fwd Pkt Len Max',\n",
       "       'Fwd Pkt Len Mean', 'Fwd Pkt Len Std', 'Bwd Pkt Len Max',\n",
       "       'Bwd Pkt Len Min', 'Bwd Pkt Len Mean', 'Bwd Pkt Len Std', 'Flow Byts/s',\n",
       "       'Flow Pkts/s', 'Flow IAT Mean', 'Flow IAT Std', 'Flow IAT Max',\n",
       "       'Flow IAT Min', 'Fwd IAT Tot', 'Fwd IAT Mean', 'Fwd IAT Std',\n",
       "       'Fwd IAT Max', 'Fwd IAT Min', 'Bwd IAT Tot', 'Bwd IAT Mean',\n",
       "       'Bwd IAT Std', 'Bwd IAT Max', 'Bwd IAT Min', 'Bwd PSH Flags',\n",
       "       'Fwd Header Len', 'Bwd Header Len', 'Fwd Pkts/s', 'Bwd Pkts/s',\n",
       "       'Pkt Len Min', 'Pkt Len Max', 'Pkt Len Mean', 'Pkt Len Std',\n",
       "       'Pkt Len Var', 'FIN Flag Cnt', 'SYN Flag Cnt', 'PSH Flag Cnt',\n",
       "       'ACK Flag Cnt', 'Down/Up Ratio', 'Pkt Size Avg', 'Fwd Seg Size Avg',\n",
       "       'Bwd Seg Size Avg', 'Subflow Fwd Pkts', 'Subflow Fwd Byts',\n",
       "       'Subflow Bwd Pkts', 'Subflow Bwd Byts', 'Init Bwd Win Byts',\n",
       "       'Fwd Act Data Pkts', 'Active Mean', 'Active Std', 'Active Max',\n",
       "       'Active Min', 'Idle Mean', 'Idle Std', 'Idle Max', 'Idle Min'],\n",
       "      dtype='object')"
      ]
     },
     "execution_count": 76,
     "metadata": {},
     "output_type": "execute_result"
    }
   ],
   "source": [
    "column"
   ]
  },
  {
   "cell_type": "code",
   "execution_count": 77,
   "metadata": {},
   "outputs": [],
   "source": [
    "for i in range(len(column)):\n",
    "    df[column[i]] = (df[column[i]] - min_vals[i]) / (max_vals[i] - min_vals[i]) "
   ]
  },
  {
   "cell_type": "code",
   "execution_count": 78,
   "metadata": {},
   "outputs": [],
   "source": [
    "df[df < 0] = 0"
   ]
  },
  {
   "cell_type": "code",
   "execution_count": 79,
   "metadata": {},
   "outputs": [],
   "source": [
    "df[df > 1] = 1"
   ]
  },
  {
   "cell_type": "code",
   "execution_count": 80,
   "metadata": {},
   "outputs": [
    {
     "data": {
      "text/html": [
       "<div>\n",
       "<style scoped>\n",
       "    .dataframe tbody tr th:only-of-type {\n",
       "        vertical-align: middle;\n",
       "    }\n",
       "\n",
       "    .dataframe tbody tr th {\n",
       "        vertical-align: top;\n",
       "    }\n",
       "\n",
       "    .dataframe thead th {\n",
       "        text-align: right;\n",
       "    }\n",
       "</style>\n",
       "<table border=\"1\" class=\"dataframe\">\n",
       "  <thead>\n",
       "    <tr style=\"text-align: right;\">\n",
       "      <th></th>\n",
       "      <th>Src Port</th>\n",
       "      <th>Dst Port</th>\n",
       "      <th>Protocol</th>\n",
       "      <th>Flow Duration</th>\n",
       "      <th>Tot Fwd Pkts</th>\n",
       "      <th>Tot Bwd Pkts</th>\n",
       "      <th>TotLen Fwd Pkts</th>\n",
       "      <th>TotLen Bwd Pkts</th>\n",
       "      <th>Fwd Pkt Len Max</th>\n",
       "      <th>Fwd Pkt Len Mean</th>\n",
       "      <th>...</th>\n",
       "      <th>Init Bwd Win Byts</th>\n",
       "      <th>Fwd Act Data Pkts</th>\n",
       "      <th>Active Mean</th>\n",
       "      <th>Active Std</th>\n",
       "      <th>Active Max</th>\n",
       "      <th>Active Min</th>\n",
       "      <th>Idle Mean</th>\n",
       "      <th>Idle Std</th>\n",
       "      <th>Idle Max</th>\n",
       "      <th>Idle Min</th>\n",
       "    </tr>\n",
       "  </thead>\n",
       "  <tbody>\n",
       "    <tr>\n",
       "      <th>0</th>\n",
       "      <td>0.675820</td>\n",
       "      <td>0.030607</td>\n",
       "      <td>0.0</td>\n",
       "      <td>0.500676</td>\n",
       "      <td>0.027778</td>\n",
       "      <td>0.015625</td>\n",
       "      <td>0.000547</td>\n",
       "      <td>0.000033</td>\n",
       "      <td>0.001408</td>\n",
       "      <td>0.000737</td>\n",
       "      <td>...</td>\n",
       "      <td>0.133258</td>\n",
       "      <td>0.019231</td>\n",
       "      <td>0.000063</td>\n",
       "      <td>0.000000</td>\n",
       "      <td>0.000063</td>\n",
       "      <td>0.000063</td>\n",
       "      <td>0.999446</td>\n",
       "      <td>0.000000</td>\n",
       "      <td>0.732489</td>\n",
       "      <td>0.999446</td>\n",
       "    </tr>\n",
       "    <tr>\n",
       "      <th>1</th>\n",
       "      <td>0.971803</td>\n",
       "      <td>0.030607</td>\n",
       "      <td>0.0</td>\n",
       "      <td>0.500619</td>\n",
       "      <td>0.027778</td>\n",
       "      <td>0.015625</td>\n",
       "      <td>0.000547</td>\n",
       "      <td>0.000033</td>\n",
       "      <td>0.001408</td>\n",
       "      <td>0.000737</td>\n",
       "      <td>...</td>\n",
       "      <td>0.133258</td>\n",
       "      <td>0.019231</td>\n",
       "      <td>0.000059</td>\n",
       "      <td>0.000000</td>\n",
       "      <td>0.000059</td>\n",
       "      <td>0.000059</td>\n",
       "      <td>0.999333</td>\n",
       "      <td>0.000000</td>\n",
       "      <td>0.732406</td>\n",
       "      <td>0.999333</td>\n",
       "    </tr>\n",
       "    <tr>\n",
       "      <th>2</th>\n",
       "      <td>0.971803</td>\n",
       "      <td>0.030607</td>\n",
       "      <td>0.0</td>\n",
       "      <td>0.500732</td>\n",
       "      <td>0.027778</td>\n",
       "      <td>0.015625</td>\n",
       "      <td>0.000547</td>\n",
       "      <td>0.000033</td>\n",
       "      <td>0.001408</td>\n",
       "      <td>0.000737</td>\n",
       "      <td>...</td>\n",
       "      <td>0.133258</td>\n",
       "      <td>0.019231</td>\n",
       "      <td>0.000249</td>\n",
       "      <td>0.000000</td>\n",
       "      <td>0.000249</td>\n",
       "      <td>0.000249</td>\n",
       "      <td>0.999474</td>\n",
       "      <td>0.000000</td>\n",
       "      <td>0.732510</td>\n",
       "      <td>0.999474</td>\n",
       "    </tr>\n",
       "    <tr>\n",
       "      <th>3</th>\n",
       "      <td>0.967374</td>\n",
       "      <td>0.030607</td>\n",
       "      <td>0.0</td>\n",
       "      <td>0.500711</td>\n",
       "      <td>0.027778</td>\n",
       "      <td>0.015625</td>\n",
       "      <td>0.000547</td>\n",
       "      <td>0.000033</td>\n",
       "      <td>0.001408</td>\n",
       "      <td>0.000737</td>\n",
       "      <td>...</td>\n",
       "      <td>0.133258</td>\n",
       "      <td>0.019231</td>\n",
       "      <td>0.000041</td>\n",
       "      <td>0.000000</td>\n",
       "      <td>0.000041</td>\n",
       "      <td>0.000041</td>\n",
       "      <td>0.999516</td>\n",
       "      <td>0.000000</td>\n",
       "      <td>0.732541</td>\n",
       "      <td>0.999516</td>\n",
       "    </tr>\n",
       "    <tr>\n",
       "      <th>4</th>\n",
       "      <td>0.700146</td>\n",
       "      <td>0.006911</td>\n",
       "      <td>0.0</td>\n",
       "      <td>0.963157</td>\n",
       "      <td>0.222222</td>\n",
       "      <td>0.187500</td>\n",
       "      <td>0.010120</td>\n",
       "      <td>0.000203</td>\n",
       "      <td>0.026056</td>\n",
       "      <td>0.001704</td>\n",
       "      <td>...</td>\n",
       "      <td>0.096556</td>\n",
       "      <td>0.019231</td>\n",
       "      <td>0.004001</td>\n",
       "      <td>0.069072</td>\n",
       "      <td>0.087791</td>\n",
       "      <td>0.000003</td>\n",
       "      <td>0.086247</td>\n",
       "      <td>0.001058</td>\n",
       "      <td>0.064331</td>\n",
       "      <td>0.083183</td>\n",
       "    </tr>\n",
       "    <tr>\n",
       "      <th>...</th>\n",
       "      <td>...</td>\n",
       "      <td>...</td>\n",
       "      <td>...</td>\n",
       "      <td>...</td>\n",
       "      <td>...</td>\n",
       "      <td>...</td>\n",
       "      <td>...</td>\n",
       "      <td>...</td>\n",
       "      <td>...</td>\n",
       "      <td>...</td>\n",
       "      <td>...</td>\n",
       "      <td>...</td>\n",
       "      <td>...</td>\n",
       "      <td>...</td>\n",
       "      <td>...</td>\n",
       "      <td>...</td>\n",
       "      <td>...</td>\n",
       "      <td>...</td>\n",
       "      <td>...</td>\n",
       "      <td>...</td>\n",
       "      <td>...</td>\n",
       "    </tr>\n",
       "    <tr>\n",
       "      <th>51463</th>\n",
       "      <td>0.637665</td>\n",
       "      <td>0.030607</td>\n",
       "      <td>0.0</td>\n",
       "      <td>0.500681</td>\n",
       "      <td>0.027778</td>\n",
       "      <td>0.015625</td>\n",
       "      <td>0.000547</td>\n",
       "      <td>0.000033</td>\n",
       "      <td>0.001408</td>\n",
       "      <td>0.000737</td>\n",
       "      <td>...</td>\n",
       "      <td>0.133258</td>\n",
       "      <td>0.019231</td>\n",
       "      <td>0.000059</td>\n",
       "      <td>0.000000</td>\n",
       "      <td>0.000059</td>\n",
       "      <td>0.000059</td>\n",
       "      <td>0.999455</td>\n",
       "      <td>0.000000</td>\n",
       "      <td>0.732496</td>\n",
       "      <td>0.999455</td>\n",
       "    </tr>\n",
       "    <tr>\n",
       "      <th>51464</th>\n",
       "      <td>0.867805</td>\n",
       "      <td>0.030607</td>\n",
       "      <td>0.0</td>\n",
       "      <td>0.500684</td>\n",
       "      <td>0.027778</td>\n",
       "      <td>0.015625</td>\n",
       "      <td>0.000547</td>\n",
       "      <td>0.000033</td>\n",
       "      <td>0.001408</td>\n",
       "      <td>0.000737</td>\n",
       "      <td>...</td>\n",
       "      <td>0.133258</td>\n",
       "      <td>0.019231</td>\n",
       "      <td>0.000044</td>\n",
       "      <td>0.000000</td>\n",
       "      <td>0.000044</td>\n",
       "      <td>0.000044</td>\n",
       "      <td>0.999462</td>\n",
       "      <td>0.000000</td>\n",
       "      <td>0.732501</td>\n",
       "      <td>0.999462</td>\n",
       "    </tr>\n",
       "    <tr>\n",
       "      <th>51465</th>\n",
       "      <td>0.692092</td>\n",
       "      <td>0.030607</td>\n",
       "      <td>0.0</td>\n",
       "      <td>0.500621</td>\n",
       "      <td>0.027778</td>\n",
       "      <td>0.015625</td>\n",
       "      <td>0.000547</td>\n",
       "      <td>0.000033</td>\n",
       "      <td>0.001408</td>\n",
       "      <td>0.000737</td>\n",
       "      <td>...</td>\n",
       "      <td>0.133258</td>\n",
       "      <td>0.019231</td>\n",
       "      <td>0.000048</td>\n",
       "      <td>0.000000</td>\n",
       "      <td>0.000048</td>\n",
       "      <td>0.000048</td>\n",
       "      <td>0.999338</td>\n",
       "      <td>0.000000</td>\n",
       "      <td>0.732410</td>\n",
       "      <td>0.999338</td>\n",
       "    </tr>\n",
       "    <tr>\n",
       "      <th>51466</th>\n",
       "      <td>0.826501</td>\n",
       "      <td>0.030607</td>\n",
       "      <td>0.0</td>\n",
       "      <td>0.500680</td>\n",
       "      <td>0.027778</td>\n",
       "      <td>0.015625</td>\n",
       "      <td>0.000547</td>\n",
       "      <td>0.000033</td>\n",
       "      <td>0.001408</td>\n",
       "      <td>0.000737</td>\n",
       "      <td>...</td>\n",
       "      <td>0.133258</td>\n",
       "      <td>0.019231</td>\n",
       "      <td>0.000059</td>\n",
       "      <td>0.000000</td>\n",
       "      <td>0.000059</td>\n",
       "      <td>0.000059</td>\n",
       "      <td>0.999454</td>\n",
       "      <td>0.000000</td>\n",
       "      <td>0.732495</td>\n",
       "      <td>0.999454</td>\n",
       "    </tr>\n",
       "    <tr>\n",
       "      <th>51467</th>\n",
       "      <td>0.707839</td>\n",
       "      <td>0.030607</td>\n",
       "      <td>0.0</td>\n",
       "      <td>0.500697</td>\n",
       "      <td>0.027778</td>\n",
       "      <td>0.015625</td>\n",
       "      <td>0.000547</td>\n",
       "      <td>0.000033</td>\n",
       "      <td>0.001408</td>\n",
       "      <td>0.000737</td>\n",
       "      <td>...</td>\n",
       "      <td>0.133258</td>\n",
       "      <td>0.019231</td>\n",
       "      <td>0.000062</td>\n",
       "      <td>0.000000</td>\n",
       "      <td>0.000062</td>\n",
       "      <td>0.000062</td>\n",
       "      <td>0.999482</td>\n",
       "      <td>0.000000</td>\n",
       "      <td>0.732515</td>\n",
       "      <td>0.999482</td>\n",
       "    </tr>\n",
       "  </tbody>\n",
       "</table>\n",
       "<p>51467 rows × 63 columns</p>\n",
       "</div>"
      ],
      "text/plain": [
       "       Src Port  Dst Port  Protocol  Flow Duration  Tot Fwd Pkts  \\\n",
       "0      0.675820  0.030607       0.0       0.500676      0.027778   \n",
       "1      0.971803  0.030607       0.0       0.500619      0.027778   \n",
       "2      0.971803  0.030607       0.0       0.500732      0.027778   \n",
       "3      0.967374  0.030607       0.0       0.500711      0.027778   \n",
       "4      0.700146  0.006911       0.0       0.963157      0.222222   \n",
       "...         ...       ...       ...            ...           ...   \n",
       "51463  0.637665  0.030607       0.0       0.500681      0.027778   \n",
       "51464  0.867805  0.030607       0.0       0.500684      0.027778   \n",
       "51465  0.692092  0.030607       0.0       0.500621      0.027778   \n",
       "51466  0.826501  0.030607       0.0       0.500680      0.027778   \n",
       "51467  0.707839  0.030607       0.0       0.500697      0.027778   \n",
       "\n",
       "       Tot Bwd Pkts  TotLen Fwd Pkts  TotLen Bwd Pkts  Fwd Pkt Len Max  \\\n",
       "0          0.015625         0.000547         0.000033         0.001408   \n",
       "1          0.015625         0.000547         0.000033         0.001408   \n",
       "2          0.015625         0.000547         0.000033         0.001408   \n",
       "3          0.015625         0.000547         0.000033         0.001408   \n",
       "4          0.187500         0.010120         0.000203         0.026056   \n",
       "...             ...              ...              ...              ...   \n",
       "51463      0.015625         0.000547         0.000033         0.001408   \n",
       "51464      0.015625         0.000547         0.000033         0.001408   \n",
       "51465      0.015625         0.000547         0.000033         0.001408   \n",
       "51466      0.015625         0.000547         0.000033         0.001408   \n",
       "51467      0.015625         0.000547         0.000033         0.001408   \n",
       "\n",
       "       Fwd Pkt Len Mean  ...  Init Bwd Win Byts  Fwd Act Data Pkts  \\\n",
       "0              0.000737  ...           0.133258           0.019231   \n",
       "1              0.000737  ...           0.133258           0.019231   \n",
       "2              0.000737  ...           0.133258           0.019231   \n",
       "3              0.000737  ...           0.133258           0.019231   \n",
       "4              0.001704  ...           0.096556           0.019231   \n",
       "...                 ...  ...                ...                ...   \n",
       "51463          0.000737  ...           0.133258           0.019231   \n",
       "51464          0.000737  ...           0.133258           0.019231   \n",
       "51465          0.000737  ...           0.133258           0.019231   \n",
       "51466          0.000737  ...           0.133258           0.019231   \n",
       "51467          0.000737  ...           0.133258           0.019231   \n",
       "\n",
       "       Active Mean  Active Std  Active Max  Active Min  Idle Mean  Idle Std  \\\n",
       "0         0.000063    0.000000    0.000063    0.000063   0.999446  0.000000   \n",
       "1         0.000059    0.000000    0.000059    0.000059   0.999333  0.000000   \n",
       "2         0.000249    0.000000    0.000249    0.000249   0.999474  0.000000   \n",
       "3         0.000041    0.000000    0.000041    0.000041   0.999516  0.000000   \n",
       "4         0.004001    0.069072    0.087791    0.000003   0.086247  0.001058   \n",
       "...            ...         ...         ...         ...        ...       ...   \n",
       "51463     0.000059    0.000000    0.000059    0.000059   0.999455  0.000000   \n",
       "51464     0.000044    0.000000    0.000044    0.000044   0.999462  0.000000   \n",
       "51465     0.000048    0.000000    0.000048    0.000048   0.999338  0.000000   \n",
       "51466     0.000059    0.000000    0.000059    0.000059   0.999454  0.000000   \n",
       "51467     0.000062    0.000000    0.000062    0.000062   0.999482  0.000000   \n",
       "\n",
       "       Idle Max  Idle Min  \n",
       "0      0.732489  0.999446  \n",
       "1      0.732406  0.999333  \n",
       "2      0.732510  0.999474  \n",
       "3      0.732541  0.999516  \n",
       "4      0.064331  0.083183  \n",
       "...         ...       ...  \n",
       "51463  0.732496  0.999455  \n",
       "51464  0.732501  0.999462  \n",
       "51465  0.732410  0.999338  \n",
       "51466  0.732495  0.999454  \n",
       "51467  0.732515  0.999482  \n",
       "\n",
       "[51467 rows x 63 columns]"
      ]
     },
     "execution_count": 80,
     "metadata": {},
     "output_type": "execute_result"
    }
   ],
   "source": [
    "df"
   ]
  },
  {
   "cell_type": "code",
   "execution_count": 81,
   "metadata": {},
   "outputs": [],
   "source": [
    "a = clf.predict(df)"
   ]
  },
  {
   "cell_type": "code",
   "execution_count": 82,
   "metadata": {},
   "outputs": [],
   "source": [
    "df = list(df.values.tolist())"
   ]
  },
  {
   "cell_type": "code",
   "execution_count": 83,
   "metadata": {},
   "outputs": [
    {
     "data": {
      "text/plain": [
       "<sklearn.metrics._plot.confusion_matrix.ConfusionMatrixDisplay at 0x7f4c291de950>"
      ]
     },
     "execution_count": 83,
     "metadata": {},
     "output_type": "execute_result"
    },
    {
     "data": {
      "image/png": "[encoded data removed]",
      "text/plain": [
       "<Figure size 432x288 with 2 Axes>"
      ]
     },
     "metadata": {
      "needs_background": "light"
     },
     "output_type": "display_data"
    }
   ],
   "source": [
    "plot_confusion_matrix(clf, df, b)  "
   ]
  },
  {
   "cell_type": "code",
   "execution_count": 84,
   "metadata": {},
   "outputs": [
    {
     "name": "stdout",
     "output_type": "stream",
     "text": [
      "Accuracy :99.89%\n"
     ]
    }
   ],
   "source": [
    "print(\"Accuracy :{:.2f}\".format(100*accuracy_score(a, b)) + '%')"
   ]
  },
  {
   "cell_type": "code",
   "execution_count": 85,
   "metadata": {},
   "outputs": [],
   "source": [
    "test_pcap = pd.read_csv('2018-10-02-13-12-30-192.168.100.103.pcap_Flow.csv')"
   ]
  },
  {
   "cell_type": "code",
   "execution_count": 86,
   "metadata": {},
   "outputs": [],
   "source": [
    "f = test_pcap[test_pcap['Src IP'] == '192.168.100.103']"
   ]
  },
  {
   "cell_type": "code",
   "execution_count": 87,
   "metadata": {},
   "outputs": [],
   "source": [
    "test_pcap = f"
   ]
  },
  {
   "cell_type": "code",
   "execution_count": 88,
   "metadata": {},
   "outputs": [],
   "source": [
    "ip = list(test_pcap['Dst IP'])"
   ]
  },
  {
   "cell_type": "code",
   "execution_count": 89,
   "metadata": {},
   "outputs": [],
   "source": [
    "test_pcap.drop(dropped, inplace=True, axis=1)"
   ]
  },
  {
   "cell_type": "code",
   "execution_count": 90,
   "metadata": {},
   "outputs": [],
   "source": [
    "test_pcap.drop('Label', inplace=True, axis=1)"
   ]
  },
  {
   "cell_type": "code",
   "execution_count": 91,
   "metadata": {},
   "outputs": [],
   "source": [
    "column = test_pcap.columns"
   ]
  },
  {
   "cell_type": "code",
   "execution_count": 92,
   "metadata": {},
   "outputs": [],
   "source": [
    "for i in range(len(column)):\n",
    "    test_pcap[column[i]] = (test_pcap[column[i]] - min_vals[i]) / (max_vals[i] - min_vals[i]) "
   ]
  },
  {
   "cell_type": "code",
   "execution_count": 93,
   "metadata": {},
   "outputs": [],
   "source": [
    "test_pcap[test_pcap < 0] = 0"
   ]
  },
  {
   "cell_type": "code",
   "execution_count": 94,
   "metadata": {},
   "outputs": [],
   "source": [
    "test_pcap[test_pcap > 1] = 1"
   ]
  },
  {
   "cell_type": "code",
   "execution_count": 95,
   "metadata": {},
   "outputs": [],
   "source": [
    "a = clf.predict(test_pcap)"
   ]
  },
  {
   "cell_type": "code",
   "execution_count": 96,
   "metadata": {},
   "outputs": [],
   "source": [
    "a = list(a)"
   ]
  },
  {
   "cell_type": "code",
   "execution_count": 97,
   "metadata": {},
   "outputs": [],
   "source": [
    "for i in range(len(a)):\n",
    "    a[i] = int(a[i])"
   ]
  },
  {
   "cell_type": "code",
   "execution_count": 98,
   "metadata": {},
   "outputs": [
    {
     "data": {
      "text/plain": [
       "1691"
      ]
     },
     "execution_count": 98,
     "metadata": {},
     "output_type": "execute_result"
    }
   ],
   "source": [
    "a.count(0)"
   ]
  },
  {
   "cell_type": "code",
   "execution_count": 99,
   "metadata": {},
   "outputs": [
    {
     "data": {
      "text/plain": [
       "714"
      ]
     },
     "execution_count": 99,
     "metadata": {},
     "output_type": "execute_result"
    }
   ],
   "source": [
    "a.count(1)"
   ]
  },
  {
   "cell_type": "code",
   "execution_count": 100,
   "metadata": {},
   "outputs": [],
   "source": [
    "ip_dsc = []"
   ]
  },
  {
   "cell_type": "code",
   "execution_count": 101,
   "metadata": {},
   "outputs": [],
   "source": [
    "for index, item in enumerate(a):\n",
    "    if item == 1:\n",
    "        if ip[index] not in ip_dsc:\n",
    "            ip_dsc.append(ip[index])"
   ]
  },
  {
   "cell_type": "code",
   "execution_count": 102,
   "metadata": {},
   "outputs": [
    {
     "data": {
      "text/plain": [
       "['66.85.157.90']"
      ]
     },
     "execution_count": 102,
     "metadata": {},
     "output_type": "execute_result"
    }
   ],
   "source": [
    "ip_dsc"
   ]
  },
  {
   "cell_type": "code",
   "execution_count": 103,
   "metadata": {},
   "outputs": [
    {
     "name": "stdout",
     "output_type": "stream",
     "text": [
      "Possible Botnet IP: \n",
      "66.85.157.90\n"
     ]
    }
   ],
   "source": [
    "print(\"Possible Botnet IP: \")\n",
    "for i in ip_dsc:\n",
    "    print(i)"
   ]
  },
  {
   "cell_type": "markdown",
   "metadata": {},
   "source": [
    "### test pcap: https://mcfp.felk.cvut.cz/publicDatasets/IoT-23-Dataset/IndividualScenarios/CTU-IoT-Malware-Capture-20-1/"
   ]
  },
  {
   "cell_type": "markdown",
   "metadata": {},
   "source": [
    "### Label file to check: https://mcfp.felk.cvut.cz/publicDatasets/IoT-23-Dataset/IndividualScenarios/CTU-IoT-Malware-Capture-20-1/bro/conn.log.labeled"
   ]
  },
  {
   "cell_type": "code",
   "execution_count": null,
   "metadata": {},
   "outputs": [],
   "source": []
  }
 ],
 "metadata": {
  "kernelspec": {
   "display_name": "Python 3",
   "language": "python",
   "name": "python3"
  },
  "language_info": {
   "codemirror_mode": {
    "name": "ipython",
    "version": 3
   },
   "file_extension": ".py",
   "mimetype": "text/x-python",
   "name": "python",
   "nbconvert_exporter": "python",
   "pygments_lexer": "ipython3",
   "version": "3.7.5"
  }
 },
 "nbformat": 4,
 "nbformat_minor": 4
}
